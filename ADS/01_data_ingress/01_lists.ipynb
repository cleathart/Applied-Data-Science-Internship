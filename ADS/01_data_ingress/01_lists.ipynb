{
 "cells": [
  {
   "cell_type": "markdown",
   "metadata": {},
   "source": [
    "# Basics of lists"
   ]
  },
  {
   "cell_type": "code",
   "execution_count": 1,
   "metadata": {},
   "outputs": [
    {
     "name": "stdout",
     "output_type": "stream",
     "text": [
      "[]\n",
      "[]\n"
     ]
    }
   ],
   "source": [
    "l1 = list() \n",
    "l2 = []\n",
    "\n",
    "print l1\n",
    "print l2"
   ]
  },
  {
   "cell_type": "markdown",
   "metadata": {},
   "source": [
    "The length of a list is acquired by the `len` functino: "
   ]
  },
  {
   "cell_type": "code",
   "execution_count": 2,
   "metadata": {},
   "outputs": [
    {
     "name": "stdout",
     "output_type": "stream",
     "text": [
      "0\n",
      "0\n"
     ]
    }
   ],
   "source": [
    "print len(l1)\n",
    "print len(l2)"
   ]
  },
  {
   "cell_type": "markdown",
   "metadata": {},
   "source": [
    "Lists can be initialised if its values are known at run time: "
   ]
  },
  {
   "cell_type": "code",
   "execution_count": 3,
   "metadata": {},
   "outputs": [
    {
     "name": "stdout",
     "output_type": "stream",
     "text": [
      "[1, 2, 3]\n",
      "3\n"
     ]
    }
   ],
   "source": [
    "l3 = [1, 2, 3]\n",
    "print l3\n",
    "print len(l3)"
   ]
  },
  {
   "cell_type": "markdown",
   "metadata": {},
   "source": [
    "## Appending and extending lists"
   ]
  },
  {
   "cell_type": "code",
   "execution_count": 4,
   "metadata": {},
   "outputs": [
    {
     "name": "stdout",
     "output_type": "stream",
     "text": [
      "[1]\n",
      "[1, 10]\n"
     ]
    }
   ],
   "source": [
    "l1.append(1)\n",
    "print l1\n",
    "l1.append(10)\n",
    "print l1"
   ]
  },
  {
   "cell_type": "code",
   "execution_count": 5,
   "metadata": {},
   "outputs": [
    {
     "name": "stdout",
     "output_type": "stream",
     "text": [
      "[100]\n"
     ]
    }
   ],
   "source": [
    "l2.append(100)\n",
    "print l2 "
   ]
  },
  {
   "cell_type": "code",
   "execution_count": 6,
   "metadata": {},
   "outputs": [
    {
     "name": "stdout",
     "output_type": "stream",
     "text": [
      "[1, 10]\n",
      "[100]\n",
      "[1, 10, 100]\n"
     ]
    }
   ],
   "source": [
    "print l1\n",
    "print l2\n",
    "print l1 + l2"
   ]
  },
  {
   "cell_type": "markdown",
   "metadata": {},
   "source": [
    "Note that the `+` operator does not modify the lists inplace, rather it \n",
    "constructs a new list from the values of `l1` and `l2`. \n",
    "\n",
    "If inplace extension is required, the `.extend` member function should be used: "
   ]
  },
  {
   "cell_type": "code",
   "execution_count": 7,
   "metadata": {},
   "outputs": [
    {
     "name": "stdout",
     "output_type": "stream",
     "text": [
      "[1, 10, 100]\n",
      "[100]\n"
     ]
    }
   ],
   "source": [
    "l1.extend(l2)\n",
    "print l1\n",
    "print l2"
   ]
  },
  {
   "cell_type": "markdown",
   "metadata": {},
   "source": [
    "Items can be removed from the lists too, with the pop function. \n",
    "When called, the `pop` function removes the last element of the list. \n",
    "If an argument is passed into the `pop` function, the element contained \n",
    "at that position in the list is removed, e.g. "
   ]
  },
  {
   "cell_type": "code",
   "execution_count": 8,
   "metadata": {},
   "outputs": [
    {
     "name": "stdout",
     "output_type": "stream",
     "text": [
      "[0, 2, 3, 4, 5, 6]\n",
      "[0, 2, 3, 4, 5]\n"
     ]
    }
   ],
   "source": [
    "l2 = [0, 1, 2, 3, 4, 5, 6]\n",
    "\n",
    "l2.pop(1)\n",
    "print l2\n",
    "\n",
    "l2.pop()\n",
    "print l2"
   ]
  },
  {
   "cell_type": "code",
   "execution_count": 9,
   "metadata": {},
   "outputs": [
    {
     "name": "stdout",
     "output_type": "stream",
     "text": [
      "[1, 10, 100]\n"
     ]
    }
   ],
   "source": [
    "print l1 "
   ]
  },
  {
   "cell_type": "markdown",
   "metadata": {},
   "source": [
    "# List comprehension\n",
    "\n",
    "A powerful feature of the python language is that iteration over \n",
    "iterables can be done concisely in one line using *list comprehension*. \n",
    "This technique allows copies, transformation, and filtering of lists, as follows: "
   ]
  },
  {
   "cell_type": "code",
   "execution_count": 10,
   "metadata": {},
   "outputs": [
    {
     "name": "stdout",
     "output_type": "stream",
     "text": [
      "[-2, -1, 0, 1, 2]\n",
      "5\n"
     ]
    }
   ],
   "source": [
    "l3 = [-2, -1, 0, 1, 2]\n",
    "print l3\n",
    "print len(l3)"
   ]
  },
  {
   "cell_type": "code",
   "execution_count": 11,
   "metadata": {},
   "outputs": [
    {
     "name": "stdout",
     "output_type": "stream",
     "text": [
      "[-2, -1, 0, 1, 2]\n"
     ]
    }
   ],
   "source": [
    "print [el for el in l3]"
   ]
  },
  {
   "cell_type": "code",
   "execution_count": 12,
   "metadata": {},
   "outputs": [
    {
     "name": "stdout",
     "output_type": "stream",
     "text": [
      "[1, 2]\n"
     ]
    }
   ],
   "source": [
    "# Return the positive elements \n",
    "print [el for el in l3 if el > 0]"
   ]
  },
  {
   "cell_type": "code",
   "execution_count": 13,
   "metadata": {},
   "outputs": [
    {
     "name": "stdout",
     "output_type": "stream",
     "text": [
      "[-2, -1]\n"
     ]
    }
   ],
   "source": [
    "# Return the negative elements \n",
    "print [el for el in l3 if el < 0]"
   ]
  },
  {
   "cell_type": "code",
   "execution_count": 14,
   "metadata": {},
   "outputs": [
    {
     "name": "stdout",
     "output_type": "stream",
     "text": [
      "[-4, -2, 0, 2, 4]\n"
     ]
    }
   ],
   "source": [
    "# Multiply the elements by two\n",
    "print [el * 2 for el in l3]"
   ]
  },
  {
   "cell_type": "code",
   "execution_count": 15,
   "metadata": {},
   "outputs": [
    {
     "name": "stdout",
     "output_type": "stream",
     "text": [
      "[-4, -2, 0, 2]\n"
     ]
    }
   ],
   "source": [
    "# Multiply filtered elements by two\n",
    "print [el * 2 for el in l3 if el <= 1]"
   ]
  },
  {
   "cell_type": "markdown",
   "metadata": {},
   "source": [
    "# Filtering and mapping from in-build functions\n",
    "\n",
    "The operations above can also be achieved with the builtin `filter` and `map` functions.\n",
    "The above operations are demonstrated below"
   ]
  },
  {
   "cell_type": "code",
   "execution_count": 16,
   "metadata": {},
   "outputs": [
    {
     "name": "stdout",
     "output_type": "stream",
     "text": [
      "[-2, -1, 0, 1, 2]\n",
      "[1, 2]\n"
     ]
    }
   ],
   "source": [
    "def is_positive(el): \n",
    "    return el > 0\n",
    "\n",
    "print l3\n",
    "print filter(is_positive, l3)"
   ]
  },
  {
   "cell_type": "markdown",
   "metadata": {},
   "source": [
    "Anonymous inline functions (`lambda`s) can be used if the `is_positive` function isn't available"
   ]
  },
  {
   "cell_type": "code",
   "execution_count": 17,
   "metadata": {},
   "outputs": [
    {
     "name": "stdout",
     "output_type": "stream",
     "text": [
      "[1, 2]\n"
     ]
    }
   ],
   "source": [
    "# Return the positive elements\n",
    "print filter(lambda el: el > 0, l3)"
   ]
  },
  {
   "cell_type": "code",
   "execution_count": 18,
   "metadata": {},
   "outputs": [
    {
     "name": "stdout",
     "output_type": "stream",
     "text": [
      "[-2, -1, 0]\n"
     ]
    }
   ],
   "source": [
    "# Return the non-positive elements\n",
    "print filter(lambda el: el <= 0, l3)"
   ]
  },
  {
   "cell_type": "code",
   "execution_count": 19,
   "metadata": {},
   "outputs": [
    {
     "name": "stdout",
     "output_type": "stream",
     "text": [
      "[-2, 2]\n"
     ]
    }
   ],
   "source": [
    "# Return elements outside of a range\n",
    "print filter(lambda el: el < -1 or el > 1, l3) "
   ]
  },
  {
   "cell_type": "code",
   "execution_count": 20,
   "metadata": {},
   "outputs": [
    {
     "name": "stdout",
     "output_type": "stream",
     "text": [
      "[-1, 0, 1]\n"
     ]
    }
   ],
   "source": [
    "# Return the elements found within a range (note the mathematical notation)\n",
    "print filter(lambda el: -1 <= el <= 1, l3)"
   ]
  },
  {
   "cell_type": "markdown",
   "metadata": {},
   "source": [
    "## Mapping functions to lists\n",
    "\n",
    "The `map` function takes a function pointer and iterables as parameters. \n",
    "The following replicates the list comprehension mapping methods described \n",
    "earlier"
   ]
  },
  {
   "cell_type": "code",
   "execution_count": 21,
   "metadata": {},
   "outputs": [
    {
     "name": "stdout",
     "output_type": "stream",
     "text": [
      "[2, 1, 0, 1, 2]\n"
     ]
    }
   ],
   "source": [
    "print [abs(el) for el in l3]"
   ]
  },
  {
   "cell_type": "code",
   "execution_count": 22,
   "metadata": {},
   "outputs": [
    {
     "name": "stdout",
     "output_type": "stream",
     "text": [
      "[2, 1, 0, 1, 2]\n"
     ]
    }
   ],
   "source": [
    "print map(abs, l3)"
   ]
  },
  {
   "cell_type": "code",
   "execution_count": 23,
   "metadata": {},
   "outputs": [
    {
     "name": "stdout",
     "output_type": "stream",
     "text": [
      "[-1, 0, 1, 2, 3]\n"
     ]
    }
   ],
   "source": [
    "def add_one(item): \n",
    "    return item + 1\n",
    "\n",
    "print map(add_one, l3)"
   ]
  },
  {
   "cell_type": "markdown",
   "metadata": {},
   "source": [
    "`map` and `filter` commands may be nested: "
   ]
  },
  {
   "cell_type": "code",
   "execution_count": 24,
   "metadata": {},
   "outputs": [
    {
     "name": "stdout",
     "output_type": "stream",
     "text": [
      "[-4, -2, 0, 2]\n"
     ]
    }
   ],
   "source": [
    "print map(lambda el: el * 2, filter(lambda el: el <= 1, l3))"
   ]
  },
  {
   "cell_type": "markdown",
   "metadata": {},
   "source": [
    "The `map` function is very powerful, and makes type conversion very easy: "
   ]
  },
  {
   "cell_type": "code",
   "execution_count": 25,
   "metadata": {},
   "outputs": [
    {
     "name": "stdout",
     "output_type": "stream",
     "text": [
      "Integer array: [-2, -1, 0, 1, 2]\n",
      "  Float array: [-2.0, -1.0, 0.0, 1.0, 2.0]\n",
      "Boolean array: [True, True, False, True, True]\n"
     ]
    }
   ],
   "source": [
    "print 'Integer array:', map(int, l3)\n",
    "print '  Float array:', map(float, l3)\n",
    "print 'Boolean array:', map(bool, l3)"
   ]
  },
  {
   "cell_type": "markdown",
   "metadata": {},
   "source": [
    "## Iterating through multiple lists\n",
    "\n",
    "The `zip` command takes as arguments a number of lists, and iterates through these \n",
    "until the shortest list is traversed. This function therefore aligns lists together. \n",
    "Consider the following examples: "
   ]
  },
  {
   "cell_type": "code",
   "execution_count": 26,
   "metadata": {},
   "outputs": [
    {
     "name": "stdout",
     "output_type": "stream",
     "text": [
      "l3: [-2, -1, 0, 1, 2]\n",
      "l4: [1, 2, 3]\n"
     ]
    }
   ],
   "source": [
    "l4 = [1, 2, 3]\n",
    "\n",
    "print 'l3:', l3\n",
    "print 'l4:', l4"
   ]
  },
  {
   "cell_type": "code",
   "execution_count": 27,
   "metadata": {},
   "outputs": [
    {
     "name": "stdout",
     "output_type": "stream",
     "text": [
      "-2 1\n",
      "-1 2\n",
      "0 3\n"
     ]
    }
   ],
   "source": [
    "for el3, el4 in zip(l3, l4): \n",
    "    print el3, el4"
   ]
  },
  {
   "cell_type": "code",
   "execution_count": 28,
   "metadata": {},
   "outputs": [
    {
     "name": "stdout",
     "output_type": "stream",
     "text": [
      "[-2, -1, 0, 1, 2, 1, 2, 3]\n"
     ]
    }
   ],
   "source": [
    "l5 = l3 + l4\n",
    "print l5"
   ]
  },
  {
   "cell_type": "code",
   "execution_count": 29,
   "metadata": {},
   "outputs": [
    {
     "name": "stdout",
     "output_type": "stream",
     "text": [
      "-2 1 -2\n",
      "-1 2 -1\n",
      "0 3 0\n"
     ]
    }
   ],
   "source": [
    "for el3, el4, el5 in zip(l3, l4, l5): \n",
    "    print el3, el4, el5"
   ]
  },
  {
   "cell_type": "markdown",
   "metadata": {},
   "source": [
    "Note, if more than one iterable is passed into `map`. \n",
    "\n",
    "A simplified implementation of map that takes two iterables is given here\n",
    "\n",
    "```python\n",
    "def map_two(func, iterable1, iterable2): \n",
    "    out = []\n",
    "    for iter1, iter2 in zip(iterable1, iterable2): \n",
    "        out.append(func(iter1, iter2))\n",
    "    return out\n",
    "```\n",
    "\n",
    "Note that `map` copes with 'jagged' iterables in the following way: \n",
    "when iterables are not of same length, `map` will pad the shorter \n",
    "lists with `None`. The returned `list` is therefore always of the \n",
    "same length as the longest iterable. "
   ]
  },
  {
   "cell_type": "code",
   "execution_count": 30,
   "metadata": {},
   "outputs": [
    {
     "name": "stdout",
     "output_type": "stream",
     "text": [
      "[5, 8, 9, None, None]\n",
      "[False, False, False, True, True]\n"
     ]
    }
   ],
   "source": [
    "def add(l, r): \n",
    "    try:\n",
    "        return l * r\n",
    "    \n",
    "    except TypeError: \n",
    "        # Addition of `None` type is not defined\n",
    "        return None \n",
    "\n",
    "def is_None(l, r): \n",
    "    return l is None or r is None\n",
    "\n",
    "l5 = [5, 4, 3, 2, 1]\n",
    "\n",
    "print map(add, l4, l5)\n",
    "print map(is_None, l4, l5)"
   ]
  },
  {
   "cell_type": "markdown",
   "metadata": {},
   "source": [
    "# Retreiving the position in the list\n",
    "\n",
    "The `for` loops that we have considered iterate over the data elements. \n",
    "It is often convenient to also have access to the position in the sequence \n",
    "during the iteration. The `enumerate` function provides this: "
   ]
  },
  {
   "cell_type": "code",
   "execution_count": 31,
   "metadata": {},
   "outputs": [
    {
     "name": "stdout",
     "output_type": "stream",
     "text": [
      "0 1\n",
      "1 10\n",
      "2 100\n"
     ]
    }
   ],
   "source": [
    "for index, value in enumerate(l1): \n",
    "    print index, value"
   ]
  },
  {
   "cell_type": "markdown",
   "metadata": {},
   "source": [
    "This can also be used in conjunction with the `zip` function: "
   ]
  },
  {
   "cell_type": "code",
   "execution_count": 32,
   "metadata": {},
   "outputs": [
    {
     "name": "stdout",
     "output_type": "stream",
     "text": [
      "0 (-2, 1, 5)\n",
      "1 (-1, 2, 4)\n",
      "2 (0, 3, 3)\n"
     ]
    }
   ],
   "source": [
    "for index, (el3, el4, el5) in enumerate(zip(l3, l4, l5)): \n",
    "    print index, (el3, el4, el5)"
   ]
  },
  {
   "cell_type": "markdown",
   "metadata": {},
   "source": [
    "In many applications, it is helpful for the index variable to be offset\n",
    "by a particular value. This can be achieved with the `enumerate` function\n",
    "by passing an optional argument to the function. In this example we start\n",
    "the indexing with an offset of 100. "
   ]
  },
  {
   "cell_type": "code",
   "execution_count": 33,
   "metadata": {},
   "outputs": [
    {
     "name": "stdout",
     "output_type": "stream",
     "text": [
      "100 (-2, 1, 5)\n",
      "101 (-1, 2, 4)\n",
      "102 (0, 3, 3)\n"
     ]
    }
   ],
   "source": [
    "for index, (el3, el4, el5) in enumerate(zip(l3, l4, l5), start=100): \n",
    "    print index, (el3, el4, el5)"
   ]
  },
  {
   "cell_type": "code",
   "execution_count": null,
   "metadata": {
    "collapsed": true
   },
   "outputs": [],
   "source": []
  },
  {
   "cell_type": "code",
   "execution_count": null,
   "metadata": {
    "collapsed": true
   },
   "outputs": [],
   "source": []
  }
 ],
 "metadata": {
  "kernelspec": {
   "display_name": "Python 2",
   "language": "python",
   "name": "python2"
  },
  "language_info": {
   "codemirror_mode": {
    "name": "ipython",
    "version": 2
   },
   "file_extension": ".py",
   "mimetype": "text/x-python",
   "name": "python",
   "nbconvert_exporter": "python",
   "pygments_lexer": "ipython2",
   "version": "2.7.12"
  }
 },
 "nbformat": 4,
 "nbformat_minor": 1
}
