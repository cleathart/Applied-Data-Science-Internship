{
 "cells": [
  {
   "cell_type": "markdown",
   "metadata": {
    "collapsed": false,
    "deletable": true,
    "editable": true
   },
   "source": [
    "# Define simple printing functions"
   ]
  },
  {
   "cell_type": "code",
   "execution_count": 1,
   "metadata": {
    "collapsed": true,
    "deletable": true,
    "editable": true
   },
   "outputs": [],
   "source": [
    "import json \n",
    "def print_dict(dd): \n",
    "    print json.dumps(dd, indent=2)"
   ]
  },
  {
   "cell_type": "markdown",
   "metadata": {
    "deletable": true,
    "editable": true
   },
   "source": [
    "# Constructing and allocating dictionaries \n",
    "\n",
    "The syntax for dictionaries is that `{}` indicates an empty dictionary"
   ]
  },
  {
   "cell_type": "code",
   "execution_count": 2,
   "metadata": {
    "collapsed": false,
    "deletable": true,
    "editable": true
   },
   "outputs": [
    {
     "name": "stdout",
     "output_type": "stream",
     "text": [
      "{}\n",
      "{}\n"
     ]
    }
   ],
   "source": [
    "d1 = dict() \n",
    "d2 = {}\n",
    "\n",
    "print_dict(d1)\n",
    "print_dict(d2)"
   ]
  },
  {
   "cell_type": "markdown",
   "metadata": {
    "deletable": true,
    "editable": true
   },
   "source": [
    "There are multiple ways to construct a dictionary when the key/value pairs are known beforehand. The following two snippets are equivalent. "
   ]
  },
  {
   "cell_type": "code",
   "execution_count": 3,
   "metadata": {
    "collapsed": false,
    "deletable": true,
    "editable": true
   },
   "outputs": [
    {
     "name": "stdout",
     "output_type": "stream",
     "text": [
      "{\n",
      "  \"two\": 2, \n",
      "  \"one\": 1\n",
      "}\n"
     ]
    }
   ],
   "source": [
    "d3 = {\n",
    "    'one': 1, \n",
    "    'two': 2\n",
    "}\n",
    "\n",
    "print_dict(d3)"
   ]
  },
  {
   "cell_type": "code",
   "execution_count": 4,
   "metadata": {
    "collapsed": false,
    "deletable": true,
    "editable": true
   },
   "outputs": [
    {
     "name": "stdout",
     "output_type": "stream",
     "text": [
      "{\n",
      "  \"two\": 2, \n",
      "  \"one\": 1\n",
      "}\n"
     ]
    }
   ],
   "source": [
    "d4 = dict(one=1, two=2)\n",
    "\n",
    "print_dict(d4)"
   ]
  },
  {
   "cell_type": "markdown",
   "metadata": {
    "deletable": true,
    "editable": true
   },
   "source": [
    "Often an ordered list of keys and values are available as lists, and \n",
    "it is desirable to create a dictionary from these lists. There are a \n",
    "number of ways to do this, including: "
   ]
  },
  {
   "cell_type": "code",
   "execution_count": 5,
   "metadata": {
    "collapsed": false,
    "deletable": true,
    "editable": true
   },
   "outputs": [
    {
     "name": "stdout",
     "output_type": "stream",
     "text": [
      "{\n",
      "  \"three\": 3, \n",
      "  \"two\": 2, \n",
      "  \"one\": 1\n",
      "}\n"
     ]
    }
   ],
   "source": [
    "keys = ['one', 'two', 'three']\n",
    "values = [1, 2, 3]\n",
    "\n",
    "d5 = {key: value for key, value in zip(keys, values)}\n",
    "print_dict(d5)"
   ]
  },
  {
   "cell_type": "markdown",
   "metadata": {
    "deletable": true,
    "editable": true
   },
   "source": [
    "# Adding new data to the dict"
   ]
  },
  {
   "cell_type": "code",
   "execution_count": 6,
   "metadata": {
    "collapsed": false,
    "deletable": true,
    "editable": true
   },
   "outputs": [
    {
     "name": "stdout",
     "output_type": "stream",
     "text": [
      "{\n",
      "  \"key_1\": 1, \n",
      "  \"key_2\": false\n",
      "}\n"
     ]
    }
   ],
   "source": [
    "d1['key_1'] = 1\n",
    "d1['key_2'] = False\n",
    "\n",
    "print_dict(d1)"
   ]
  },
  {
   "cell_type": "markdown",
   "metadata": {
    "deletable": true,
    "editable": true
   },
   "source": [
    "Dictionaries are a dynamic data type, and any object can be used as a value type, including `integers`, `float`s, `list`s, and other `dict`s, for example: "
   ]
  },
  {
   "cell_type": "code",
   "execution_count": 7,
   "metadata": {
    "collapsed": false,
    "deletable": true,
    "editable": true
   },
   "outputs": [
    {
     "name": "stdout",
     "output_type": "stream",
     "text": [
      "{\n",
      "  \"list_key\": [\n",
      "    1, \n",
      "    2, \n",
      "    3\n",
      "  ], \n",
      "  \"key_1\": 1, \n",
      "  \"key_2\": false\n",
      "}\n"
     ]
    }
   ],
   "source": [
    "d1['list_key'] = [1, 2, 3]\n",
    "print_dict(d1)"
   ]
  },
  {
   "cell_type": "code",
   "execution_count": 8,
   "metadata": {
    "collapsed": false,
    "deletable": true,
    "editable": true
   },
   "outputs": [
    {
     "name": "stdout",
     "output_type": "stream",
     "text": [
      "{\n",
      "  \"list_key\": [\n",
      "    1, \n",
      "    2, \n",
      "    3\n",
      "  ], \n",
      "  \"key_1\": 1, \n",
      "  \"dict_key\": {\n",
      "    \"two\": 2, \n",
      "    \"one\": 1\n",
      "  }, \n",
      "  \"key_2\": false\n",
      "}\n"
     ]
    }
   ],
   "source": [
    "d1['dict_key'] = {'one': 1, 'two': 2}\n",
    "print_dict(d1)"
   ]
  },
  {
   "cell_type": "code",
   "execution_count": 9,
   "metadata": {
    "collapsed": false,
    "deletable": true,
    "editable": true
   },
   "outputs": [
    {
     "name": "stdout",
     "output_type": "stream",
     "text": [
      "{\n",
      "  \"list_key\": [\n",
      "    1, \n",
      "    2, \n",
      "    3\n",
      "  ], \n",
      "  \"dict_key\": {\n",
      "    \"two\": 2, \n",
      "    \"one\": 1\n",
      "  }, \n",
      "  \"key_2\": false\n",
      "}\n"
     ]
    }
   ],
   "source": [
    "del d1['key_1']\n",
    "print_dict(d1)"
   ]
  },
  {
   "cell_type": "markdown",
   "metadata": {
    "deletable": true,
    "editable": true
   },
   "source": [
    "# Accessing the data\n",
    "\n",
    "It is always possible to get access to the key/value pairs that are contained in the dictionary, and the following \n",
    "functions help with this: "
   ]
  },
  {
   "cell_type": "code",
   "execution_count": 10,
   "metadata": {
    "collapsed": false,
    "deletable": true,
    "editable": true
   },
   "outputs": [
    {
     "name": "stdout",
     "output_type": "stream",
     "text": [
      "['list_key', 'dict_key', 'key_2']\n"
     ]
    }
   ],
   "source": [
    "print d1.keys() "
   ]
  },
  {
   "cell_type": "code",
   "execution_count": 11,
   "metadata": {
    "collapsed": false,
    "deletable": true,
    "editable": true
   },
   "outputs": [
    {
     "name": "stdout",
     "output_type": "stream",
     "text": [
      "list_key\n",
      "dict_key\n",
      "key_2\n"
     ]
    }
   ],
   "source": [
    "for item in d1:\n",
    "    print item"
   ]
  },
  {
   "cell_type": "code",
   "execution_count": 12,
   "metadata": {
    "collapsed": false,
    "deletable": true,
    "editable": true
   },
   "outputs": [
    {
     "data": {
      "text/plain": [
       "1"
      ]
     },
     "execution_count": 12,
     "metadata": {},
     "output_type": "execute_result"
    }
   ],
   "source": [
    "d1['dict_key']['one']"
   ]
  },
  {
   "cell_type": "markdown",
   "metadata": {
    "deletable": true,
    "editable": true
   },
   "source": [
    "# Iterating over key/values \n",
    "The following two cells are nearly equivalent. \n",
    "In order to understand how they differ, it will be helpful to confer with Python documentation on iterators and generators\n",
    "http://anandology.com/python-practice-book/iterators.html"
   ]
  },
  {
   "cell_type": "code",
   "execution_count": 13,
   "metadata": {
    "collapsed": false,
    "deletable": true,
    "editable": true
   },
   "outputs": [
    {
     "name": "stdout",
     "output_type": "stream",
     "text": [
      "list_key [1, 2, 3]\n",
      "dict_key {'two': 2, 'one': 1}\n",
      "key_2 False\n"
     ]
    }
   ],
   "source": [
    "for key, value in d1.items(): \n",
    "    print key, value"
   ]
  },
  {
   "cell_type": "code",
   "execution_count": 14,
   "metadata": {
    "collapsed": false,
    "deletable": true,
    "editable": true
   },
   "outputs": [
    {
     "name": "stdout",
     "output_type": "stream",
     "text": [
      "list_key [1, 2, 3]\n",
      "dict_key {'two': 2, 'one': 1}\n",
      "key_2 False\n"
     ]
    }
   ],
   "source": [
    "for key, value in d1.iteritems(): \n",
    "    print key, value "
   ]
  },
  {
   "cell_type": "code",
   "execution_count": 15,
   "metadata": {
    "collapsed": false,
    "deletable": true,
    "editable": true
   },
   "outputs": [
    {
     "name": "stdout",
     "output_type": "stream",
     "text": [
      "['list_key', 'dict_key', 'key_2']\n",
      "[[1, 2, 3], {'two': 2, 'one': 1}, False]\n"
     ]
    }
   ],
   "source": [
    "print d1.keys() \n",
    "print d1.values() "
   ]
  },
  {
   "cell_type": "markdown",
   "metadata": {
    "deletable": true,
    "editable": true
   },
   "source": [
    "# Filtering and mapping dictionaries "
   ]
  },
  {
   "cell_type": "code",
   "execution_count": 16,
   "metadata": {
    "collapsed": false,
    "deletable": true,
    "editable": true
   },
   "outputs": [
    {
     "name": "stdout",
     "output_type": "stream",
     "text": [
      "All dictionary elements:\n",
      "[('dict_key', {'two': 2, 'one': 1})]\n"
     ]
    }
   ],
   "source": [
    "def dict_only((key, value)): \n",
    "    return type(value) is dict\n",
    "\n",
    "print 'All dictionary elements:'\n",
    "print filter(dict_only, d1.items())"
   ]
  },
  {
   "cell_type": "code",
   "execution_count": 17,
   "metadata": {
    "collapsed": false,
    "deletable": true,
    "editable": true
   },
   "outputs": [
    {
     "name": "stdout",
     "output_type": "stream",
     "text": [
      "Same as above, but with inline function (lambda):\n",
      "[('dict_key', {'two': 2, 'one': 1})]\n"
     ]
    }
   ],
   "source": [
    "print 'Same as above, but with inline function (lambda):'\n",
    "print filter(lambda (key, value): type(value) is dict, d1.items())"
   ]
  },
  {
   "cell_type": "code",
   "execution_count": null,
   "metadata": {
    "collapsed": false,
    "deletable": true,
    "editable": true
   },
   "outputs": [],
   "source": []
  },
  {
   "cell_type": "code",
   "execution_count": null,
   "metadata": {
    "collapsed": true,
    "deletable": true,
    "editable": true
   },
   "outputs": [],
   "source": []
  },
  {
   "cell_type": "code",
   "execution_count": null,
   "metadata": {
    "collapsed": true,
    "deletable": true,
    "editable": true
   },
   "outputs": [],
   "source": []
  },
  {
   "cell_type": "code",
   "execution_count": null,
   "metadata": {
    "collapsed": true,
    "deletable": true,
    "editable": true
   },
   "outputs": [],
   "source": []
  },
  {
   "cell_type": "code",
   "execution_count": null,
   "metadata": {
    "collapsed": true,
    "deletable": true,
    "editable": true
   },
   "outputs": [],
   "source": []
  },
  {
   "cell_type": "code",
   "execution_count": null,
   "metadata": {
    "collapsed": true,
    "deletable": true,
    "editable": true
   },
   "outputs": [],
   "source": []
  },
  {
   "cell_type": "code",
   "execution_count": null,
   "metadata": {
    "collapsed": true,
    "deletable": true,
    "editable": true
   },
   "outputs": [],
   "source": []
  },
  {
   "cell_type": "code",
   "execution_count": null,
   "metadata": {
    "collapsed": true,
    "deletable": true,
    "editable": true
   },
   "outputs": [],
   "source": []
  },
  {
   "cell_type": "code",
   "execution_count": null,
   "metadata": {
    "collapsed": true,
    "deletable": true,
    "editable": true
   },
   "outputs": [],
   "source": []
  },
  {
   "cell_type": "code",
   "execution_count": null,
   "metadata": {
    "collapsed": true,
    "deletable": true,
    "editable": true
   },
   "outputs": [],
   "source": []
  },
  {
   "cell_type": "code",
   "execution_count": null,
   "metadata": {
    "collapsed": true,
    "deletable": true,
    "editable": true
   },
   "outputs": [],
   "source": []
  },
  {
   "cell_type": "code",
   "execution_count": null,
   "metadata": {
    "collapsed": true,
    "deletable": true,
    "editable": true
   },
   "outputs": [],
   "source": []
  }
 ],
 "metadata": {
  "kernelspec": {
   "display_name": "Python 2",
   "language": "python",
   "name": "python2"
  },
  "language_info": {
   "codemirror_mode": {
    "name": "ipython",
    "version": 2
   },
   "file_extension": ".py",
   "mimetype": "text/x-python",
   "name": "python",
   "nbconvert_exporter": "python",
   "pygments_lexer": "ipython2",
   "version": "2.7.12"
  }
 },
 "nbformat": 4,
 "nbformat_minor": 0
}
