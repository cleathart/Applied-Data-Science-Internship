{
 "cells": [
  {
   "cell_type": "markdown",
   "metadata": {},
   "source": [
    "# The Guardian API\n",
    "\n",
    "In the `beautiful_soup.ipynb` notebook, I showed how BeautifulSoup can be used \n",
    "to parse messy HTML, tp extract information, and to act as a rudimentary web crawler. \n",
    "I used The Guardian as an illustrative example about how this can be achieved. \n",
    "The reason for choosing The Guardian was because they provide a REST API to their servers. \n",
    "With theise it is possible to perform specific queries on their servers, and to receive \n",
    "current information from their servers according to their API guide (ie in JSON)\n",
    "\n",
    "http://open-platform.theguardian.com/\n",
    "\n",
    "In order to use their API, you will need to register for an API key. \n",
    "At the time of writing (Feb 1, 2017) this was an automated process that can be completed at \n",
    "\n",
    "http://open-platform.theguardian.com/access/\n",
    "\n",
    "The API is documented here: \n",
    "\n",
    "http://open-platform.theguardian.com/documentation/\n",
    "\n",
    "and Python bindings to their API are provided by The Guardian here\n",
    "\n",
    "https://github.com/prabhath6/theguardian-api-python\n",
    "\n",
    "and these can easily be integrated into a web-crawler based on API calls, rather than being based \n",
    "on HTML parsing, etc. \n",
    "\n",
    "We use four parameters in our queries here: \n",
    "\n",
    "1. `section`: the section of the newspaper that we are interested in querying. In this case I'm lookin in \n",
    "the technology section \n",
    "\n",
    "2. `order-by`: I have specifie that the newest items should be closer to the front of the query list \n",
    "\n",
    "3. `api-key`: I have left this as test (which works here), but for *real* deployment of such a spider\n",
    "a real API key should be specified \n",
    "\n",
    "4. `page-size`: The number of results to return. "
   ]
  },
  {
   "cell_type": "code",
   "execution_count": 1,
   "metadata": {
    "collapsed": true
   },
   "outputs": [],
   "source": [
    "import requests \n",
    "import json "
   ]
  },
  {
   "cell_type": "markdown",
   "metadata": {},
   "source": [
    "# Inspect all sections and search for technology-based sections"
   ]
  },
  {
   "cell_type": "code",
   "execution_count": 2,
   "metadata": {},
   "outputs": [],
   "source": [
    "url = 'https://content.guardianapis.com/sections?api-key=test'\n",
    "req = requests.get(url)\n",
    "src = req.text "
   ]
  },
  {
   "cell_type": "code",
   "execution_count": 3,
   "metadata": {},
   "outputs": [
    {
     "name": "stdout",
     "output_type": "stream",
     "text": [
      "[u'status', u'userTier', u'total', u'results']\n"
     ]
    }
   ],
   "source": [
    "sections = json.loads(src)['response']\n",
    "\n",
    "print sections.keys()"
   ]
  },
  {
   "cell_type": "code",
   "execution_count": 4,
   "metadata": {},
   "outputs": [
    {
     "name": "stdout",
     "output_type": "stream",
     "text": [
      "{\n",
      "  \"apiUrl\": \"https://content.guardianapis.com/artanddesign\", \n",
      "  \"editions\": [\n",
      "    {\n",
      "      \"apiUrl\": \"https://content.guardianapis.com/artanddesign\", \n",
      "      \"code\": \"default\", \n",
      "      \"id\": \"artanddesign\", \n",
      "      \"webTitle\": \"Art and design\", \n",
      "      \"webUrl\": \"https://www.theguardian.com/artanddesign\"\n",
      "    }\n",
      "  ], \n",
      "  \"id\": \"artanddesign\", \n",
      "  \"webTitle\": \"Art and design\", \n",
      "  \"webUrl\": \"https://www.theguardian.com/artanddesign\"\n",
      "}\n"
     ]
    }
   ],
   "source": [
    "print json.dumps(sections['results'][0], indent=2, sort_keys=True)"
   ]
  },
  {
   "cell_type": "code",
   "execution_count": 5,
   "metadata": {},
   "outputs": [
    {
     "name": "stdout",
     "output_type": "stream",
     "text": [
      "Technology https://content.guardianapis.com/technology\n"
     ]
    }
   ],
   "source": [
    "for result in sections['results']: \n",
    "    if 'tech' in result['id'].lower(): \n",
    "        print result['webTitle'], result['apiUrl']"
   ]
  },
  {
   "cell_type": "markdown",
   "metadata": {},
   "source": [
    "# Manual query on whole API"
   ]
  },
  {
   "cell_type": "code",
   "execution_count": 6,
   "metadata": {},
   "outputs": [],
   "source": [
    "# Specify the arguments\n",
    "args = {\n",
    "    'section': 'technology', \n",
    "    'order-by': 'newest', \n",
    "    'api-key': 'test', \n",
    "    'page-size': '100'\n",
    "}\n",
    "\n",
    "# Construct the URL\n",
    "base_url = 'http://content.guardianapis.com/search'\n",
    "url = '{}?{}'.format(\n",
    "    base_url, \n",
    "    '&'.join([\"{}={}\".format(kk, vv) for kk, vv in args.iteritems()])\n",
    ")\n",
    "\n",
    "# Make the request and extract the source\n",
    "req = requests.get(url) \n",
    "src = req.text"
   ]
  },
  {
   "cell_type": "code",
   "execution_count": 7,
   "metadata": {},
   "outputs": [
    {
     "name": "stdout",
     "output_type": "stream",
     "text": [
      "Number of byes received: 51824\n"
     ]
    }
   ],
   "source": [
    "print 'Number of byes received:', len(src)"
   ]
  },
  {
   "cell_type": "markdown",
   "metadata": {},
   "source": [
    "The API returns JSON, so we parse this using the in-built JSON library. \n",
    "The API specifies that all data are returned within the `response` key, even under failure. \n",
    "Thereofre, I have immediately descended to the response field "
   ]
  },
  {
   "cell_type": "markdown",
   "metadata": {},
   "source": [
    "# Parsing the JSON"
   ]
  },
  {
   "cell_type": "code",
   "execution_count": 8,
   "metadata": {
    "scrolled": false
   },
   "outputs": [
    {
     "name": "stdout",
     "output_type": "stream",
     "text": [
      "The following are available:\n",
      "  [u'currentPage', u'orderBy', u'pageSize', u'pages', u'results', u'startIndex', u'status', u'total', u'userTier']\n"
     ]
    }
   ],
   "source": [
    " "
   ]
  },
  {
   "cell_type": "markdown",
   "metadata": {},
   "source": [
    "# Verifying the status code\n",
    "\n",
    "It is important to verify that the status message is `ok` before continuing - if it is not `ok` no 'real' data \n",
    "will have been received. "
   ]
  },
  {
   "cell_type": "code",
   "execution_count": 9,
   "metadata": {
    "collapsed": true
   },
   "outputs": [],
   "source": [
    "assert response['status'] == 'ok'"
   ]
  },
  {
   "cell_type": "markdown",
   "metadata": {},
   "source": [
    "# Listing the results \n",
    "\n",
    "The API standard states that the results will be found in the `results` field under the `response` field. \n",
    "Furthermore, the URLs will be found in the `webUrl` field, and the title will be found in the `webTitle` \n",
    "field. \n",
    "\n",
    "First let's look to see what a single result looks like in full, and then I will print a restricted \n",
    "set of parameters on the full set of results ."
   ]
  },
  {
   "cell_type": "code",
   "execution_count": 10,
   "metadata": {},
   "outputs": [
    {
     "name": "stdout",
     "output_type": "stream",
     "text": [
      "{\n",
      "  \"apiUrl\": \"https://content.guardianapis.com/technology/2017/jan/31/apple-record-revenue-holiday-sales-iphone-7\", \n",
      "  \"id\": \"technology/2017/jan/31/apple-record-revenue-holiday-sales-iphone-7\", \n",
      "  \"isHosted\": false, \n",
      "  \"sectionId\": \"technology\", \n",
      "  \"sectionName\": \"Technology\", \n",
      "  \"type\": \"article\", \n",
      "  \"webPublicationDate\": \"2017-01-31T22:10:00Z\", \n",
      "  \"webTitle\": \"Apple posts record revenue thanks to holiday sales of iPhone 7\", \n",
      "  \"webUrl\": \"https://www.theguardian.com/technology/2017/jan/31/apple-record-revenue-holiday-sales-iphone-7\"\n",
      "}\n"
     ]
    }
   ],
   "source": [
    "print json.dumps(response['results'][0], indent=2, sort_keys=True)"
   ]
  },
  {
   "cell_type": "code",
   "execution_count": 11,
   "metadata": {},
   "outputs": [
    {
     "name": "stdout",
     "output_type": "stream",
     "text": [
      "https://www.theguardian.com/technology/2017/jan/31/apple-record-revenu Apple posts record r\n",
      "https://www.theguardian.com/technology/2017/jan/31/club-penguin-the-ki Club Penguin: the ki\n",
      "https://www.theguardian.com/technology/2017/jan/31/trump-travel-ban-te #DeleteUber: how tec\n",
      "https://www.theguardian.com/technology/2017/jan/31/amazon-expedia-micr Amazon pledges legal\n",
      "https://www.theguardian.com/technology/2017/jan/31/hitman-review-a-bea Hitman review – a be\n",
      "https://www.theguardian.com/technology/2017/jan/31/chatterbox-tuesday Chatterbox: Tuesday\n",
      "https://www.theguardian.com/technology/2017/jan/30/libratus-poker-arti Oh the humanity! Pok\n",
      "https://www.theguardian.com/technology/2017/jan/30/deleteuber-how-soci #DeleteUber: how soc\n",
      "https://www.theguardian.com/technology/2017/jan/30/honor-6x-review-a-l Honor 6X review: a l\n",
      "https://www.theguardian.com/technology/2017/jan/30/chatterbox-monday Chatterbox: Monday\n",
      "https://www.theguardian.com/media/2017/jan/28/how-to-stop-arguing-and- How to stop arguing \n",
      "https://www.theguardian.com/technology/2017/jan/28/apple-app-store-pok Pokémon Go and no si\n",
      "https://www.theguardian.com/technology/2017/jan/28/peugeot-3008-car-re Peugeot 3008 car rev\n",
      "https://www.theguardian.com/technology/2017/jan/27/mark-zuckerberg-don Mark Zuckerberg chal\n",
      "https://www.theguardian.com/technology/2017/jan/27/ai-artificial-intel AI watchdog needed t\n",
      "https://www.theguardian.com/technology/2017/jan/27/the-nhs-should-prot The NHS should prote\n",
      "https://www.theguardian.com/technology/2017/jan/27/the-webs-funniest-r The web's funniest r\n",
      "https://www.theguardian.com/technology/2017/jan/27/rising-numbers-of-c Why a rising number \n",
      "https://www.theguardian.com/technology/2017/jan/27/the-12-greatest-sup The 12 greatest supe\n",
      "https://www.theguardian.com/technology/2017/jan/27/us-russia-hacking-y Alleged hacker held \n",
      "https://www.theguardian.com/technology/2017/jan/27/chatterbox-friday Chatterbox: Friday\n",
      "https://www.theguardian.com/technology/2017/jan/24/ghost-recon-wildlan Ghost Recon: Wildlan\n",
      "https://www.theguardian.com/technology/2017/jan/26/google-deepmind-ai- Whatever happened to\n",
      "https://www.theguardian.com/technology/askjack/2017/jan/26/what-is-the What is the best way\n",
      "https://www.theguardian.com/technology/2017/jan/26/sixteenth-time-luck Sixteenth time lucky\n",
      "https://www.theguardian.com/technology/2017/jan/26/chatterbox-thursday Chatterbox: Thursday\n",
      "https://www.theguardian.com/technology/2017/jan/25/elon-musk-la-traffi Elon Musk to dig tun\n",
      "https://www.theguardian.com/technology/2017/jan/25/ai-artificial-intel AI system as good as\n",
      "https://www.theguardian.com/technology/news-blog/2017/jan/25/national- National Parks Servi\n",
      "https://www.theguardian.com/technology/2017/jan/25/apple-airpods-revie AirPods review: the \n",
      "https://www.theguardian.com/technology/2017/jan/25/chatterbox-wednesda Chatterbox: Wednesda\n",
      "https://www.theguardian.com/technology/shortcuts/2017/jan/24/how-apps- How apps plan to con\n",
      "https://www.theguardian.com/technology/2017/jan/24/samsung-galaxy-s8-s Samsung Galaxy S8 to\n",
      "https://www.theguardian.com/technology/2017/jan/24/resident-evil-7-cap Why Resident Evil 7 \n",
      "https://www.theguardian.com/technology/2017/jan/24/snapchat-cracks-dow Snapchat cracks down\n",
      "https://www.theguardian.com/technology/2017/jan/24/why-does-it-take-so Why does it take so \n",
      "https://www.theguardian.com/technology/2017/jan/24/apple-class-action- Apple sued for not u\n",
      "https://www.theguardian.com/technology/2017/jan/24/silicon-valley-figh Trump needs tech to \n",
      "https://www.theguardian.com/technology/2017/jan/24/the-five-lessons-i- The five lessons I l\n",
      "https://www.theguardian.com/technology/2017/jan/24/chatterbox-tuesday Chatterbox: Tuesday\n",
      "https://www.theguardian.com/technology/2017/jan/24/biometric-recogniti Biometric recognitio\n",
      "https://www.theguardian.com/technology/2017/jan/24/malcolm-turnbull-ne Labor accuses Malcol\n",
      "https://www.theguardian.com/technology/2017/jan/23/china-vpn-cleanup-g China cracks down on\n",
      "https://www.theguardian.com/technology/2017/jan/23/foxconn-american-fa Foxconn backpedals o\n",
      "https://www.theguardian.com/technology/2017/jan/23/resident-evil-7-bio Resident Evil 7: Bio\n",
      "https://www.theguardian.com/technology/shortcuts/2017/jan/23/curtains- Is it curtains for t\n",
      "https://www.theguardian.com/technology/2017/jan/23/mark-zuckerberg-haw Hawaiians call Mark \n",
      "https://www.theguardian.com/technology/2017/jan/23/nintendo-switch-its Nintendo Switch: it'\n",
      "https://www.theguardian.com/technology/2017/jan/23/chatterbox-monday Chatterbox: Monday\n",
      "https://www.theguardian.com/technology/2017/jan/23/games-reviews-drago Games reviews roundu\n",
      "https://www.theguardian.com/technology/2017/jan/23/samsung-blames-faul Samsung blames two s\n",
      "https://www.theguardian.com/technology/2017/jan/22/facebook-live-nearl Is Facebook Live dea\n",
      "https://www.theguardian.com/technology/2017/jan/22/home-battleground-a Amazon and Google fi\n",
      "https://www.theguardian.com/technology/2017/jan/22/volkswagen-tiguan-c Volkswagen Tiguan: c\n",
      "https://www.theguardian.com/technology/2017/jan/21/on-the-road-vauxhal Vauxhall Mokka car r\n",
      "https://www.theguardian.com/technology/shortcuts/2017/jan/20/why-you-s Why you should insta\n",
      "https://www.theguardian.com/technology/2017/jan/20/the-six-worst-us-pr The six worst US pre\n",
      "https://www.theguardian.com/technology/2017/jan/20/tesla-model-s-clear Tesla Model S cleare\n",
      "https://www.theguardian.com/technology/2017/jan/20/chatterbox-friday Chatterbox: Friday\n",
      "https://www.theguardian.com/technology/2017/jan/20/gravity-rush-2-revi Gravity Rush 2 revie\n",
      "https://www.theguardian.com/technology/2017/jan/19/facebook-live-video Ohio mother who tape\n",
      "https://www.theguardian.com/technology/2017/jan/19/facebook-russia-rt- Russia threatens ret\n",
      "https://www.theguardian.com/technology/askjack/2017/jan/19/how-can-i-t How can I tell if a \n",
      "https://www.theguardian.com/media/2017/jan/19/in-the-post-truth-era-sw In the post-truth er\n",
      "https://www.theguardian.com/technology/2017/jan/19/chatterbox-thursday Chatterbox: Thursday\n",
      "https://www.theguardian.com/world/2017/jan/19/genderless-nipples-gener Male or female? Gend\n",
      "https://www.theguardian.com/technology/2017/jan/18/facebook-moderation Civil rights groups \n",
      "https://www.theguardian.com/technology/2017/jan/18/prank-crashes-iphon Prank crashes iPhone\n",
      "https://www.theguardian.com/technology/2017/jan/18/amazon-self-driving Amazon patent hints \n",
      "https://www.theguardian.com/technology/2017/jan/18/chatterbox-wednesda Chatterbox: Wednesda\n",
      "https://www.theguardian.com/technology/2017/jan/17/facebook-mark-zucke Facebook's Mark Zuck\n",
      "https://www.theguardian.com/technology/2017/jan/17/governments-struggl Governments struggli\n",
      "https://www.theguardian.com/technology/2017/jan/17/apple-ios-mac-app-s Apple increases App \n",
      "https://www.theguardian.com/technology/2017/jan/16/giving-rights-to-ro Giving rights to rob\n",
      "https://www.theguardian.com/technology/2017/jan/16/whatsapp-vulnerabil WhatsApp vulnerabili\n",
      "https://www.theguardian.com/technology/2017/jan/16/tesla-allows-self-d Tesla allows self-dr\n",
      "https://www.theguardian.com/technology/2017/jan/16/selfie-drone-manufa Failed 'selfie drone\n",
      "https://www.theguardian.com/technology/2017/jan/16/chatterbox-monday Chatterbox: Monday\n",
      "https://www.theguardian.com/technology/2017/jan/09/games-reviews-round Games reviews roundu\n",
      "https://www.theguardian.com/technology/2017/jan/15/driverless-cars-12- Twelve things you ne\n",
      "https://www.theguardian.com/technology/2017/jan/15/ford-mustang-car-re Ford Mustang: car re\n",
      "https://www.theguardian.com/technology/2017/jan/14/whatsapp-vulnerabil As WhatsApp becomes \n",
      "https://www.theguardian.com/technology/2017/jan/14/ferrari-california- Ferrari California T\n",
      "https://www.theguardian.com/technology/2017/jan/14/nintendo-switch-gam Nintendo Switch: han\n",
      "https://www.theguardian.com/technology/2017/jan/13/london-nhs-hospital London NHS hospital \n",
      "https://www.theguardian.com/technology/2017/jan/13/dissidents-disappoi Dissidents disappoin\n",
      "https://www.theguardian.com/technology/shortcuts/2017/jan/13/peace-sig Watch out, Ringo! Ma\n",
      "https://www.theguardian.com/technology/2017/jan/13/why-i-am-confident- Why I am confident e\n",
      "https://www.theguardian.com/technology/2017/jan/13/self-segregation-mi Self-segregation: ho\n",
      "https://www.theguardian.com/technology/2017/jan/13/whatsapp-encryption Should I be worried \n",
      "https://www.theguardian.com/technology/2017/jan/13/nintendo-switch-gam The most anticipated\n",
      "https://www.theguardian.com/technology/2017/jan/13/whatsapp-backdoor-a WhatsApp vulnerabili\n",
      "https://www.theguardian.com/technology/2017/jan/13/nintendo-unveils-lo Nintendo Switch: hyb\n",
      "https://www.theguardian.com/technology/2017/jan/12/give-robots-personh Give robots 'personh\n",
      "https://www.theguardian.com/technology/2017/jan/12/selfie-drone-compan Selfie drone company\n",
      "https://www.theguardian.com/technology/2017/jan/12/nintendo-switch-is- Is Nintendo's Switch\n",
      "https://www.theguardian.com/technology/2017/jan/12/googles-research-si Google's research si\n",
      "https://www.theguardian.com/technology/2017/jan/12/un-free-speech-advo UN free speech advoc\n",
      "https://www.theguardian.com/technology/askjack/2017/jan/12/best-cheap- What is the best che\n",
      "https://www.theguardian.com/technology/2017/jan/12/chatterbox-thursday Chatterbox: Thursday\n"
     ]
    }
   ],
   "source": [
    "for result in response['results']: \n",
    "    print result['webUrl'][:70], result['webTitle'][:20]"
   ]
  },
  {
   "cell_type": "code",
   "execution_count": null,
   "metadata": {
    "collapsed": true
   },
   "outputs": [],
   "source": []
  },
  {
   "cell_type": "code",
   "execution_count": null,
   "metadata": {
    "collapsed": true
   },
   "outputs": [],
   "source": []
  }
 ],
 "metadata": {
  "kernelspec": {
   "display_name": "Python 2",
   "language": "python",
   "name": "python2"
  },
  "language_info": {
   "codemirror_mode": {
    "name": "ipython",
    "version": 2
   },
   "file_extension": ".py",
   "mimetype": "text/x-python",
   "name": "python",
   "nbconvert_exporter": "python",
   "pygments_lexer": "ipython2",
   "version": "2.7.12"
  }
 },
 "nbformat": 4,
 "nbformat_minor": 2
}
