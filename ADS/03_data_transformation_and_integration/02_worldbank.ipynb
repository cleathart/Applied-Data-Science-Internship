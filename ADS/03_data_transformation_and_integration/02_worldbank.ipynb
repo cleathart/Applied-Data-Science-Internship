{
 "cells": [
  {
   "cell_type": "markdown",
   "metadata": {},
   "source": [
    "# Applied Data Science\n",
    "## Data transformation and integration\n",
    "### Tom Diethe"
   ]
  },
  {
   "cell_type": "code",
   "execution_count": null,
   "metadata": {
    "collapsed": false,
    "deletable": true,
    "editable": true
   },
   "outputs": [],
   "source": [
    "import pandas as pd\n",
    "%matplotlib inline\n",
    "from StringIO import StringIO\n",
    "from zipfile import ZipFile\n",
    "from urllib import urlopen\n",
    "import matplotlib.pyplot as plt\n",
    "import seaborn as sns\n",
    "import numpy as np\n",
    "from IPython import display\n",
    "from time import sleep\n",
    "\n",
    "sns.set_context(\"talk\", font_scale=2, rc={\"lines.linewidth\": 4})"
   ]
  },
  {
   "cell_type": "code",
   "execution_count": null,
   "metadata": {
    "collapsed": true
   },
   "outputs": [],
   "source": [
    "country = 'Country Name'\n",
    "countries = ['United States', 'China', 'India']\n",
    "\n",
    "def get_worldbank_dataframe(indicator_id):\n",
    "    url = urlopen('http://api.worldbank.org/v2/en/indicator/{0}?downloadformat=csv'.format(indicator_id))\n",
    "    archive = ZipFile(StringIO(url.read()))\n",
    "    print(archive.namelist())\n",
    "    fname = [f for f in archive.namelist() if not f.startswith('Metadata')][0]\n",
    "    data = StringIO(archive.read(fname))\n",
    "    return pd.read_csv(data, skiprows=4)\n",
    "\n",
    "def rearrange_dataframe(df, indicator_name):\n",
    "    years = [c for c in df.columns if c[0] == '1' or c[0] == '2']\n",
    "    # print(years)\n",
    "    indicator = 'Life expectancy at birth'\n",
    "\n",
    "    df = pd.melt(df[[country] + years], id_vars=country, var_name='year')\n",
    "    df.rename(columns={'value': indicator_name}, inplace=True)\n",
    "    df.set_index(['year', country], inplace=True)\n",
    "    return df\n",
    "\n",
    "def plot_indicator(df, indicator_name):\n",
    "    fig, ax = plt.subplots(figsize=[15 ,10])\n",
    "    for label, dfi in df.groupby(level=1):\n",
    "        dfi[indicator].plot(ax=ax, label=label)\n",
    "    plt.legend()\n",
    "    ax.set_ylabel(indicator)\n",
    "    ax.set_xticklabels(df1c.index.levels[0].values)\n",
    "    ax.set_xlabel('year')"
   ]
  },
  {
   "cell_type": "markdown",
   "metadata": {
    "deletable": true,
    "editable": true
   },
   "source": [
    "# Life expectancy at birth, total (years)\n",
    "## Data from: http://data.worldbank.org/indicator/SP.DYN.LE00.IN"
   ]
  },
  {
   "cell_type": "code",
   "execution_count": null,
   "metadata": {
    "collapsed": false,
    "deletable": true,
    "editable": true
   },
   "outputs": [],
   "source": [
    "df1 = get_worldbank_dataframe('SP.DYN.LE00.IN')\n",
    "df1.head()"
   ]
  },
  {
   "cell_type": "code",
   "execution_count": null,
   "metadata": {
    "collapsed": false,
    "deletable": true,
    "editable": true
   },
   "outputs": [],
   "source": [
    "indicator = 'Life expectency at birth'\n",
    "df1r = rearrange_dataframe(df1, indicator)\n",
    "df1r.sort_index(ascending=True, inplace=True)\n",
    "df1c = df1r.loc[(slice(None), countries),:]\n",
    "df1c.head()"
   ]
  },
  {
   "cell_type": "code",
   "execution_count": null,
   "metadata": {
    "collapsed": false
   },
   "outputs": [],
   "source": [
    "plot_indicator(df1c, indicator)"
   ]
  },
  {
   "cell_type": "markdown",
   "metadata": {
    "deletable": true,
    "editable": true
   },
   "source": [
    "# Total Population\n",
    "## Data from: http://data.worldbank.org/indicator/SP.POP.TOTL"
   ]
  },
  {
   "cell_type": "code",
   "execution_count": null,
   "metadata": {
    "collapsed": false,
    "deletable": true,
    "editable": true
   },
   "outputs": [],
   "source": [
    "df2 = get_worldbank_dataframe('SP.POP.TOTL')\n",
    "df2.head()"
   ]
  },
  {
   "cell_type": "code",
   "execution_count": null,
   "metadata": {
    "collapsed": false,
    "deletable": true,
    "editable": true
   },
   "outputs": [],
   "source": [
    "indicator = 'Total population'\n",
    "df2r = rearrange_dataframe(df2, indicator)\n",
    "df2r.sort_index(ascending=True, inplace=True)\n",
    "df2c = df2r.loc[(slice(None), countries),:]\n",
    "df2c.head()"
   ]
  },
  {
   "cell_type": "code",
   "execution_count": null,
   "metadata": {
    "collapsed": false
   },
   "outputs": [],
   "source": [
    "plot_indicator(df2c, indicator)"
   ]
  },
  {
   "cell_type": "markdown",
   "metadata": {
    "collapsed": true,
    "deletable": true,
    "editable": true
   },
   "source": [
    "# GDP per Capita\n",
    "Data from: http://api.worldbank.org/v2/en/indicator/NY.GDP.PCAP.CD?downloadformat=csv"
   ]
  },
  {
   "cell_type": "code",
   "execution_count": null,
   "metadata": {
    "collapsed": false
   },
   "outputs": [],
   "source": [
    "df3 = get_worldbank_dataframe('NY.GDP.PCAP.CD')\n",
    "df3.head()"
   ]
  },
  {
   "cell_type": "code",
   "execution_count": null,
   "metadata": {
    "collapsed": false
   },
   "outputs": [],
   "source": [
    "indicator = 'GDP per capita'\n",
    "df3r = rearrange_dataframe(df3, indicator)\n",
    "df3r.sort_index(ascending=True, inplace=True)\n",
    "df3c = df3r.loc[(slice(None), countries),:]\n",
    "df3c.head()"
   ]
  },
  {
   "cell_type": "code",
   "execution_count": null,
   "metadata": {
    "collapsed": false
   },
   "outputs": [],
   "source": [
    "plot_indicator(df3c, indicator)"
   ]
  },
  {
   "cell_type": "code",
   "execution_count": null,
   "metadata": {
    "collapsed": false
   },
   "outputs": [],
   "source": [
    "df4 = df1c.merge(df2c, left_index=True, right_index=True).merge(df3c, left_index=True, right_index=True)\n",
    "df4.head()"
   ]
  },
  {
   "cell_type": "code",
   "execution_count": null,
   "metadata": {
    "collapsed": false
   },
   "outputs": [],
   "source": [
    "x = 'GDP per capita'\n",
    "y = 'Life expectency at birth'\n",
    "s = 'Total population'\n",
    "\n",
    "fig, ax = plt.subplots(figsize=[15 ,10])\n",
    "for c in countries:\n",
    "    g = df4.loc['1980', c]\n",
    "    ax.plot(g[x], g[y], marker='o', linestyle='', ms=g[s] / 1e7, label=c)\n",
    "lgnd = ax.legend()\n",
    "for i in range(len(countries)):\n",
    "    lgnd.legendHandles[i]._legmarker.set_markersize(20)\n",
    "ax.set_xlabel(x)\n",
    "ax.set_ylabel(y)\n",
    "\n",
    "ax.set_xlim([0, df4[x].max()])\n",
    "ax.set_ylim([df4[y].min()*0.9, df4[y].max()*1.1])\n",
    "ax.set_title('1980')"
   ]
  },
  {
   "cell_type": "code",
   "execution_count": null,
   "metadata": {
    "collapsed": false
   },
   "outputs": [],
   "source": [
    "def wb_scatter(df, year):\n",
    "    current_palette = sns.color_palette()\n",
    "    rng = float(df.index.levels[0].max()) - float(df.index.levels[0].min())\n",
    "    cur = float(year) - float(df.index.levels[0].min())\n",
    "    alpha = (cur / rng) / 2\n",
    "    for i, c in enumerate(countries):\n",
    "        g = df.loc[year, c]\n",
    "        ax.plot(g[x], g[y], marker='o', linestyle='', color=current_palette[i], ms=g[s] / 1e7, label=c, alpha=alpha)\n",
    "    ax.set_xlabel(x)\n",
    "    ax.set_ylabel(y)\n",
    "    ax.set_xlim([0, df[x].max()])\n",
    "    ax.set_ylim([df[y].min()*0.9, df[y].max()*1.1])\n",
    "    ax.set_title(year)\n",
    "\n",
    "# Animated version\n",
    "fig, ax = plt.subplots(figsize=[15 ,10])\n",
    "\n",
    "do_legend = True\n",
    "\n",
    "for year in df4.index.levels[0].values:\n",
    "    wb_scatter(df4, year)\n",
    "\n",
    "    if do_legend:\n",
    "        lgnd = ax.legend()\n",
    "        for i in range(len(countries)):\n",
    "            lgnd.legendHandles[i]._legmarker.set_markersize(20)\n",
    "            lgnd.legendHandles[i]._legmarker.set_alpha(1.0)\n",
    "        do_legend = False\n",
    "\n",
    "    display.clear_output(wait=True)\n",
    "    display.display(plt.gcf())\n",
    "    sleep(0.05)"
   ]
  },
  {
   "cell_type": "markdown",
   "metadata": {},
   "source": [
    "## Some other things to try:\n",
    "* Different sets of countries\n",
    "* Group countries into continents\n",
    "* Curve fitting (e.g. using Gaussian Processes) to the trajectories\n",
    "* Combine with other worldbank datasets\n",
    "* Combine with other external datasets"
   ]
  },
  {
   "cell_type": "code",
   "execution_count": null,
   "metadata": {
    "collapsed": true
   },
   "outputs": [],
   "source": []
  }
 ],
 "metadata": {
  "kernelspec": {
   "display_name": "Python 2",
   "language": "python",
   "name": "python2"
  },
  "language_info": {
   "codemirror_mode": {
    "name": "ipython",
    "version": 2
   },
   "file_extension": ".py",
   "mimetype": "text/x-python",
   "name": "python",
   "nbconvert_exporter": "python",
   "pygments_lexer": "ipython2",
   "version": "2.7.13"
  }
 },
 "nbformat": 4,
 "nbformat_minor": 2
}
