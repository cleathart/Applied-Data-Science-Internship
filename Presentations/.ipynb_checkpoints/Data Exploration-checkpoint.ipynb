{
 "cells": [
  {
   "cell_type": "markdown",
   "metadata": {
    "slideshow": {
     "slide_type": "slide"
    }
   },
   "source": [
    "# Data Visualisation and Exploration\n",
    "\n",
    "## Applied Data Science"
   ]
  },
  {
   "cell_type": "markdown",
   "metadata": {
    "slideshow": {
     "slide_type": "slide"
    }
   },
   "source": [
    "### Outline\n",
    "-  Recap and Outlook\n",
    "\n",
    "\n",
    "- Descriptive Statistics\n",
    "    - Univariate Analysis\n",
    "    - Measures of Central Tendency\n",
    "    - Moments\n",
    "    - Measures of Shape\n",
    "    - Transforms\n",
    "    - Density Estimation\n",
    "    - Multivariate Analysis\n",
    "- Dimensionality Reduction\n",
    "    - Linear Dimensionality Reduction\n",
    "    - Nonlinear Dimensionality Reduction"
   ]
  },
  {
   "cell_type": "markdown",
   "metadata": {
    "slideshow": {
     "slide_type": "slide"
    }
   },
   "source": [
    "### Descriptive vs Inferential Statistics\n",
    "-  Inferential/Inductive:\n",
    "    - Summarise sample\n",
    "    - Based on probability theory\n",
    "- Descriptive:\n",
    "    - Describe or summarise dataset\n",
    "    - Useful for assessing data quality, developing models, general understanding\n",
    "    - Often presented alongside conclusions inferential statistics"
   ]
  },
  {
   "cell_type": "markdown",
   "metadata": {
    "slideshow": {
     "slide_type": "fragment"
    }
   },
   "source": [
    "#### Univariate Measures\n",
    "- Central tendency\n",
    "    - Mean, median, mode\n",
    "- Variability\n",
    "    - Variance, quartiles, min, max, kurtosis, skewness\n",
    "- Graphical/Tabular format\n",
    "    - Histograms"
   ]
  },
  {
   "cell_type": "markdown",
   "metadata": {
    "slideshow": {
     "slide_type": "slide"
    }
   },
   "source": [
    "### Types of Variable\n",
    "- Categorical/Discrete (Qualitative)\n",
    "    - Nominal\n",
    "    - Ordinal: ordered\n",
    "    - Dichotomous: only 2 categories\n",
    "- Continuous (Quantitative)\n",
    "    - Interval: measured along a continuum and numerical value\n",
    "        - e.g. temperature measured in degrees Celsius or Fahrenheit). So the difference between 20C and 30C is the same as 30C to 40C\n",
    "    - Ratio: added condition that 0 indicates that there is none of that variable\n",
    "        - e.g. temperature measured in Kelvin, as 0 Kelvin indicates that there is “no temperature”\n",
    "        - e.g. height, mass, distance etc.\n",
    "        - reflects the fact that you can use the ratio of measurements (distance of 10 m is twice the distance of 5 m."
   ]
  },
  {
   "cell_type": "markdown",
   "metadata": {
    "slideshow": {
     "slide_type": "slide"
    }
   },
   "source": [
    "### Central Tendency\n",
    "\n",
    "- Mean (arithmetic) $\\mu = \\frac{1}{n}\\sum_{i=1}^{n}x_i$\n",
    "    - can be used with both discrete and continuous values\n",
    "    - particularly susceptible to the influence of outliers\n",
    "\n",
    "|staff  |1    |2    |3    |4    |5    |6    |7    |8    |9    |10   |\n",
    "|-------|-----|-----|-----|-----|-----|-----|-----|-----|-----|-----|\n",
    "|salary |15k  |18k  |16k  |14k  |15k  |15k  |12k  |17k  |90k  |95k  |\n",
    "\n",
    "    - mean: 30.7k, most in the 12k to 18k range\n",
    "    - mean is being skewed by the two large salaries\n",
    "- Median\n",
    "    - middle score for a set of data after sorting\n",
    "    - less affected by outliers and skewed data\n",
    "- Mode\n",
    "    - most frequent value (discrete)\n",
    "    - highest bar in histogram (continuous)"
   ]
  },
  {
   "cell_type": "markdown",
   "metadata": {
    "slideshow": {
     "slide_type": "slide"
    }
   },
   "source": [
    "### Mode Examples\n",
    "\n",
    "![alt text](resources/mode-1a.png)"
   ]
  },
  {
   "cell_type": "markdown",
   "metadata": {
    "slideshow": {
     "slide_type": "slide"
    }
   },
   "source": [
    "### Mode Examples\n",
    "\n",
    "![alt text](resources/mode-1.png)"
   ]
  },
  {
   "cell_type": "markdown",
   "metadata": {
    "slideshow": {
     "slide_type": "slide"
    }
   },
   "source": [
    "### Mode Examples\n",
    "\n",
    "![alt text](resources/mode-2.png)"
   ]
  },
  {
   "cell_type": "markdown",
   "metadata": {
    "slideshow": {
     "slide_type": "slide"
    }
   },
   "source": [
    "### Mode Examples\n",
    "\n",
    "![alt text](resources/mode-3.png)"
   ]
  },
  {
   "cell_type": "markdown",
   "metadata": {
    "slideshow": {
     "slide_type": "slide"
    }
   },
   "source": [
    "### Skewed Distributions and the Mean and Median (Normal Distrubution)\n",
    "\n",
    "![alt text](resources/skewed-1.png)"
   ]
  },
  {
   "cell_type": "markdown",
   "metadata": {
    "slideshow": {
     "slide_type": "slide"
    }
   },
   "source": [
    "### Skewed Distributions and the Mean and Median (Skewed Distrubution)\n",
    "\n",
    "![alt text](resources/skewed-2.png)"
   ]
  },
  {
   "cell_type": "markdown",
   "metadata": {
    "slideshow": {
     "slide_type": "slide"
    }
   },
   "source": [
    "### When to use the mean, median and mode\n",
    "\n",
    "|Type of Variable           |Best measure of central tendency |\n",
    "|---------------------------|---------------------------------|\n",
    "|Nominal                    |Mode                             |\n",
    "|Ordinal                    |Mean                             |\n",
    "|Interval/Ratio(not skewed) |Mean                             |\n",
    "|Interval/Ratio(skewed)     |Median                           |"
   ]
  },
  {
   "cell_type": "markdown",
   "metadata": {
    "slideshow": {
     "slide_type": "slide"
    }
   },
   "source": [
    "### Measure of Dispersion\n",
    "\n",
    "- Range: man() - min()\n",
    "    - Only depends on 2 values\n",
    "    - Most useful in representing the dispersion of small data sets\n",
    "- Variance: $Var(X) = \\frac{1}{n}\\sum_{i=1}^{n}(x_i-\\mu)^2$\n",
    "- Unbaised Variance: $Var(X) = \\frac{1}{n-1}\\sum_{i=1}^{n}(x_i-\\mu)^2$\n",
    "- Standard devaition $\\sigma = \\sqrt{Var(x)}$\n",
    "- Quantiles\n",
    "    - Cut-points dividing the range of a probability distribution into contiguous intervals with equal probabilities\n",
    "    - or dividing the observations in a sample in the same way"
   ]
  },
  {
   "cell_type": "markdown",
   "metadata": {
    "collapsed": true,
    "slideshow": {
     "slide_type": "slide"
    }
   },
   "source": []
  }
 ],
 "metadata": {
  "celltoolbar": "Slideshow",
  "kernelspec": {
   "display_name": "Python 2",
   "language": "python",
   "name": "python2"
  },
  "language_info": {
   "codemirror_mode": {
    "name": "ipython",
    "version": 2
   },
   "file_extension": ".py",
   "mimetype": "text/x-python",
   "name": "python",
   "nbconvert_exporter": "python",
   "pygments_lexer": "ipython2",
   "version": "2.7.12"
  }
 },
 "nbformat": 4,
 "nbformat_minor": 2
}
