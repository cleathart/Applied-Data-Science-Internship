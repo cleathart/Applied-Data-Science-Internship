{
 "cells": [
  {
   "cell_type": "markdown",
   "metadata": {
    "slideshow": {
     "slide_type": "slide"
    }
   },
   "source": [
    "# Data Visualisation\n",
    "## Applied Data Science"
   ]
  },
  {
   "cell_type": "markdown",
   "metadata": {
    "slideshow": {
     "slide_type": "slide"
    }
   },
   "source": [
    "### Outline\n",
    "\n",
    "- Visualisation: A Psychological Perspective\n",
    "    - Motivation\n",
    "    - Theory\n",
    "    \n",
    "    \n",
    "- Exploratory Data Analysis\n",
    "    - EDA Example\n",
    "    - EDA vs Descriptive Statistics\n",
    "    - Time Series \n",
    "\n",
    "\n",
    "- Practical Considerations\n",
    "    - Technologies\n",
    "    - Demo"
   ]
  },
  {
   "cell_type": "markdown",
   "metadata": {
    "slideshow": {
     "slide_type": "slide"
    }
   },
   "source": [
    "### Why Visualise?\n",
    "- Making sense of data\n",
    "- Discovery\n",
    "- Communication\n",
    "- Monitoring / Situational awareness\n",
    "\n",
    "\n",
    "- We can detect information faster than we can move\n",
    "- Humans are not very good at detecting patterns from numbers"
   ]
  },
  {
   "cell_type": "markdown",
   "metadata": {
    "slideshow": {
     "slide_type": "slide"
    }
   },
   "source": [
    "### Gestalt Principles\n",
    "![alt text](resources/gestalt.png)"
   ]
  },
  {
   "cell_type": "markdown",
   "metadata": {
    "slideshow": {
     "slide_type": "slide"
    }
   },
   "source": [
    "### Preattentive Features\n",
    "![alt text](resources/preattentive.png)"
   ]
  },
  {
   "cell_type": "markdown",
   "metadata": {
    "slideshow": {
     "slide_type": "slide"
    }
   },
   "source": [
    "- Criteria for evaluation:\n",
    "    - Which design minimises eye travel?\n",
    "    - Which design looks best as black and white? (or colourblind)\n",
    "    - Maximise information to ink ratio"
   ]
  },
  {
   "cell_type": "markdown",
   "metadata": {
    "slideshow": {
     "slide_type": "fragment"
    }
   },
   "source": [
    "- What to choose when\n",
    "    - Line graph: to track changes over periods of time\n",
    "    - Pie Chart: (nearly) never!\n",
    "    - Divided Rectangle (Waffle): when you are trying to compare parts of a whole\n",
    "    - Bar Graph: to compare things between different groups\n",
    "    - Histogram: to track changes over time, or probability distributions. Note withhistograms, the width is significant, as well as the height, unlike a bar graph"
   ]
  },
  {
   "cell_type": "markdown",
   "metadata": {
    "slideshow": {
     "slide_type": "slide"
    }
   },
   "source": [
    "![alt text](resources/table.png)"
   ]
  },
  {
   "cell_type": "markdown",
   "metadata": {
    "slideshow": {
     "slide_type": "fragment"
    }
   },
   "source": [
    "- Which group has the highest/lowest rates? When?"
   ]
  },
  {
   "cell_type": "markdown",
   "metadata": {
    "slideshow": {
     "slide_type": "fragment"
    }
   },
   "source": [
    "- Which group has an increasing/decreasing temporal trend?"
   ]
  },
  {
   "cell_type": "markdown",
   "metadata": {
    "slideshow": {
     "slide_type": "fragment"
    }
   },
   "source": [
    "- Which group has a faster/slower rate of change?"
   ]
  },
  {
   "cell_type": "markdown",
   "metadata": {
    "slideshow": {
     "slide_type": "subslide"
    }
   },
   "source": [
    "![alt text](resources/ages.png)"
   ]
  },
  {
   "cell_type": "markdown",
   "metadata": {
    "slideshow": {
     "slide_type": "slide"
    }
   },
   "source": [
    "### Exploratory Data Analysis (EDA)\n",
    "\n",
    "![alt text](resources/table_2.png)"
   ]
  },
  {
   "cell_type": "markdown",
   "metadata": {
    "slideshow": {
     "slide_type": "slide"
    }
   },
   "source": [
    "### Primary Analysis\n",
    "- Fit a linear regression model where the tip rate as the target variable, and a single feature party size\n",
    "- The fitted model is\n",
    "    tip = 0.18 − 0.01 × size\n",
    "    which says that as the size of the dining party increases by one person(leading to a higher bill), the tip rate will decrease by"
   ]
  },
  {
   "cell_type": "markdown",
   "metadata": {
    "collapsed": true,
    "slideshow": {
     "slide_type": "slide"
    }
   },
   "source": []
  },
  {
   "cell_type": "code",
   "execution_count": null,
   "metadata": {
    "collapsed": true,
    "slideshow": {
     "slide_type": "skip"
    }
   },
   "outputs": [],
   "source": []
  }
 ],
 "metadata": {
  "celltoolbar": "Slideshow",
  "kernelspec": {
   "display_name": "Python 2",
   "language": "python",
   "name": "python2"
  },
  "language_info": {
   "codemirror_mode": {
    "name": "ipython",
    "version": 2
   },
   "file_extension": ".py",
   "mimetype": "text/x-python",
   "name": "python",
   "nbconvert_exporter": "python",
   "pygments_lexer": "ipython2",
   "version": "2.7.12"
  }
 },
 "nbformat": 4,
 "nbformat_minor": 2
}
