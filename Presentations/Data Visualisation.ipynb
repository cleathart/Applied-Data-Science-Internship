{
 "cells": [
  {
   "cell_type": "markdown",
   "metadata": {
    "slideshow": {
     "slide_type": "slide"
    }
   },
   "source": [
    "# Data Visualisation\n",
    "## Applied Data Science"
   ]
  },
  {
   "cell_type": "markdown",
   "metadata": {
    "slideshow": {
     "slide_type": "slide"
    }
   },
   "source": [
    "### Outline\n",
    "\n",
    "- Visualisation: A Psychological Perspective\n",
    "    - Motivation\n",
    "    - Theory\n",
    "    \n",
    "    \n",
    "- Exploratory Data Analysis\n",
    "    - EDA Example\n",
    "    - EDA vs Descriptive Statistics\n",
    "    - Time Series \n",
    "\n",
    "\n",
    "- Practical Considerations\n",
    "    - Technologies\n",
    "    - Demo"
   ]
  },
  {
   "cell_type": "markdown",
   "metadata": {
    "slideshow": {
     "slide_type": "slide"
    }
   },
   "source": [
    "### Why Visualise?\n",
    "- Making sense of data\n",
    "- Discovery\n",
    "- Communication\n",
    "- Monitoring / Situational awareness\n",
    "\n",
    "\n",
    "- We can detect information faster than we can move\n",
    "- Humans are not very good at detecting patterns from numbers"
   ]
  },
  {
   "cell_type": "markdown",
   "metadata": {
    "slideshow": {
     "slide_type": "slide"
    }
   },
   "source": [
    "### Gestalt Principles\n",
    "![alt text](resources/gestalt.png)"
   ]
  },
  {
   "cell_type": "markdown",
   "metadata": {
    "slideshow": {
     "slide_type": "slide"
    }
   },
   "source": [
    "### Preattentive Features\n",
    "![alt text](resources/preattentive.png)"
   ]
  },
  {
   "cell_type": "markdown",
   "metadata": {
    "slideshow": {
     "slide_type": "slide"
    }
   },
   "source": [
    "- Criteria for evaluation:\n",
    "    - Which design minimises eye travel?\n",
    "    - Which design looks best as black and white? (or colourblind)\n",
    "    - Maximise information to ink ratio"
   ]
  },
  {
   "cell_type": "markdown",
   "metadata": {
    "slideshow": {
     "slide_type": "fragment"
    }
   },
   "source": [
    "- What to choose when\n",
    "    - Line graph: to track changes over periods of time\n",
    "    - Pie Chart: (nearly) never!\n",
    "    - Divided Rectangle (Waffle): when you are trying to compare parts of a whole\n",
    "    - Bar Graph: to compare things between different groups\n",
    "    - Histogram: to track changes over time, or probability distributions. Note withhistograms, the width is significant, as well as the height, unlike a bar graph"
   ]
  },
  {
   "cell_type": "markdown",
   "metadata": {
    "slideshow": {
     "slide_type": "slide"
    }
   },
   "source": [
    "![alt text](resources/table.png)"
   ]
  },
  {
   "cell_type": "markdown",
   "metadata": {
    "slideshow": {
     "slide_type": "fragment"
    }
   },
   "source": [
    "- Which group has the highest/lowest rates? When?"
   ]
  },
  {
   "cell_type": "markdown",
   "metadata": {
    "slideshow": {
     "slide_type": "fragment"
    }
   },
   "source": [
    "- Which group has an increasing/decreasing temporal trend?"
   ]
  },
  {
   "cell_type": "markdown",
   "metadata": {
    "slideshow": {
     "slide_type": "fragment"
    }
   },
   "source": [
    "- Which group has a faster/slower rate of change?"
   ]
  },
  {
   "cell_type": "markdown",
   "metadata": {
    "slideshow": {
     "slide_type": "subslide"
    }
   },
   "source": [
    "![alt text](resources/ages.png)"
   ]
  },
  {
   "cell_type": "markdown",
   "metadata": {
    "slideshow": {
     "slide_type": "slide"
    }
   },
   "source": [
    "### Exploratory Data Analysis (EDA)\n",
    "\n",
    "![alt text](resources/table_2.png)"
   ]
  },
  {
   "cell_type": "markdown",
   "metadata": {
    "slideshow": {
     "slide_type": "slide"
    }
   },
   "source": [
    "### Primary Analysis\n",
    "- Fit a linear regression model where the tip rate as the target variable, and a single feature party size\n",
    "- The fitted model is\n",
    "    tip = 0.18 − 0.01 × size\n",
    "    which says that as the size of the dining party increases by one person(leading to a higher bill), the tip rate will decrease by"
   ]
  },
  {
   "cell_type": "markdown",
   "metadata": {
    "collapsed": true,
    "slideshow": {
     "slide_type": "slide"
    }
   },
   "source": [
    "![alt text](resources/Tips-hist1.png)\n",
    "\n",
    "Figure: Histogram of tip amounts where the bins cover £1 increments. The distribution of values is skewed\n",
    "right and unimodal, as is common in distributions of small, non-negative quantities."
   ]
  },
  {
   "cell_type": "markdown",
   "metadata": {
    "slideshow": {
     "slide_type": "slide"
    }
   },
   "source": [
    "![alt text](resources/Tips-hist2.png)\n",
    "\n",
    "Figure: Histogram of tip amounts where the bins cover £0.10 increments. An interesting phenomenon is\n",
    "visible: peaks occur at the whole-dollar and half-dollar amounts, which is caused by customers picking round\n",
    "numbers as tips. This behaviour is common to other types of purchases too."
   ]
  },
  {
   "cell_type": "markdown",
   "metadata": {
    "slideshow": {
     "slide_type": "slide"
    }
   },
   "source": [
    "![alt text](resources/Tips-scat1.png)\n",
    "\n",
    "Figure: Scatterplot of tips vs. bill. Points below the line correspond to tips that are lower than expected (for that\n",
    "bill amount), and points above the line are higher than expected. We might expect to see a tight, positive linear\n",
    "association, but instead variation increases with tip amount. In particular, there are more points far away from the\n",
    "line in the lower right than in the upper left, indicating that more customers are very cheap than very generous."
   ]
  },
  {
   "cell_type": "markdown",
   "metadata": {
    "slideshow": {
     "slide_type": "slide"
    }
   },
   "source": [
    "![alt text](resources/Tips-scat2.png)\n",
    "\n",
    "Figure: Tips vs. bill separated by gender and smoking section. Smoking parties have a lot more variability in\n",
    "the tips that they give. Males tend to pay the (few) higher bills, and the female non-smokers tend to be very\n",
    "consistent tippers (with three conspicuous exceptions shown in the sample)."
   ]
  },
  {
   "cell_type": "markdown",
   "metadata": {
    "slideshow": {
     "slide_type": "slide"
    }
   },
   "source": [
    "### EDA Outcomes\n",
    "\n",
    "\n",
    "- What is learnt from the plots is different from what is illustrated by the regression model, even though the experiment was not designed to investigate any of these other trends?\n",
    "- Suggests hypotheses about tipping that may not have been anticipated in advance\n",
    "- Could lead to interesting follow-up experiments where the hypotheses are formally stated and tested by collecting new data"
   ]
  },
  {
   "cell_type": "markdown",
   "metadata": {
    "slideshow": {
     "slide_type": "slide"
    }
   },
   "source": [
    "### EDA virtuous circle\n",
    "![alt text](resources/EDA.png)"
   ]
  },
  {
   "cell_type": "markdown",
   "metadata": {
    "slideshow": {
     "slide_type": "slide"
    }
   },
   "source": [
    "### Anscombe’s quartet\n",
    "\n",
    "![alt text](resources/Anscombe's_quartet.png)\n",
    "\n",
    "##### missing equations"
   ]
  },
  {
   "cell_type": "markdown",
   "metadata": {
    "slideshow": {
     "slide_type": "slide"
    }
   },
   "source": [
    "### Anscombe’s quartet\n",
    "\n",
    "![alt text](resources/Anscombe's_quartet_3.png)\n",
    "\n",
    "- Descriptive statistics can hide important information!"
   ]
  },
  {
   "cell_type": "markdown",
   "metadata": {
    "slideshow": {
     "slide_type": "slide"
    }
   },
   "source": [
    "### Counter examples\n",
    "![alt text](resources/cheese_x_bedsheets.png)\n",
    "[http://www.tylervigen.com/spurious-correlations](http://www.tylervigen.com/spurious-correlations)"
   ]
  },
  {
   "cell_type": "markdown",
   "metadata": {
    "slideshow": {
     "slide_type": "slide"
    }
   },
   "source": [
    "### Counter examples\n",
    "![alt text](resources/science_x_hanging.png)\n",
    "[http://www.tylervigen.com/spurious-correlations][http://www.tylervigen.com/spurious-correlations]()"
   ]
  },
  {
   "cell_type": "markdown",
   "metadata": {
    "slideshow": {
     "slide_type": "slide"
    }
   },
   "source": [
    "### Time Series Visualisation\n",
    "\n",
    "- Data\n",
    "    - Frame of Reference\n",
    "        - Abstract\n",
    "        - Spatial\n",
    "    - Number of Variables\n",
    "        - Univariate\n",
    "        - Multivariate\n",
    "        \n",
    "        \n",
    "- Time\n",
    "    - Arrangement\n",
    "        - Linear\n",
    "        - Cyclic\n",
    "    - Time Primitives\n",
    "        - Instant\n",
    "        - Interval\n",
    "        \n",
    "        \n",
    "- Visualisation\n",
    "    - Mapping\n",
    "        - Static\n",
    "        - Dynamic\n",
    "    - Dimensionality\n",
    "        - 2D\n",
    "        - 3D"
   ]
  },
  {
   "cell_type": "markdown",
   "metadata": {
    "collapsed": true,
    "slideshow": {
     "slide_type": "slide"
    }
   },
   "source": [
    "![alt text](resources/timeviz.png)"
   ]
  },
  {
   "cell_type": "markdown",
   "metadata": {
    "slideshow": {
     "slide_type": "slide"
    }
   },
   "source": [
    "### Visualisation\n",
    "\n",
    "- Language built-ins\n",
    "    - R, Matlab, Octave, Mathematica ...\n",
    "- OS-based\n",
    "    - gnuplot\n",
    "- Commerical tools\n",
    "    - Tableau; Microsoft BI\n",
    "- python\n",
    "    - Matplotlib; Seaborn; ggplot; bokeh\n",
    "- JavaScript\n",
    "    - D3.js; DC.js; NVD3; Vega HighCharts/HighStock/HighMaps; plotly.js; Leaflet; MetricsGraphics.js\n",
    "    \n",
    "### Supporting Techonology\n",
    "\n",
    "- Pandas\n",
    "- Flask\n",
    "- Shapely\n",
    "- Crossfilter\n",
    "- Underscore.js\n",
    "- Keen Dashboards"
   ]
  },
  {
   "cell_type": "markdown",
   "metadata": {
    "slideshow": {
     "slide_type": "slide"
    }
   },
   "source": [
    "### Python\n",
    "\n",
    "- pandas: handy for simple plots; need to learn matplotlib to customize\n",
    "- seaborn: supports some more complex visualisation approaches but still requires matplotlib knowledge to tweak. Colour schemes are a nice bonus.\n",
    "- ggplot is a plotting system for Python based on R’s ggplot2 and the Grammar of Graphics (Wilkinson, 2012)\n",
    "- bokeh is a robust tool if you want to set up your own visualisation server but may be overkill for the simple scenarios\n",
    "- plotly generates the most interactive graphs. You can save them offline and create very rich web-based visualisations ... but commercial license"
   ]
  }
 ],
 "metadata": {
  "celltoolbar": "Slideshow",
  "kernelspec": {
   "display_name": "Python 2",
   "language": "python",
   "name": "python2"
  },
  "language_info": {
   "codemirror_mode": {
    "name": "ipython",
    "version": 2
   },
   "file_extension": ".py",
   "mimetype": "text/x-python",
   "name": "python",
   "nbconvert_exporter": "python",
   "pygments_lexer": "ipython2",
   "version": "2.7.12"
  }
 },
 "nbformat": 4,
 "nbformat_minor": 2
}
