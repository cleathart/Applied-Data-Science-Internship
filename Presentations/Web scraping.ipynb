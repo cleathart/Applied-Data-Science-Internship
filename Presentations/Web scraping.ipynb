{
 "cells": [
  {
   "cell_type": "markdown",
   "metadata": {
    "slideshow": {
     "slide_type": "slide"
    }
   },
   "source": [
    "# Web Scraping\n",
    "### Applied Data Science "
   ]
  },
  {
   "cell_type": "markdown",
   "metadata": {
    "slideshow": {
     "slide_type": "slide"
    }
   },
   "source": [
    "- Web scraping (web harvesting or web data extraction) is data scraping used for extracting data from websites\n",
    "- Web scraping should be done only with the permission of the website’s administrators. Doing otherwise may result in significant costs attributed to hosts\n",
    "- Scraping technologies must be tolerant to several artifacts of real-world code\n",
    "- The erroneous data makes information retrieval difficult\n",
    "- Several tools have been developed to tackle this problem\n",
    "- BeautifulSoup will be discussed and used as an example"
   ]
  },
  {
   "cell_type": "code",
   "execution_count": 1,
   "metadata": {
    "collapsed": true,
    "scrolled": true,
    "slideshow": {
     "slide_type": "subslide"
    }
   },
   "outputs": [],
   "source": [
    "from bs4 import BeautifulSoup\n",
    "import requests"
   ]
  },
  {
   "cell_type": "markdown",
   "metadata": {
    "slideshow": {
     "slide_type": "fragment"
    }
   },
   "source": [
    "This imports Beautiful soup into a project so that it can be used for web scraping"
   ]
  },
  {
   "cell_type": "code",
   "execution_count": 2,
   "metadata": {
    "collapsed": true,
    "scrolled": true,
    "slideshow": {
     "slide_type": "slide"
    }
   },
   "outputs": [],
   "source": [
    "source = \"\"\"\n",
    "<!DOCTYPE html>  \n",
    "<html>  \n",
    "  <head>\n",
    "    <title>Scraping</title>\n",
    "  </head>\n",
    "  <body class=\"col-sm-12\">\n",
    "    <h1>section1</h1>\n",
    "    <p>paragraph1</p>\n",
    "    <p>paragraph2</p>\n",
    "    <div class=\"col-sm-2\">\n",
    "      <h2>section2</h2>\n",
    "      <p>paragraph3</p>\n",
    "      <p>unclosed\n",
    "    </div>\n",
    "  </body>\n",
    "</html>  \n",
    "\"\"\"\n",
    "\n",
    "soup = BeautifulSoup(source, \"html.parser\")"
   ]
  },
  {
   "cell_type": "markdown",
   "metadata": {
    "slideshow": {
     "slide_type": "fragment"
    }
   },
   "source": [
    "- <!DOCTYPE html>: HTML documents must start with a type declaration.\n",
    "- The HTML document is contained between `<html> and \\</html>`.\n",
    "- The meta and script declaration of the HTML document is between `<head> and \\</head>`.\n",
    "- The visible part of the HTML document is between `<body> and </body>`.\n",
    "- Title headings are defined with the `<h1> to \\<h6>` tags.\n",
    "- The section/division tags `<div>` are often used to segment the source.\n",
    "- Paragraphs are defined with the `<p>` tag"
   ]
  },
  {
   "cell_type": "markdown",
   "metadata": {
    "slideshow": {
     "slide_type": "slide"
    }
   },
   "source": [
    "## The DOM\n",
    "\n",
    "The Document Object Model (DOM) is a cross-platform and language-independent application programming interface that treats an HTML, XHTML, or XML document as a tree structure wherein each node is an object representing a part of the document. Tools (including BeautifulSoup) parse HTML and produce a DOM-like representation\n",
    "\n",
    "![alt text](resources/dom.png)"
   ]
  },
  {
   "cell_type": "markdown",
   "metadata": {
    "collapsed": true,
    "slideshow": {
     "slide_type": "subslide"
    }
   },
   "source": [
    "## Retrieving Information\n",
    "- Once the DOM has been parsed, BeautifulSoup objects may be queried\n",
    "- Two query functions exist:\n",
    "    - find Return the first instance in the DOM to matches the query\n",
    "    - find_all Return a list of all tags that match the query\n",
    "- These functions take two parameters: the first parameter defines the tag to be searched for (e.g. head), and the second specifies filters\n",
    "- Attributes can also be handled by the search functions, e.g. to select only the segments with particular class attributes."
   ]
  },
  {
   "cell_type": "code",
   "execution_count": 3,
   "metadata": {
    "slideshow": {
     "slide_type": "subslide"
    }
   },
   "outputs": [
    {
     "name": "stdout",
     "output_type": "stream",
     "text": [
      "Head:\n",
      " [<head>\n",
      "<title>Scraping</title>\n",
      "</head>]\n"
     ]
    }
   ],
   "source": [
    "print(\"Head:\")\n",
    "print('', soup.find_all(\"head\"))"
   ]
  },
  {
   "cell_type": "code",
   "execution_count": 4,
   "metadata": {
    "scrolled": true,
    "slideshow": {
     "slide_type": "fragment"
    }
   },
   "outputs": [
    {
     "name": "stdout",
     "output_type": "stream",
     "text": [
      "\n",
      "Type of head:\n",
      " <map object at 0x7f7808c6d390>\n"
     ]
    }
   ],
   "source": [
    "print('\\nType of head:')\n",
    "print('', map(type, soup.find_all(\"head\")))"
   ]
  },
  {
   "cell_type": "code",
   "execution_count": 5,
   "metadata": {
    "slideshow": {
     "slide_type": "fragment"
    }
   },
   "outputs": [
    {
     "name": "stdout",
     "output_type": "stream",
     "text": [
      "\n",
      "Title tag:\n",
      " <title>Scraping</title>\n"
     ]
    }
   ],
   "source": [
    "print('\\nTitle tag:')\n",
    "print('', soup.find(\"title\"))"
   ]
  },
  {
   "cell_type": "code",
   "execution_count": 6,
   "metadata": {
    "slideshow": {
     "slide_type": "fragment"
    }
   },
   "outputs": [
    {
     "name": "stdout",
     "output_type": "stream",
     "text": [
      "\n",
      "Title text:\n",
      " Scraping\n"
     ]
    }
   ],
   "source": [
    "print('\\nTitle text:')\n",
    "print('', soup.find(\"title\").text)"
   ]
  },
  {
   "cell_type": "code",
   "execution_count": 7,
   "metadata": {
    "slideshow": {
     "slide_type": "subslide"
    }
   },
   "outputs": [
    {
     "name": "stdout",
     "output_type": "stream",
     "text": [
      "\n",
      "Div with class=col-sm-2:\n",
      " [<div class=\"col-sm-2\">\n",
      "<h2>section2</h2>\n",
      "<p>paragraph3</p>\n",
      "<p>unclosed\n",
      "    </p></div>]\n"
     ]
    }
   ],
   "source": [
    "divs = soup.find_all(\"div\", attrs={\"class\": \"col-sm-2\"})\n",
    "print('\\nDiv with class=col-sm-2:')\n",
    "print('', divs)"
   ]
  },
  {
   "cell_type": "code",
   "execution_count": 8,
   "metadata": {
    "slideshow": {
     "slide_type": "fragment"
    }
   },
   "outputs": [
    {
     "name": "stdout",
     "output_type": "stream",
     "text": [
      "\n",
      "Class of first div:\n",
      " ['col-sm-2']\n"
     ]
    }
   ],
   "source": [
    "print('\\nClass of first div:')\n",
    "print('', divs[0].attrs['class'])"
   ]
  },
  {
   "cell_type": "code",
   "execution_count": 9,
   "metadata": {
    "slideshow": {
     "slide_type": "fragment"
    }
   },
   "outputs": [
    {
     "name": "stdout",
     "output_type": "stream",
     "text": [
      "\n",
      "All paragraphs:\n",
      " [<p>paragraph1</p>, <p>paragraph2</p>, <p>paragraph3</p>, <p>unclosed\n",
      "    </p>]\n"
     ]
    }
   ],
   "source": [
    "print('\\nAll paragraphs:')\n",
    "print('', soup.find_all(\"p\"))"
   ]
  },
  {
   "cell_type": "markdown",
   "metadata": {
    "slideshow": {
     "slide_type": "skip"
    }
   },
   "source": [
    "## Beautilful soup on real data\n",
    "\n",
    "In this example I will show how you can use BeautifulSoup to retreive information from live web pages. We make use of The Guardian newspaper, and retreive the HTML from an arbitrary article. We then create the BeautifulSoup object, and query the links that were discovered in the DOM. Since a large number are returned, we then apply attribute filters that let us reduce significantly the number of returned links. I selected the filters selected for this example in order to focus on the names in the paper. The parameterisation of the attributes was discovered by using the inspect functionality of Google Chrome\n"
   ]
  },
  {
   "cell_type": "code",
   "execution_count": 10,
   "metadata": {
    "collapsed": true,
    "slideshow": {
     "slide_type": "skip"
    }
   },
   "outputs": [],
   "source": [
    "url = 'https://www.theguardian.com/technology/2017/jan/31/amazon-expedia-microsoft-support-washington-action-against-donald-trump-travel-ban'\n",
    "req = requests.get(url)\n",
    "source = req.text\n",
    "soup = BeautifulSoup(source, 'html.parser')"
   ]
  },
  {
   "cell_type": "code",
   "execution_count": 11,
   "metadata": {
    "slideshow": {
     "slide_type": "skip"
    }
   },
   "outputs": [
    {
     "name": "stdout",
     "output_type": "stream",
     "text": [
      "[<a class=\"u-h skip\" data-link-name=\"skip : main content\" href=\"#maincontent\">Skip to main content</a>, <a class=\"new-header__logo\" data-link-name=\"nav2 : logo\" href=\"https://www.theguardian.com/uk\">\n",
      "<span class=\"u-h\">The Guardian - Back to home</span>\n",
      "<span class=\"inline-guardian-logo-160 inline-logo new-header__logo\">\n",
      "<svg class=\"new-header__logo__svg inline-guardian-logo-160__svg inline-logo__svg\" height=\"30\" viewbox=\"0 0 320 60\" width=\"160\">\n",
      "<path d=\"M284 45h16v-3l-3-1.5v-20c1.2-.9 2.8-1.1 4.3-1.1 2.8 0 3.8.9 3.8 4.1v17l-3 1.5v3h16v-3l-3-1.5v-19c0-5.7-2.2-8.3-7.2-8.3-4.1 0-8.1 1.5-10.8 4V13h-1l-12.4 2.2v2.7l3.4 1.6v21l-3 1.5-.1 3zM245.3.4c-3 0-5.4 2.4-5.4 5.5 0 3 2.4 5.4 5.4 5.4 2.9 0 5.4-2.4 5.4-5.4-.1-3.1-2.5-5.5-5.4-5.5zM237 15.1v2.8l3 1.6v20.9l-3 1.5v3h16v-3l-3-1.5V13.1h-1l-12 2zM222.9 39c-.7.6-1.6 1.1-3.1 1.1-4 0-5.9-3.3-5.9-10.9 0-8.7 2.4-11.7 5.6-11.7 1.8 0 2.7.6 3.4 1.4V39zm0-24.5c-1.2-.9-3.2-1.4-4.9-1.4-7.4 0-14.5 4.3-14.5 16.8 0 11.9 7.1 15.7 11.8 15.7 3.8 0 6.4-1.7 7.6-3.4h.3v3.3h.9l11.9-1.4v-2.3l-3.2-1.8V.6h-.8l-12.6 2v2.8l3.4 1.6v7.5h.1zM181 18l3 1.5v20.9l-3 1.5v3h17v-3l-3.9-1.5V24.1c1.8-1.4 4-1.9 6.7-1.9.9 0 1.6.2 2.2.3v-9c-.3-.1-.7-.2-1.2-.2-3.3 0-5.9 2.1-7.7 6.2V13H193l-12 2v3zm-19.3-.8c3.9 0 5 2 5 5.9v3.5l-5.8 1.1c-5.9 1.1-10.4 3-10.4 9.3 0 5.1 3.5 8.7 8.3 8.7 3.8 0 7.4-1.7 8.7-4.4h.3c.5 3.3 3.3 4.4 6.4 4.4 2.4 0 4.8-.6 5.7-1.6v-2l-3-1.5v-18c0-6.9-5-9.4-13.1-9.4-5.3 0-8.8 1.4-11.6 2.7v7.8h4.7l2-6c.9-.5 2.4-.5 2.8-.5zm2.3 22.9c-1.9 0-4-1.1-4-4.6 0-2.4 2.4-4.6 4.8-5l2.2-.5v8.5s-1.9 1.6-3 1.6zm100.8-22.9c3.9 0 5 2 5 5.9v3.5l-5.8 1.1c-5.9 1.1-10.4 3-10.4 9.3 0 5.1 3.5 8.7 8.3 8.7 3.8 0 7.4-1.7 8.7-4.4h.3c.5 3.3 3.3 4.4 6.4 4.4 2.4 0 4.8-.6 5.7-1.6v-2l-3-1.5v-18c0-6.9-5-9.4-13.1-9.4-5.3 0-8.8 1.4-11.6 2.7v7.8h4.7l2-6c.8-.5 2.3-.5 2.8-.5zm2.2 22.9c-1.9 0-4-1.1-4-4.6 0-2.4 2.4-4.6 4.8-5l2.2-.5v8.5s-1.9 1.6-3 1.6zm-138.7 5.6c.4 0 .9 0 1.3-.1 3.5-.3 6.7-2 8.4-4.2v4.1l12-1.5v-2l-3-2V13h-1l-11.9 2.3v2.8l3.9 1.6V38c-1.1.8-2.4 1.3-4.2 1.3-2.5 0-4.8-.8-4.8-4.3V13h-1l-12 2.5v2.6l4 1.6V36c0 5.4 2.2 9.7 8.3 9.7zM96 38c-1.2 0-2.5-.8-2.5-1.9 0-.8.6-1.7 1.3-2.3 1.6.5 3 .6 5 .6 7.8 0 13.2-3.7 13.2-10.4 0-3-1.3-4.6-3.2-6.4L115 19v-6l-8.2 1.6c-1.9-.7-4.5-1.6-7-1.6-7.8 0-13.2 4.1-13.2 10.8 0 4.1 2 7.1 5 8.8l.3.2c-1.7 1.2-5.3 4-5.3 7.2 0 2.4 1.5 4.8 4.8 5.5C88 46.3 84 48 84 52c0 4.1 5.9 8 15.5 8 11.8 0 16.5-5.7 16.5-13 0-6.1-2.8-9-9.5-9H96zm7.5-14c0 5.7-1.3 6.5-3.5 6.5s-4-.8-4-6.5c0-5.8 1.8-7.5 4-7.5s3.5 2 3.5 7.5zM92 50.9c.1-1.5 1.1-3.4 3.7-3.6h8.6c2.5 0 3.7 2 3.7 3.6 0 3.2-2 4.4-8.3 4.4-5.5 0-7.8-2.2-7.7-4.4z\" fill=\"#fff\"></path>\n",
      "<path d=\"M83 30c0-13-5.1-16.9-13-16.9-9 0-15 6.2-15 16.4 0 10.5 5.5 16.2 15.8 16.2 5.6 0 9.8-2.7 11.2-4.7v-3c-2.1.7-3.9 1.2-7.8 1.2-5.4 0-9.2-3.2-9.2-9.2h18zM69.9 16.6c2.5 0 3.8 1.9 3.8 9.6l-8.4.5c.2-7.9 1.8-10.1 4.6-10.1zM37 45v-3l-3-1.5V21c1.2-.9 3.3-1.7 4.8-1.7 2.8 0 4.3 1.5 4.2 4.2v17L40 42v3h16v-3l-3-1.5v-19c0-5.7-3.3-8.3-7.7-8.3-4.1 0-8.6 1.3-11.3 3.8V0h-1L21 2v3l4 1.5v34L22 42v3h15zM4 36.4c0 5.7 2.8 9.3 8.9 9.3 3.1 0 6.5-.8 8.4-2.3v-3.8c-.8.3-2.2.5-3.3.5-2.9 0-4-1.6-4-4.6V19h7v-5h-7V6.5L4 8v6l-4 1v4h4v17.4z\" fill=\"#AADCE6\"></path>\n",
      "</svg>\n",
      "</span>\n",
      "</a>, <a class=\"header-cta-item header-cta-item--primary\" data-edition=\"uk\" data-link-name=\"nav2 : supporter-cta\" href=\"\n",
      "    \n",
      "        https://membership.theguardian.com/uk/supporter?INTCMP=mem_uk_web_newheader\n",
      "    \n",
      "\">\n",
      "<span class=\"header-cta-item__label\">\n",
      "become a <span class=\"header-cta-item__new-line\">supporter</span>\n",
      "</span>\n",
      "</a>, <a class=\"header-cta-item hide-until-tablet header-cta-item--secondary\" data-edition=\"uk\" data-link-name=\"nav2 : subscribe-cta\" href=\"https://subscribe.theguardian.com/uk?INTCMP=subs_uk_web_newheader\">\n",
      "<span class=\"header-cta-item__label\">\n",
      "subscribe\n",
      "</span>\n",
      "</a>, <a class=\"header-cta-item hide-until-tablet header-cta-item--secondary\" data-edition=\"uk\" data-link-name=\"nav2 : job-cta\" href=\"\n",
      "    \n",
      "        https://jobs.theguardian.com?INTCMP=jobs_uk_web_newheader\n",
      "    \n",
      "\">\n",
      "<span class=\"header-cta-item__label\">\n",
      "<span class=\"hide-until-tablet\">find a job</span>\n",
      "<span class=\"hide-from-tablet\">jobs</span>\n",
      "</span>\n",
      "</a>, <a class=\"pillar-link pillar-link--current-section\" data-link-name=\"nav2 : primary : news\" href=\"https://www.theguardian.com/uk\">\n",
      "news\n",
      "</a>, <a class=\"pillar-link\" data-link-name=\"nav2 : primary : opinion\" href=\"https://www.theguardian.com/uk/commentisfree\">\n",
      "opinion\n",
      "</a>, <a class=\"pillar-link\" data-link-name=\"nav2 : primary : sport\" href=\"https://www.theguardian.com/uk/sport\">\n",
      "sport\n",
      "</a>, <a class=\"pillar-link\" data-link-name=\"nav2 : primary : arts\" href=\"https://www.theguardian.com/uk/culture\">\n",
      "arts\n",
      "</a>, <a class=\"pillar-link\" data-link-name=\"nav2 : primary : life\" href=\"https://www.theguardian.com/uk/lifeandstyle\">\n",
      "life\n",
      "</a>, <a class=\"menu-item__title\" data-link-name=\"nav2 : secondary : headlines\" href=\"https://www.theguardian.com/uk\">\n",
      "<span class=\"inline-home inline-icon menu-item__icon\">\n",
      "<svg class=\"menu-item__icon__svg inline-home__svg inline-icon__svg\" height=\"18\" viewbox=\"0 0 15 18\" width=\"15\">\n",
      "<path d=\"M7.9 0h-1L0 7v10.1l.9.9h4.2v-6.6h4.7V18h4.3l.9-1V7z\"></path>\n",
      "</svg>\n",
      "</span>\n",
      "headlines\n",
      "</a>, <a class=\"menu-item__title\" data-link-name=\"nav2 : secondary : UK news\" href=\"https://www.theguardian.com/uk-news\">\n",
      "UK news\n",
      "</a>, <a class=\"menu-item__title\" data-link-name=\"nav2 : secondary : world news\" href=\"https://www.theguardian.com/world\">\n",
      "world news\n",
      "</a>, <a class=\"menu-item__title\" data-link-name=\"nav2 : secondary : business\" href=\"https://www.theguardian.com/uk/business\">\n",
      "business\n",
      "</a>, <a class=\"menu-item__title\" data-link-name=\"nav2 : secondary : environment\" href=\"https://www.theguardian.com/uk/environment\">\n",
      "environment\n",
      "</a>, <a class=\"menu-item__title\" data-link-name=\"nav2 : secondary : tech\" href=\"https://www.theguardian.com/uk/technology\">\n",
      "tech\n",
      "</a>, <a class=\"menu-item__title\" data-link-name=\"nav2 : secondary : UK politics\" href=\"https://www.theguardian.com/politics\">\n",
      "UK politics\n",
      "</a>, <a class=\"menu-item__title\" data-link-name=\"nav2 : secondary : science\" href=\"https://www.theguardian.com/science\">\n",
      "science\n",
      "</a>, <a class=\"menu-item__title\" data-link-name=\"nav2 : secondary : global development\" href=\"https://www.theguardian.com/global-development\">\n",
      "global development\n",
      "</a>, <a class=\"menu-item__title\" data-link-name=\"nav2 : secondary : cities\" href=\"https://www.theguardian.com/cities\">\n",
      "cities\n",
      "</a>, <a class=\"menu-item__title\" data-link-name=\"nav2 : secondary : obituaries\" href=\"https://www.theguardian.com/tone/obituaries\">\n",
      "obituaries\n",
      "</a>, <a class=\"menu-item__title\" data-link-name=\"nav2 : secondary : opinion home\" href=\"https://www.theguardian.com/uk/commentisfree\">\n",
      "<span class=\"inline-home inline-icon menu-item__icon\">\n",
      "<svg class=\"menu-item__icon__svg inline-home__svg inline-icon__svg\" height=\"18\" viewbox=\"0 0 15 18\" width=\"15\">\n",
      "<path d=\"M7.9 0h-1L0 7v10.1l.9.9h4.2v-6.6h4.7V18h4.3l.9-1V7z\"></path>\n",
      "</svg>\n",
      "</span>\n",
      "opinion home\n",
      "</a>, <a class=\"menu-item__title\" data-link-name=\"nav2 : secondary : the guardian view\" href=\"https://www.theguardian.com/profile/editorial\">\n",
      "the guardian view\n",
      "</a>, <a class=\"menu-item__title\" data-link-name=\"nav2 : secondary : columnists\" href=\"https://www.theguardian.com/index/contributors\">\n",
      "columnists\n",
      "</a>, <a class=\"menu-item__title\" data-link-name=\"nav2 : secondary : cartoons\" href=\"https://www.theguardian.com/cartoons/archive\">\n",
      "cartoons\n",
      "</a>, <a class=\"menu-item__title\" data-link-name=\"nav2 : secondary : opinion videos\" href=\"https://www.theguardian.com/commentisfree/series/comment-is-free-weekly\">\n",
      "opinion videos\n",
      "</a>, <a class=\"menu-item__title\" data-link-name=\"nav2 : secondary : letters\" href=\"https://www.theguardian.com/tone/letters\">\n",
      "letters\n",
      "</a>, <a class=\"menu-item__title\" data-link-name=\"nav2 : secondary : Polly Toynbee\" href=\"https://www.theguardian.com/profile/pollytoynbee\">\n",
      "Polly Toynbee\n",
      "</a>, <a class=\"menu-item__title\" data-link-name=\"nav2 : secondary : Owen Jones\" href=\"https://www.theguardian.com/profile/owen-jones\">\n",
      "Owen Jones\n",
      "</a>, <a class=\"menu-item__title\" data-link-name=\"nav2 : secondary : Jonathan Freedland\" href=\"https://www.theguardian.com/profile/jonathanfreedland\">\n",
      "Jonathan Freedland\n",
      "</a>, <a class=\"menu-item__title\" data-link-name=\"nav2 : secondary : Marina Hyde\" href=\"https://www.theguardian.com/profile/marinahyde\">\n",
      "Marina Hyde\n",
      "</a>, <a class=\"menu-item__title\" data-link-name=\"nav2 : secondary : sport home\" href=\"https://www.theguardian.com/uk/sport\">\n",
      "<span class=\"inline-home inline-icon menu-item__icon\">\n",
      "<svg class=\"menu-item__icon__svg inline-home__svg inline-icon__svg\" height=\"18\" viewbox=\"0 0 15 18\" width=\"15\">\n",
      "<path d=\"M7.9 0h-1L0 7v10.1l.9.9h4.2v-6.6h4.7V18h4.3l.9-1V7z\"></path>\n",
      "</svg>\n",
      "</span>\n",
      "sport home\n",
      "</a>, <a class=\"menu-item__title\" data-link-name=\"nav2 : secondary : football\" href=\"https://www.theguardian.com/football\">\n",
      "football\n",
      "</a>, <a class=\"menu-item__title\" data-link-name=\"nav2 : secondary : rugby union\" href=\"https://www.theguardian.com/sport/rugby-union\">\n",
      "rugby union\n",
      "</a>, <a class=\"menu-item__title\" data-link-name=\"nav2 : secondary : cricket\" href=\"https://www.theguardian.com/sport/cricket\">\n",
      "cricket\n",
      "</a>, <a class=\"menu-item__title\" data-link-name=\"nav2 : secondary : tennis\" href=\"https://www.theguardian.com/sport/tennis\">\n",
      "tennis\n",
      "</a>, <a class=\"menu-item__title\" data-link-name=\"nav2 : secondary : cycling\" href=\"https://www.theguardian.com/sport/cycling\">\n",
      "cycling\n",
      "</a>, <a class=\"menu-item__title\" data-link-name=\"nav2 : secondary : F1\" href=\"https://www.theguardian.com/sport/formulaone\">\n",
      "F1\n",
      "</a>, <a class=\"menu-item__title\" data-link-name=\"nav2 : secondary : rugby league\" href=\"https://www.theguardian.com/sport/rugbyleague\">\n",
      "rugby league\n",
      "</a>, <a class=\"menu-item__title\" data-link-name=\"nav2 : secondary : racing\" href=\"https://www.theguardian.com/sport/horse-racing\">\n",
      "racing\n",
      "</a>, <a class=\"menu-item__title\" data-link-name=\"nav2 : secondary : US sports\" href=\"https://www.theguardian.com/sport/us-sport\">\n",
      "US sports\n",
      "</a>, <a class=\"menu-item__title\" data-link-name=\"nav2 : secondary : golf\" href=\"https://www.theguardian.com/sport/golf\">\n",
      "golf\n",
      "</a>, <a class=\"menu-item__title\" data-link-name=\"nav2 : secondary : culture home\" href=\"https://www.theguardian.com/uk/culture\">\n",
      "<span class=\"inline-home inline-icon menu-item__icon\">\n",
      "<svg class=\"menu-item__icon__svg inline-home__svg inline-icon__svg\" height=\"18\" viewbox=\"0 0 15 18\" width=\"15\">\n",
      "<path d=\"M7.9 0h-1L0 7v10.1l.9.9h4.2v-6.6h4.7V18h4.3l.9-1V7z\"></path>\n",
      "</svg>\n",
      "</span>\n",
      "culture home\n",
      "</a>, <a class=\"menu-item__title\" data-link-name=\"nav2 : secondary : tv &amp; radio\" href=\"https://www.theguardian.com/uk/tv-and-radio\">\n",
      "tv &amp; radio\n",
      "</a>, <a class=\"menu-item__title\" data-link-name=\"nav2 : secondary : music\" href=\"https://www.theguardian.com/music\">\n",
      "music\n",
      "</a>, <a class=\"menu-item__title\" data-link-name=\"nav2 : secondary : film\" href=\"https://www.theguardian.com/uk/film\">\n",
      "film\n",
      "</a>, <a class=\"menu-item__title\" data-link-name=\"nav2 : secondary : stage\" href=\"https://www.theguardian.com/stage\">\n",
      "stage\n",
      "</a>, <a class=\"menu-item__title\" data-link-name=\"nav2 : secondary : books\" href=\"https://www.theguardian.com/books\">\n",
      "books\n",
      "</a>, <a class=\"menu-item__title\" data-link-name=\"nav2 : secondary : games\" href=\"https://www.theguardian.com/technology/games\">\n",
      "games\n",
      "</a>, <a class=\"menu-item__title\" data-link-name=\"nav2 : secondary : art &amp; design\" href=\"https://www.theguardian.com/artanddesign\">\n",
      "art &amp; design\n",
      "</a>, <a class=\"menu-item__title\" data-link-name=\"nav2 : secondary : classical\" href=\"https://www.theguardian.com/music/classicalmusicandopera\">\n",
      "classical\n",
      "</a>, <a class=\"menu-item__title\" data-link-name=\"nav2 : secondary : lifestyle home\" href=\"https://www.theguardian.com/uk/lifeandstyle\">\n",
      "<span class=\"inline-home inline-icon menu-item__icon\">\n",
      "<svg class=\"menu-item__icon__svg inline-home__svg inline-icon__svg\" height=\"18\" viewbox=\"0 0 15 18\" width=\"15\">\n",
      "<path d=\"M7.9 0h-1L0 7v10.1l.9.9h4.2v-6.6h4.7V18h4.3l.9-1V7z\"></path>\n",
      "</svg>\n",
      "</span>\n",
      "lifestyle home\n",
      "</a>, <a class=\"menu-item__title\" data-link-name=\"nav2 : secondary : fashion\" href=\"https://www.theguardian.com/fashion\">\n",
      "fashion\n",
      "</a>, <a class=\"menu-item__title\" data-link-name=\"nav2 : secondary : food\" href=\"https://www.theguardian.com/lifeandstyle/food-and-drink\">\n",
      "food\n",
      "</a>, <a class=\"menu-item__title\" data-link-name=\"nav2 : secondary : recipes\" href=\"https://www.theguardian.com/tone/recipes\">\n",
      "recipes\n",
      "</a>, <a class=\"menu-item__title\" data-link-name=\"nav2 : secondary : travel\" href=\"https://www.theguardian.com/uk/travel\">\n",
      "travel\n",
      "</a>, <a class=\"menu-item__title\" data-link-name=\"nav2 : secondary : love &amp; sex\" href=\"https://www.theguardian.com/lifeandstyle/love-and-sex\">\n",
      "love &amp; sex\n",
      "</a>, <a class=\"menu-item__title\" data-link-name=\"nav2 : secondary : family\" href=\"https://www.theguardian.com/lifeandstyle/family\">\n",
      "family\n",
      "</a>, <a class=\"menu-item__title\" data-link-name=\"nav2 : secondary : home &amp; garden\" href=\"https://www.theguardian.com/lifeandstyle/home-and-garden\">\n",
      "home &amp; garden\n",
      "</a>, <a class=\"menu-item__title\" data-link-name=\"nav2 : secondary : health &amp; fitness\" href=\"https://www.theguardian.com/lifeandstyle/health-and-wellbeing\">\n",
      "health &amp; fitness\n",
      "</a>, <a class=\"menu-item__title\" data-link-name=\"nav2 : secondary : women\" href=\"https://www.theguardian.com/lifeandstyle/women\">\n",
      "women\n",
      "</a>, <a class=\"menu-item__title\" data-link-name=\"nav2 : secondary : money\" href=\"https://www.theguardian.com/uk/money\">\n",
      "money\n",
      "</a>, <a class=\"menu-item__title\" data-link-name=\"nav2 : become a supporter\" href=\"https://membership.theguardian.com/uk/supporter?INTCMP=mem_uk_web_newheader\">\n",
      "become a supporter\n",
      "</a>, <a class=\"menu-item__title\" data-link-name=\"nav2 : subscribe\" href=\"https://subscribe.theguardian.com/uk?INTCMP=NGW_NEWHEADER_uk_GU_SUBSCRIBE\">\n",
      "subscribe\n",
      "</a>, <a class=\"menu-item__title\" data-link-name=\"nav2 : sign in\" href=\"https://profile.theguardian.com/signin?INTCMP=DOTCOM_NEWHEADER_SIGNIN\">\n",
      "Sign in/up\n",
      "</a>, <a class=\"menu-item__title js-add-comment-activity-link\" data-link-name=\"nav2 : comment activity\">\n",
      "Comment activity\n",
      "</a>, <a class=\"menu-item__title\" data-link-name=\"nav2 : edit profile\" href=\"https://profile.theguardian.com/public/edit\">\n",
      "Edit profile\n",
      "</a>, <a class=\"menu-item__title\" data-link-name=\"nav2 : email preferences\" href=\"https://profile.theguardian.com/email-prefs\">\n",
      "Email preferences\n",
      "</a>, <a class=\"menu-item__title\" data-link-name=\"nav2 : change password\" href=\"https://profile.theguardian.com/password/change\">\n",
      "Change password\n",
      "</a>, <a class=\"menu-item__title\" data-link-name=\"nav2 : sign out\" href=\"https://profile.theguardian.com/signout\">\n",
      "Sign out\n",
      "</a>, <a class=\"menu-item__title\" data-link-name=\"nav2 : edition-picker: UK\" href=\"https://www.theguardian.com/preference/edition/uk\">\n",
      "<span class=\"u-h\">switch to the </span>\n",
      "<span class=\"hide-until-desktop\">UK</span>\n",
      "</a>, <a class=\"menu-item__title\" data-link-name=\"nav2 : edition-picker: US\" href=\"https://www.theguardian.com/preference/edition/us\">\n",
      "<span class=\"u-h\">switch to the </span>\n",
      "<span class=\"hide-on-desktop\">US edition</span>\n",
      "<span class=\"hide-until-desktop\">US</span>\n",
      "</a>, <a class=\"menu-item__title\" data-link-name=\"nav2 : edition-picker: AU\" href=\"https://www.theguardian.com/preference/edition/au\">\n",
      "<span class=\"u-h\">switch to the </span>\n",
      "<span class=\"hide-on-desktop\">Australia edition</span>\n",
      "<span class=\"hide-until-desktop\">AU</span>\n",
      "</a>, <a class=\"menu-item__title\" data-link-name=\"nav2 : edition-picker: INT\" href=\"https://www.theguardian.com/preference/edition/int\">\n",
      "<span class=\"u-h\">switch to the </span>\n",
      "<span class=\"hide-on-desktop\">International edition</span>\n",
      "<span class=\"hide-until-desktop\">INT</span>\n",
      "</a>, <a class=\"menu-item__title\" data-link-name=\"nav2 : jobs\" href=\"https://jobs.theguardian.com?INTCMP=jobs_uk_web_newheader\">\n",
      "jobs\n",
      "</a>, <a class=\"menu-item__title\" data-link-name=\"nav2 : dating\" href=\"https://soulmates.theguardian.com?INTCMP=soulmates_uk_web_newheader\">\n",
      "dating\n",
      "</a>, <a class=\"menu-item__title\" data-link-name=\"nav2 : holidays\" href=\"https://holidays.theguardian.com?INTCMP=holidays_uk_web_newheader\">\n",
      "holidays\n",
      "</a>, <a class=\"menu-item__title\" data-link-name=\"nav2 : masterclasses\" href=\"https://www.theguardian.com/guardian-masterclasses?INTCMP=masterclasses_uk_web_newheader\">\n",
      "masterclasses\n",
      "</a>, <a class=\"menu-item__title\" data-link-name=\"nav2 : the guardian app\" href=\"https://app.adjust.com/f8qm1x_8q69t7?campaign=NewHeader&amp;amp;adgroup=Mobile&amp;amp;creative=generic?INTCMP=apps_uk_web_newheader\">\n",
      "the guardian app\n",
      "</a>, <a class=\"menu-item__title\" data-link-name=\"nav2 : video\" href=\"https://www.theguardian.com/video\">\n",
      "video\n",
      "</a>, <a class=\"menu-item__title\" data-link-name=\"nav2 : podcasts\" href=\"https://www.theguardian.com/podcasts\">\n",
      "podcasts\n",
      "</a>, <a class=\"menu-item__title\" data-link-name=\"nav2 : pictures\" href=\"https://www.theguardian.com/inpictures\">\n",
      "pictures\n",
      "</a>, <a class=\"menu-item__title\" data-link-name=\"nav2 : newsletters\" href=\"https://www.theguardian.com/email-newsletters\">\n",
      "newsletters\n",
      "</a>, <a class=\"menu-item__title\" data-link-name=\"nav2 : today's paper\" href=\"https://www.theguardian.com/theguardian\">\n",
      "today's paper\n",
      "</a>, <a class=\"menu-item__title\" data-link-name=\"nav2 : the observer\" href=\"https://www.theguardian.com/observer\">\n",
      "the observer\n",
      "</a>, <a class=\"menu-item__title\" data-link-name=\"nav2 : digital archive\" href=\"https://theguardian.newspapers.com\">\n",
      "digital archive\n",
      "</a>, <a class=\"menu-item__title\" data-link-name=\"nav2 : professional networks\" href=\"https://www.theguardian.com/guardian-professional\">\n",
      "professional networks\n",
      "</a>, <a class=\"menu-item__title\" data-link-name=\"nav2 : crosswords\" href=\"https://www.theguardian.com/crosswords\">\n",
      "crosswords\n",
      "</a>, <a class=\"menu-item__title\" data-link-name=\"nav2 : facebook\" href=\"https://www.facebook.com/theguardian\">\n",
      "<span class=\"inline-share-facebook inline-icon menu-item__icon\">\n",
      "<svg class=\"menu-item__icon__svg inline-share-facebook__svg inline-icon__svg\" height=\"32\" viewbox=\"-2 -2 32 32\" width=\"32\">\n",
      "<path d=\"M17.9 14h-3v8H12v-8h-2v-2.9h2V8.7C12 6.8 13.1 5 16 5c1.2 0 2 .1 2 .1v3h-1.8c-1 0-1.2.5-1.2 1.3v1.8h3l-.1 2.8z\"></path>\n",
      "</svg>\n",
      "</span>\n",
      "Facebook\n",
      "</a>, <a class=\"menu-item__title\" data-link-name=\"nav2 : twitter\" href=\"https://twitter.com/guardian\">\n",
      "<span class=\"inline-share-twitter inline-icon menu-item__icon\">\n",
      "<svg class=\"menu-item__icon__svg inline-share-twitter__svg inline-icon__svg\" height=\"32\" viewbox=\"-2 -2 32 32\" width=\"32\">\n",
      "<path d=\"M21.3 10.5v.5c0 4.7-3.5 10.1-9.9 10.1-2 0-3.8-.6-5.3-1.6.3 0 .6.1.8.1 1.6 0 3.1-.6 4.3-1.5-1.5 0-2.8-1-3.3-2.4.2 0 .4.1.7.1l.9-.1c-1.6-.3-2.8-1.8-2.8-3.5.5.3 1 .4 1.6.4-.9-.6-1.6-1.7-1.6-2.9 0-.6.2-1.3.5-1.8 1.7 2.1 4.3 3.6 7.2 3.7-.1-.3-.1-.5-.1-.8 0-2 1.6-3.5 3.5-3.5 1 0 1.9.4 2.5 1.1.8-.1 1.5-.4 2.2-.8-.3.8-.8 1.5-1.5 1.9.7-.1 1.4-.3 2-.5-.4.4-1 1-1.7 1.5z\"></path>\n",
      "</svg>\n",
      "</span>\n",
      "Twitter\n",
      "</a>, <a class=\"menu-brand-extensions-item\" data-link-name=\"nav2 : brand extension : jobs\" href=\"https://jobs.theguardian.com?INTCMP=jobs_uk_web_newheader\">\n",
      "jobs\n",
      "</a>, <a class=\"menu-brand-extensions-item\" data-link-name=\"nav2 : brand extension : dating\" href=\"https://soulmates.theguardian.com?INTCMP=soulmates_uk_web_newheader\">\n",
      "dating\n",
      "</a>, <a class=\"menu-brand-extensions-item\" data-link-name=\"nav2 : brand extension : holidays\" href=\"https://holidays.theguardian.com?INTCMP=holidays_uk_web_newheader\">\n",
      "holidays\n",
      "</a>, <a class=\"menu-brand-extensions-item\" data-link-name=\"nav2 : brand extension : masterclasses\" href=\"https://www.theguardian.com/guardian-masterclasses?INTCMP=masterclasses_uk_web_newheader\">\n",
      "masterclasses\n",
      "</a>, <a class=\"subnav-link\" data-link-name=\"nav2 : subnav : UK news\" href=\"https://www.theguardian.com/uk-news\">\n",
      "UK\n",
      "</a>, <a class=\"subnav-link\" data-link-name=\"nav2 : subnav : world news\" href=\"https://www.theguardian.com/world\">\n",
      "world\n",
      "</a>, <a class=\"subnav-link\" data-link-name=\"nav2 : subnav : business\" href=\"https://www.theguardian.com/uk/business\">\n",
      "business\n",
      "</a>, <a class=\"subnav-link\" data-link-name=\"nav2 : subnav : environment\" href=\"https://www.theguardian.com/uk/environment\">\n",
      "environment\n",
      "</a>, <a class=\"subnav-link subnav-link--current-section\" data-link-name=\"nav2 : subnav : tech\" href=\"https://www.theguardian.com/uk/technology\">\n",
      "tech\n",
      "</a>, <a class=\"subnav-link\" data-link-name=\"nav2 : subnav : UK politics\" href=\"https://www.theguardian.com/politics\">\n",
      "UK politics\n",
      "</a>, <a class=\"subnav-link\" data-link-name=\"nav2 : subnav : science\" href=\"https://www.theguardian.com/science\">\n",
      "science\n",
      "</a>, <a class=\"subnav-link\" data-link-name=\"nav2 : subnav : global development\" href=\"https://www.theguardian.com/global-development\">\n",
      "global development\n",
      "</a>, <a class=\"subnav-link\" data-link-name=\"nav2 : subnav : cities\" href=\"https://www.theguardian.com/cities\">\n",
      "cities\n",
      "</a>, <a class=\"subnav-link\" data-link-name=\"nav2 : subnav : obituaries\" href=\"https://www.theguardian.com/tone/obituaries\">\n",
      "obituaries\n",
      "</a>, <a aria-haspopup=\"true\" class=\"brand-bar__item--action popup__toggle\" data-link-name=\"User profile\" data-test-id=\"sign-in-link\" data-toggle=\"popup--profile\" data-toggle-signed-in=\"true\" href=\"https://profile.theguardian.com/signin?INTCMP=DOTCOM_HEADER_SIGNIN\">\n",
      "<span class=\"inline-profile-36 inline-icon rounded-icon control__icon-wrapper\">\n",
      "<svg class=\"rounded-icon__svg control__icon-wrapper__svg inline-profile-36__svg inline-icon__svg\" height=\"18\" viewbox=\"0 0 18 18\" width=\"18\">\n",
      "<path d=\"M9 7.3c1.6 0 3.4-1.8 3.4-3.9S11.1 0 9 0 5.6 1.3 5.6 3.4s2 3.9 3.4 3.9zm5.9 3.4l-.9-.8c-1.7-.6-3.1-.9-5-.9s-3.3.3-5 .9l-.9.9L1 17.2l.9.8h14.3l.9-.9-2.2-6.4z\"></path>\n",
      "</svg>\n",
      "</span>\n",
      "<span class=\"js-profile-info control__info\" data-test-id=\"sign-in-name\">sign in</span>\n",
      "</a>, <a class=\"brand-bar__item--action js-comment-activity u-h\" data-link-name=\"Comment activity\">\n",
      "Comment activity</a>, <a class=\"brand-bar__item--action\" data-link-name=\"Edit profile\" href=\"https://profile.theguardian.com/public/edit\">\n",
      "Edit profile</a>, <a class=\"brand-bar__item--action\" data-link-name=\"Email preferences\" href=\"https://profile.theguardian.com/email-prefs\">\n",
      "Email preferences</a>, <a class=\"brand-bar__item--action\" data-link-name=\"Change password\" href=\"https://profile.theguardian.com/password/change\">\n",
      "Change password</a>, <a class=\"brand-bar__item--action\" data-link-name=\"Sign out\" href=\"https://profile.theguardian.com/signout\">\n",
      "Sign out</a>, <a class=\"brand-bar__item--action brand-bar__item--split--first js-become-member\" data-link-name=\"Register link\" href=\"https://membership.theguardian.com/supporter?INTCMP=mem_UK_web_newheader_control\">\n",
      "<span class=\"control__info js-control-info control__info--supporting\">\n",
      "become a supporter\n",
      "</span>\n",
      "</a>, <a class=\"brand-bar__item--action brand-bar__item--split--last js-subscribe\" data-link-name=\"uk : topNav : subscribe\" href=\"https://subscribe.theguardian.com/?INTCMP=subs_UK_web_newheader_control\">\n",
      "<span class=\"control__info js-control-info\">subscribe</span>\n",
      "</a>, <a aria-haspopup=\"true\" class=\"brand-bar__item--action popup__toggle js-search-toggle\" data-is-ajax=\"\" data-link-name=\"Search icon\" data-toggle=\"popup--search\" href=\"https://www.google.co.uk/advanced_search?q=site:www.theguardian.com\">\n",
      "<span class=\"inline-search-36 inline-icon rounded-icon control__icon-wrapper\">\n",
      "<svg class=\"rounded-icon__svg control__icon-wrapper__svg inline-search-36__svg inline-icon__svg\" height=\"18\" viewbox=\"0 0 18 18\" width=\"18\">\n",
      "<path d=\"M6.5 1.6c2.7 0 4.9 2.2 4.9 4.9s-2.2 4.9-4.9 4.9-4.9-2.2-4.9-4.9 2.2-4.9 4.9-4.9m0-1.6C2.9 0 0 2.9 0 6.5S2.9 13 6.5 13 13 10.1 13 6.5 10.1 0 6.5 0zm6.6 11.5l4.9 4.9-1.6 1.6-4.9-4.9v-.8l.8-.8h.8z\"></path>\n",
      "</svg>\n",
      "</span>\n",
      "<span class=\"control__info\">search</span>\n",
      "</a>, <a class=\"brand-bar__item--action\" data-link-name=\"uk : topNav : jobs\" href=\"\n",
      "    \n",
      "        https://jobs.theguardian.com/?INTCMP=jobs_uk_web_newheader_control\n",
      "    \n",
      "\">jobs</a>, <a class=\"brand-bar__item--action\" data-link-name=\"uk : topNav : soulmates\" href=\"\n",
      "    \n",
      "        https://soulmates.theguardian.com/?INTCMP=soulmates_uk_web_newheader_control\n",
      "    \n",
      "\">dating</a>, <a aria-controls=\"guardian-services-top-menu\" aria-haspopup=\"true\" class=\"brand-bar__item--action popup__toggle\" data-link-name=\"topNav : more\" data-toggle=\"top-bar__popup--more\">\n",
      "<span class=\"rounded-icon control__icon-wrapper\">\n",
      "<!--[if (gt IE 8)&(IEMobile)]><!-->\n",
      "<span class=\"inline-ellipsis-36 inline-icon \">\n",
      "<svg class=\"inline-ellipsis-36__svg inline-icon__svg\" fill=\"#fff\" height=\"18\" viewbox=\"0 0 24 18\" width=\"24\">\n",
      "<circle cx=\"3\" cy=\"10\" r=\"3\"></circle>\n",
      "<circle cx=\"12\" cy=\"10\" r=\"3\"></circle>\n",
      "<circle cx=\"21\" cy=\"10\" r=\"3\"></circle>\n",
      "</svg>\n",
      "</span>\n",
      "<!--<![endif]-->\n",
      "</span>\n",
      "<span class=\"control__info\" data-test-id=\"sign-in-name\">more</span>\n",
      "</a>, <a class=\"brand-bar__item--action\" data-link-name=\"uk : topNav : soulmates\" href=\"\n",
      "    \n",
      "        https://soulmates.theguardian.com/?INTCMP=soulmates_uk_web_newheader_control\n",
      "    \n",
      "\">dating</a>, <a class=\"brand-bar__item--action\" data-link-name=\"uk : topNav : masterclasses\" href=\"\n",
      "    \n",
      "        https://www.theguardian.com/guardian-masterclasses?INTCMP=masterclasses_uk_web_newheader_control\n",
      "    \n",
      "\">masterclasses</a>, <a class=\"brand-bar__item--action\" data-link-name=\"uk : topNav : courses\" href=\"https://courses.theguardian.com?INTCMP=NGW_TOPNAV_UK_GU_COURSES\">courses</a>, <a class=\"brand-bar__item--action\" data-link-name=\"uk : topNav : holidays\" href=\"\n",
      "    \n",
      "        https://holidays.theguardian.com/?INTCMP=holidays_uk_web_newheader_control\n",
      "    \n",
      "\">holidays</a>, <a class=\"brand-bar__item--action\" data-link-name=\"uk : topNav : membership\" href=\"https://membership.theguardian.com/supporter?INTCMP=NGW_TOPNAV_UK_GU_MEMBERSHIP\">membership</a>, <a class=\"brand-bar__item--action\" data-link-name=\"uk : topNav : subscribe\" href=\"https://subscribe.theguardian.com/uk?INTCMP=NGW_TOPNAV_UK_GU_SUBSCRIBE\">subscribe</a>, <a class=\"brand-bar__item--action brand-bar__item--inline-action\" data-edition=\"US\" data-link-name=\"switch to US edition\" href=\"https://www.theguardian.com/preference/edition/us\" title=\"Switch to the US edition\">\n",
      "<span class=\"u-h\">switch to the </span> US <span class=\"u-h\"> edition</span>\n",
      "</a>, <a class=\"brand-bar__item--action brand-bar__item--inline-action\" data-edition=\"AU\" data-link-name=\"switch to AU edition\" href=\"https://www.theguardian.com/preference/edition/au\" title=\"Switch to the AU edition\">\n",
      "<span class=\"u-h\">switch to the </span> AU <span class=\"u-h\"> edition</span>\n",
      "</a>, <a class=\"brand-bar__item--action brand-bar__item--inline-action\" data-edition=\"INT\" data-link-name=\"switch to INT edition\" href=\"https://www.theguardian.com/preference/edition/int\" title=\"Switch to the INT edition\">\n",
      "<span class=\"u-h\">switch to the </span> INT <span class=\"u-h\"> edition</span>\n",
      "</a>, <a aria-controls=\"guardian-edition-menu\" aria-haspopup=\"true\" class=\"brand-bar__item--action popup__toggle\" data-link-name=\"topNav : edition\" data-toggle=\"top-bar__popup--edition\">\n",
      "UK edition\n",
      "</a>, <a class=\"brand-bar__item--action\" data-edition=\"US\" data-link-name=\"switch to US edition\" href=\"https://www.theguardian.com/preference/edition/us\" title=\"Switch to the US edition\">\n",
      "<span class=\"u-h\">switch to the </span>\n",
      "<span class=\"brand-bar__edition-name\">US edition</span>\n",
      "</a>, <a class=\"brand-bar__item--action\" data-edition=\"AU\" data-link-name=\"switch to AU edition\" href=\"https://www.theguardian.com/preference/edition/au\" title=\"Switch to the AU edition\">\n",
      "<span class=\"u-h\">switch to the </span>\n",
      "<span class=\"brand-bar__edition-name\">Australia edition</span>\n",
      "</a>, <a class=\"brand-bar__item--action\" data-edition=\"INT\" data-link-name=\"switch to INT edition\" href=\"https://www.theguardian.com/preference/edition/int\" title=\"Switch to the INT edition\">\n",
      "<span class=\"u-h\">switch to the </span>\n",
      "<span class=\"brand-bar__edition-name\">International edition</span>\n",
      "</a>, <a class=\"logo-wrapper\" data-component=\"logo\" data-link-name=\"site logo\" href=\"https://www.theguardian.com/uk\" id=\"logo\">\n",
      "<span class=\"u-h\">The Guardian - Back to home</span>\n",
      "<!--[if (gt IE 8)|(IEMobile)]><!-->\n",
      "<span class=\"inline-guardian-logo-320 inline-logo \">\n",
      "<svg class=\"inline-guardian-logo-320__svg inline-logo__svg\" height=\"60\" viewbox=\"0 0 320 60\" width=\"320\">\n",
      "<path d=\"M284 45h16v-3l-3-1.5v-20c1.2-.9 2.8-1.1 4.3-1.1 2.8 0 3.7.9 3.7 4.1v17l-3 1.5v3h16v-3l-3-1.5v-19c0-5.7-2.1-8.3-7.1-8.3-4.1 0-8.1 1.5-10.8 4V13h-1l-12.4 2.2v2.7l3.3 1.6v21l-3 1.5v3zM245.3.4c-3 0-5.4 2.4-5.4 5.5 0 3 2.4 5.4 5.4 5.4 2.9 0 5.4-2.4 5.4-5.4-.1-3.1-2.5-5.5-5.4-5.5zM237 15.1v2.8l3 1.6v20.9l-3 1.5V45h16v-3.1l-3-1.5V13.1h-1l-12 2zM223 39c-.7.6-1.7 1.1-3.2 1.1-4 0-5.9-3.3-5.9-10.9 0-8.7 2.4-11.6 5.6-11.6 1.8 0 2.8.6 3.5 1.4v20zm0-24.4c-1.2-.9-3.3-1.4-5-1.4-7.4 0-14.5 4.4-14.5 16.8 0 11.9 7.1 15.7 11.8 15.7 3.8 0 6.4-1.7 7.6-3.4h.3v3.3h.9l11.9-1.4v-2.3l-3-1.8V.6h-1l-12.6 2v2.8l3.6 1.5v7.7zM181 18l3 1.5v20.9l-3 1.5V45h17v-3.1l-4-1.5V24.1c1.8-1.4 4.1-1.9 6.8-1.9.9 0 1.6.2 2.2.3v-9c-.3-.1-.7-.2-1.2-.2-3.3 0-6 2.2-7.8 6.2V13h-1l-12 2v3zm-19.3-.8c3.9 0 5.3 2 5.3 5.9v3.5l-6.1 1.1c-5.9 1.1-10.4 2.9-10.4 9.3 0 5.1 3.5 8.7 8.3 8.7 3.8 0 7.4-1.7 8.7-4.4h.3c.5 3.3 3.3 4.4 6.4 4.4 2.4 0 4.8-.6 5.7-1.6v-2l-2.9-1.5v-18c0-7-5.2-9.4-13.3-9.4-5.3 0-8.6 1.3-11.4 2.6v7.8h4.7l2-6c1.1-.4 2.3-.4 2.7-.4zm2.3 22.9c-1.9 0-4-1.1-4-4.6 0-2.4 2.4-4.7 4.8-5l2.2-.5v8.5s-1.9 1.6-3 1.6zm100.7-22.9c3.9 0 5.3 2 5.3 5.9v3.5l-6.1 1.1c-5.9 1.1-10.4 2.9-10.4 9.3 0 5.1 3.5 8.7 8.3 8.7 3.8 0 7.4-1.7 8.7-4.4h.3c.5 3.3 3.3 4.4 6.4 4.4 2.4 0 4.8-.6 5.7-1.6v-2l-2.9-1.5v-18c0-7-5.2-9.4-13.3-9.4-5.3 0-8.6 1.3-11.4 2.6v7.8h4.7l2-6c1.1-.4 2.3-.4 2.7-.4zm2.3 22.9c-1.9 0-4-1.1-4-4.6 0-2.4 2.4-4.7 4.8-5l2.2-.5v8.5s-1.9 1.6-3 1.6zm-138.7 5.6c.4 0 .9 0 1.3-.1 3.5-.3 6.7-2 8.4-4.2v4.1l12-1.5v-2l-3-2V13h-1l-12 2.3V18l4 1.7V38c-1.1.8-2.4 1.3-4.2 1.3-2.5 0-4.8-.8-4.8-4.3V13h-1l-12 2.5v2.6l4 1.6V36c0 5.4 2.2 9.7 8.3 9.7zM96 38c-1.2 0-2.5-.8-2.5-1.9 0-.8.6-1.7 1.4-2.3 1.6.5 3 .6 5 .6 7.8 0 13.2-3.7 13.2-10.4 0-3-1.3-4.6-3.2-6.4L115 19v-6l-8.2 1.6c-1.9-.7-4.5-1.6-7-1.6-7.8 0-13.2 4.1-13.2 10.8 0 4.1 2 7.1 5 8.8l.2.2c-1.7 1.2-5.3 4-5.3 7.2 0 2.4 1.5 4.8 4.8 5.5-3.4.8-7.3 2.5-7.3 6.5 0 4.1 5.9 8 15.5 8 11.8 0 16.5-5.7 16.5-13 0-6.1-2.8-9-9.5-9H96zm7.5-14c0 5.7-1.3 6.5-3.5 6.5s-4-.8-4-6.5c0-5.8 1.8-7.5 4-7.5s3.5 2 3.5 7.5zM92 50.9c.1-1.5 1.1-3.4 3.7-3.6h8.6c2.5 0 3.7 2 3.7 3.6 0 3.2-2 4.4-8.3 4.4-5.5 0-7.8-2.2-7.7-4.4z\" fill=\"#fff\"></path>\n",
      "<path d=\"M83 30c0-13-5.1-16.9-13-16.9-9 0-15 6.2-15 16.4 0 10.5 5.5 16.2 15.8 16.2 5.6 0 9.7-2.7 11.2-4.7v-3c-2.1.7-3.9 1.2-7.7 1.2-5.6 0-9.3-3.2-9.3-9.2h18zM69.9 16.6c2.5 0 3.8 1.8 3.8 9.6l-8.4.7c.1-7.9 1.8-10.3 4.6-10.3zM37 45v-3l-3-1.5V21c1.2-.9 3.2-1.7 4.8-1.7 2.8 0 4.3 1.6 4.2 4.2v17L40 42v3h16v-3l-3-1.5v-19c0-5.7-3.3-8.3-7.7-8.3-4.1 0-8.6 1.3-11.3 3.8V0h-1L21 2v3l4 1.5v34L22 42v3h15zM4 36.4c0 5.7 2.8 9.3 8.9 9.3 3.1 0 6.2-.8 8.1-2.3v-3.8c-.8.3-1.9.5-2.9.5-2.9 0-4.1-1.6-4.1-4.6V19h7v-5h-7V6.5L4 8v6l-4 1v4h4v17.4z\" fill=\"#AADCE6\"></path>\n",
      "</svg>\n",
      "</span>\n",
      "<!--<![endif]-->\n",
      "<!--[if (lt IE 9)&(!IEMobile)]>\n",
      "                                <span class=\"inline-logo inline-guardian-logo-320\"></span>\n",
      "                            <![endif]-->\n",
      "</a>, <a class=\"signposting__action\" data-link-name=\"nav : signposting : home\" href=\"https://www.theguardian.com/uk\">home</a>, <a class=\"signposting__action\" data-link-name=\"nav : signposting : tech\" href=\"https://www.theguardian.com/uk/technology\">tech</a>, <a class=\"top-navigation__action top-navigation__action--has-icon\" data-link-name=\"nav : primary : home\" href=\"https://www.theguardian.com/uk\" title=\"Back to homepage\">\n",
      "<span class=\"top-navigation__icon top-navigation__icon--home\"></span>\n",
      "<span class=\"u-h\">home</span>\n",
      "</a>, <a class=\"top-navigation__action\" data-link-name=\"nav : primary : UK\" href=\"https://www.theguardian.com/uk-news\">\n",
      "UK\n",
      "</a>, <a class=\"top-navigation__action\" data-link-name=\"nav : primary : politics\" href=\"https://www.theguardian.com/politics\">\n",
      "politics\n",
      "</a>, <a class=\"top-navigation__action\" data-link-name=\"nav : primary : world\" href=\"https://www.theguardian.com/world\">\n",
      "world\n",
      "</a>, <a class=\"top-navigation__action\" data-link-name=\"nav : primary : sport\" href=\"https://www.theguardian.com/uk/sport\">\n",
      "sport\n",
      "</a>, <a class=\"top-navigation__action\" data-link-name=\"nav : primary : football\" href=\"https://www.theguardian.com/football\">\n",
      "football\n",
      "</a>, <a class=\"top-navigation__action\" data-link-name=\"nav : primary : opinion\" href=\"https://www.theguardian.com/uk/commentisfree\">\n",
      "opinion\n",
      "</a>, <a class=\"top-navigation__action\" data-link-name=\"nav : primary : culture\" href=\"https://www.theguardian.com/uk/culture\">\n",
      "culture\n",
      "</a>, <a class=\"top-navigation__action\" data-link-name=\"nav : primary : business\" href=\"https://www.theguardian.com/uk/business\">\n",
      "business\n",
      "</a>, <a class=\"top-navigation__action\" data-link-name=\"nav : primary : lifestyle\" href=\"https://www.theguardian.com/uk/lifeandstyle\">\n",
      "lifestyle\n",
      "</a>, <a class=\"top-navigation__action\" data-link-name=\"nav : primary : fashion\" href=\"https://www.theguardian.com/fashion\">\n",
      "fashion\n",
      "</a>, <a class=\"top-navigation__action\" data-link-name=\"nav : primary : environment\" href=\"https://www.theguardian.com/uk/environment\">\n",
      "environment\n",
      "</a>, <a class=\"top-navigation__action\" data-link-name=\"nav : primary : tech\" href=\"https://www.theguardian.com/uk/technology\">\n",
      "tech\n",
      "<span class=\"u-h\">selected</span>\n",
      "</a>, <a class=\"top-navigation__action\" data-link-name=\"nav : primary : travel\" href=\"https://www.theguardian.com/uk/travel\">\n",
      "travel\n",
      "</a>, <a class=\"navigation-toggle js-navigation-toggle\" data-link-name=\"nav : allSections\" data-target-nav=\"js-navigation-header\" href=\"#footer-nav\">\n",
      "<i class=\"burger-icon\"></i><span aria-controls=\"all-sections-popup\" aria-haspopup=\"true\" aria-label=\"browse all sections\" class=\"navigation-toggle-label navigation-toggle-label--open\"><span class=\"navigation-toggle-label__extra navigation-toggle-label__extra--browse\">browse </span>all<span class=\"navigation-toggle-label__extra\"> sections</span></span>\n",
      "<span aria-label=\"close all sections\" class=\"navigation-toggle-label navigation-toggle-label--close\">close</span>\n",
      "</a>, <a class=\"content__section-label__link\" data-link-name=\"article section\" href=\"https://www.theguardian.com/technology/amazon\">\n",
      "Amazon\n",
      "</a>, <a class=\"article__img-container js-gallerythumbs\" data-is-ajax=\"\" data-link-name=\"Launch Article Lightbox\" href=\"#img-1\">\n",
      "<div class=\"u-responsive-ratio\" style=\"padding-bottom: 60.00%\">\n",
      "<picture>\n",
      "<!--[if IE 9]><video style=\"display: none;\"><![endif]-->\n",
      "<source media=\"(min-width: 980px) and (-webkit-min-device-pixel-ratio: 1.25), (min-width: 980px) and (min-resolution: 120dpi)\" sizes=\"620px\" srcset=\"https://i.guim.co.uk/img/media/332c61586e0930055cef7a1f6e71d7540665d067/0_0_3000_1800/master/3000.jpg?w=620&amp;q=20&amp;auto=format&amp;usm=12&amp;fit=max&amp;dpr=2&amp;s=dfca9232f06f83297fac48d21523bc49 1240w\"></source>\n",
      "<source media=\"(min-width: 980px)\" sizes=\"620px\" srcset=\"https://i.guim.co.uk/img/media/332c61586e0930055cef7a1f6e71d7540665d067/0_0_3000_1800/master/3000.jpg?w=620&amp;q=55&amp;auto=format&amp;usm=12&amp;fit=max&amp;s=221b9242b379342829adf59d13342dc8 620w\"></source>\n",
      "<source media=\"(min-width: 740px) and (-webkit-min-device-pixel-ratio: 1.25), (min-width: 740px) and (min-resolution: 120dpi)\" sizes=\"700px\" srcset=\"https://i.guim.co.uk/img/media/332c61586e0930055cef7a1f6e71d7540665d067/0_0_3000_1800/master/3000.jpg?w=700&amp;q=20&amp;auto=format&amp;usm=12&amp;fit=max&amp;dpr=2&amp;s=a1c01f0e8150a5de229afe5af5787ff1 1400w\"></source>\n",
      "<source media=\"(min-width: 740px)\" sizes=\"700px\" srcset=\"https://i.guim.co.uk/img/media/332c61586e0930055cef7a1f6e71d7540665d067/0_0_3000_1800/master/3000.jpg?w=700&amp;q=55&amp;auto=format&amp;usm=12&amp;fit=max&amp;s=d69a3f8f3d407c6ff5714f4940e92e82 700w\"></source>\n",
      "<source media=\"(min-width: 660px) and (-webkit-min-device-pixel-ratio: 1.25), (min-width: 660px) and (min-resolution: 120dpi)\" sizes=\"620px\" srcset=\"https://i.guim.co.uk/img/media/332c61586e0930055cef7a1f6e71d7540665d067/0_0_3000_1800/master/3000.jpg?w=620&amp;q=20&amp;auto=format&amp;usm=12&amp;fit=max&amp;dpr=2&amp;s=dfca9232f06f83297fac48d21523bc49 1240w\"></source>\n",
      "<source media=\"(min-width: 660px)\" sizes=\"620px\" srcset=\"https://i.guim.co.uk/img/media/332c61586e0930055cef7a1f6e71d7540665d067/0_0_3000_1800/master/3000.jpg?w=620&amp;q=55&amp;auto=format&amp;usm=12&amp;fit=max&amp;s=221b9242b379342829adf59d13342dc8 620w\"></source>\n",
      "<source media=\"(min-width: 480px) and (-webkit-min-device-pixel-ratio: 1.25), (min-width: 480px) and (min-resolution: 120dpi)\" sizes=\"645px\" srcset=\"https://i.guim.co.uk/img/media/332c61586e0930055cef7a1f6e71d7540665d067/0_0_3000_1800/master/3000.jpg?w=645&amp;q=20&amp;auto=format&amp;usm=12&amp;fit=max&amp;dpr=2&amp;s=8334b28eed0525a1b495fe305c32705d 1290w\"></source>\n",
      "<source media=\"(min-width: 480px)\" sizes=\"645px\" srcset=\"https://i.guim.co.uk/img/media/332c61586e0930055cef7a1f6e71d7540665d067/0_0_3000_1800/master/3000.jpg?w=645&amp;q=55&amp;auto=format&amp;usm=12&amp;fit=max&amp;s=821cfe81a5ec5c5334a1fa122301c55c 645w\"></source>\n",
      "<source media=\"(min-width: 0px) and (-webkit-min-device-pixel-ratio: 1.25), (min-width: 0px) and (min-resolution: 120dpi)\" sizes=\"465px\" srcset=\"https://i.guim.co.uk/img/media/332c61586e0930055cef7a1f6e71d7540665d067/0_0_3000_1800/master/3000.jpg?w=465&amp;q=20&amp;auto=format&amp;usm=12&amp;fit=max&amp;dpr=2&amp;s=72d308b5a908072f8fc5fc92515e9320 930w\"></source>\n",
      "<source media=\"(min-width: 0px)\" sizes=\"465px\" srcset=\"https://i.guim.co.uk/img/media/332c61586e0930055cef7a1f6e71d7540665d067/0_0_3000_1800/master/3000.jpg?w=465&amp;q=55&amp;auto=format&amp;usm=12&amp;fit=max&amp;s=91b32bb7f110bb00403ad6c352bbbc10 465w\"></source>\n",
      "<!--[if IE 9]></video><![endif]-->\n",
      "<img alt=\"Amazon CEO, Jeff Bezos, who emailed staff on Monday to inform them the company would be supporting the Washington state attorney general’s case against the travel ban.\" class=\"maxed responsive-img\" itemprop=\"contentUrl\" src=\"https://i.guim.co.uk/img/media/332c61586e0930055cef7a1f6e71d7540665d067/0_0_3000_1800/master/3000.jpg?w=300&amp;q=55&amp;auto=format&amp;usm=12&amp;fit=max&amp;s=8b398d7e9a121954155e8979e8f1d00a\"/>\n",
      "</picture>\n",
      "</div>\n",
      "<span class=\"inline-expand-image inline-icon centered-icon rounded-icon article__fullscreen modern-visible\">\n",
      "<svg class=\"centered-icon__svg rounded-icon__svg article__fullscreen__svg modern-visible__svg inline-expand-image__svg inline-icon__svg\" height=\"22\" viewbox=\"0 0 22 22\" width=\"22\">\n",
      "<path d=\"M3.4 20.2L9 14.5 7.5 13l-5.7 5.6L1 14H0v7.5l.5.5H8v-1l-4.6-.8M18.7 1.9L13 7.6 14.4 9l5.7-5.7.5 4.7h1.2V.6l-.5-.5H14v1.2l4.7.6\"></path>\n",
      "</svg>\n",
      "</span>\n",
      "</a>, <a class=\"content__section-label__link\" data-link-name=\"article section\" href=\"https://www.theguardian.com/technology/amazon\">\n",
      "Amazon\n",
      "</a>, <a class=\"social__action js-social__action--top social-icon-wrapper\" data-link-name=\"social top\" href=\"https://www.facebook.com/dialog/share?app_id=180444840287&amp;href=https%3A%2F%2Fwww.theguardian.com%2Ftechnology%2F2017%2Fjan%2F31%2Famazon-expedia-microsoft-support-washington-action-against-donald-trump-travel-ban%3FCMP%3Dshare_btn_fb\" target=\"_blank\" title=\"Facebook\">\n",
      "<span class=\"inline-icon__fallback button share-modal__item share-modal__item--facebook\">Share on Facebook</span>\n",
      "<span class=\"inline-share-facebook inline-icon rounded-icon centered-icon social-icon social-icon--facebook\">\n",
      "<svg class=\"rounded-icon__svg centered-icon__svg social-icon__svg social-icon--facebook__svg inline-share-facebook__svg inline-icon__svg\" height=\"32\" viewbox=\"-2 -2 32 32\" width=\"32\">\n",
      "<path d=\"M17.9 14h-3v8H12v-8h-2v-2.9h2V8.7C12 6.8 13.1 5 16 5c1.2 0 2 .1 2 .1v3h-1.8c-1 0-1.2.5-1.2 1.3v1.8h3l-.1 2.8z\"></path>\n",
      "</svg>\n",
      "</span>\n",
      "</a>, <a class=\"social__action js-social__action--top social-icon-wrapper\" data-link-name=\"social top\" href=\"https://twitter.com/intent/tweet?text=Amazon%20pledges%20legal%20support%20to%20action%20against%20Trump%20travel%20ban&amp;url=https%3A%2F%2Fwww.theguardian.com%2Ftechnology%2F2017%2Fjan%2F31%2Famazon-expedia-microsoft-support-washington-action-against-donald-trump-travel-ban%3FCMP%3Dshare_btn_tw\" target=\"_blank\" title=\"Twitter\">\n",
      "<span class=\"inline-icon__fallback button share-modal__item share-modal__item--twitter\">Share on Twitter</span>\n",
      "<span class=\"inline-share-twitter inline-icon rounded-icon centered-icon social-icon social-icon--twitter\">\n",
      "<svg class=\"rounded-icon__svg centered-icon__svg social-icon__svg social-icon--twitter__svg inline-share-twitter__svg inline-icon__svg\" height=\"32\" viewbox=\"-2 -2 32 32\" width=\"32\">\n",
      "<path d=\"M21.3 10.5v.5c0 4.7-3.5 10.1-9.9 10.1-2 0-3.8-.6-5.3-1.6.3 0 .6.1.8.1 1.6 0 3.1-.6 4.3-1.5-1.5 0-2.8-1-3.3-2.4.2 0 .4.1.7.1l.9-.1c-1.6-.3-2.8-1.8-2.8-3.5.5.3 1 .4 1.6.4-.9-.6-1.6-1.7-1.6-2.9 0-.6.2-1.3.5-1.8 1.7 2.1 4.3 3.6 7.2 3.7-.1-.3-.1-.5-.1-.8 0-2 1.6-3.5 3.5-3.5 1 0 1.9.4 2.5 1.1.8-.1 1.5-.4 2.2-.8-.3.8-.8 1.5-1.5 1.9.7-.1 1.4-.3 2-.5-.4.4-1 1-1.7 1.5z\"></path>\n",
      "</svg>\n",
      "</span>\n",
      "</a>, <a class=\"social__action js-social__action--top social-icon-wrapper\" data-link-name=\"social top\" href=\"mailto:?subject=Amazon%20pledges%20legal%20support%20to%20action%20against%20Trump%20travel%20ban&amp;body=https%3A%2F%2Fwww.theguardian.com%2Ftechnology%2F2017%2Fjan%2F31%2Famazon-expedia-microsoft-support-washington-action-against-donald-trump-travel-ban%3FCMP%3Dshare_btn_link\" target=\"_blank\" title=\"Email\">\n",
      "<span class=\"inline-icon__fallback button share-modal__item share-modal__item--email\">Share via Email</span>\n",
      "<span class=\"inline-share-email inline-icon rounded-icon centered-icon social-icon social-icon--email\">\n",
      "<svg class=\"rounded-icon__svg centered-icon__svg social-icon__svg social-icon--email__svg inline-share-email__svg inline-icon__svg\" height=\"32\" viewbox=\"0 0 32 32\" width=\"32\">\n",
      "<path d=\"M23.363 20.875H8.637v-8.938l6.545 5.687h1.637l6.544-5.687v8.938zm-1.635-9.75L16 16l-5.728-4.875h11.456zM23.363 9.5H8.637L7 11.125v9.75L8.637 22.5h14.727L25 20.875v-9.75L23.363 9.5z\"></path>\n",
      "</svg>\n",
      "</span>\n",
      "</a>, <a class=\"social__action js-social__action--top social-icon-wrapper\" data-link-name=\"social top\" href=\"http://www.linkedin.com/shareArticle?mini=true&amp;title=Amazon%20pledges%20legal%20support%20to%20action%20against%20Trump%20travel%20ban&amp;url=https%3A%2F%2Fwww.theguardian.com%2Ftechnology%2F2017%2Fjan%2F31%2Famazon-expedia-microsoft-support-washington-action-against-donald-trump-travel-ban\" target=\"_blank\" title=\"LinkedIn\">\n",
      "<span class=\" u-h \">Share on LinkedIn</span>\n",
      "<span class=\"inline-share-linkedin inline-icon rounded-icon centered-icon social-icon social-icon--linkedin\">\n",
      "<svg class=\"rounded-icon__svg centered-icon__svg social-icon__svg social-icon--linkedin__svg inline-share-linkedin__svg inline-icon__svg\" height=\"30\" viewbox=\"0 0 30 30\" width=\"30\">\n",
      "<path d=\"M10.576 7.985a1.57 1.57 0 0 1 0 3.137 1.568 1.568 0 0 1 0-3.137zm-1.353 4.327h2.706v8.704H9.223v-8.704zm4.403 0h2.595v1.19h.037c.361-.685 1.244-1.407 2.56-1.407 2.737 0 3.243 1.803 3.243 4.147v4.774h-2.702v-4.232c0-1.01-.02-2.308-1.406-2.308-1.408 0-1.623 1.1-1.623 2.235v4.305h-2.704v-8.704\"></path>\n",
      "</svg>\n",
      "</span>\n",
      "</a>, <a class=\"social__action js-social__action--top social-icon-wrapper\" data-link-name=\"social top\" href=\"http://www.pinterest.com/pin/find/?url=https%3A%2F%2Fwww.theguardian.com%2Ftechnology%2F2017%2Fjan%2F31%2Famazon-expedia-microsoft-support-washington-action-against-donald-trump-travel-ban\" target=\"_blank\" title=\"Pinterest\">\n",
      "<span class=\" u-h \">Share on Pinterest</span>\n",
      "<span class=\"inline-share-pinterest inline-icon rounded-icon centered-icon social-icon social-icon--pinterest\">\n",
      "<svg class=\"rounded-icon__svg centered-icon__svg social-icon__svg social-icon--pinterest__svg inline-share-pinterest__svg inline-icon__svg\" viewbox=\"0 0 32 32\">\n",
      "<path d=\"M16.363 8C12.133 8 10 11.13 10 13.74c0 1.582.58 2.988 1.823 3.512.204.086.387.003.446-.23.04-.16.137-.568.18-.737.06-.23.037-.312-.127-.513-.36-.436-.588-1-.588-1.802 0-2.322 1.684-4.402 4.384-4.402 2.39 0 3.703 1.508 3.703 3.522 0 2.65-1.136 4.887-2.822 4.887-.93 0-1.628-.795-1.405-1.77.268-1.165.786-2.42.786-3.262 0-.752-.39-1.38-1.2-1.38-.952 0-1.716 1.017-1.716 2.38 0 .867.284 1.454.284 1.454l-1.146 5.006c-.34 1.487-.05 3.31-.026 3.493.014.108.15.134.21.05.09-.117 1.223-1.562 1.61-3.006.108-.41.625-2.526.625-2.526.31.61 1.215 1.145 2.176 1.145 2.862 0 4.804-2.693 4.804-6.298C22 10.54 19.763 8 16.363 8\"></path>\n",
      "</svg>\n",
      "</span>\n",
      "</a>, <a class=\"social__action js-social__action--top social-icon-wrapper\" data-link-name=\"social top\" href=\"https://plus.google.com/share?url=https%3A%2F%2Fwww.theguardian.com%2Ftechnology%2F2017%2Fjan%2F31%2Famazon-expedia-microsoft-support-washington-action-against-donald-trump-travel-ban%3FCMP%3Dshare_btn_gp&amp;amp;hl=en-GB&amp;amp;wwc=1\" target=\"_blank\" title=\"Google plus\">\n",
      "<span class=\" u-h \">Share on Google+</span>\n",
      "<span class=\"inline-share-gplus inline-icon rounded-icon centered-icon social-icon social-icon--gplus\">\n",
      "<svg class=\"rounded-icon__svg centered-icon__svg social-icon__svg social-icon--gplus__svg inline-share-gplus__svg inline-icon__svg\" height=\"32\" viewbox=\"4 -4 32 32\" width=\"32\">\n",
      "<path d=\"M8.8 12c-.1 2.9 2 5.7 4.7 6.6 2.6.9 5.8.2 7.5-2 1.3-1.6 1.6-3.6 1.4-5.6h-6.7v2.4h4c-.3 1.2-1.1 2.2-2.3 2.7-2.3 1-5.1-.3-5.8-2.7-.9-2.3.5-5 2.9-5.7 1.4-.5 2.9.1 4.1.8l1.8-1.8c-1.4-1.2-3.2-1.9-5-1.7-3.6.1-6.8 3.4-6.6 7zm18-3v2h-2v2h2v2h2v-2h2v-2h-2V9h-2z\"></path>\n",
      "</svg>\n",
      "</span>\n",
      "</a>, <a class=\"social__action js-social__action--top social-icon-wrapper\" data-link-name=\"social top\" href=\"whatsapp://send?text=%22Amazon%20pledges%20legal%20support%20to%20action%20against%20Trump%20travel%20ban%22%20https%3A%2F%2Fwww.theguardian.com%2Ftechnology%2F2017%2Fjan%2F31%2Famazon-expedia-microsoft-support-washington-action-against-donald-trump-travel-ban%3FCMP%3Dshare_btn_wa\" target=\"_blank\" title=\"WhatsApp\">\n",
      "<span class=\" u-h \">Share on WhatsApp</span>\n",
      "<span class=\"inline-share-whatsapp inline-icon rounded-icon centered-icon social-icon social-icon--whatsapp\">\n",
      "<svg class=\"rounded-icon__svg centered-icon__svg social-icon__svg social-icon--whatsapp__svg inline-share-whatsapp__svg inline-icon__svg\" height=\"30\" viewbox=\"0 0 30 30\" width=\"30\">\n",
      "<path d=\"M22.09 7.87a9.9 9.9 0 0 0-7.05-2.92c-5.49 0-9.96 4.47-9.96 9.96 0 1.75.46 3.47 1.33 4.98L5 25.04l5.28-1.38c1.45.79 3.09 1.21 4.76 1.21 5.49 0 9.96-4.47 9.96-9.96a9.92 9.92 0 0 0-2.91-7.04m-7.05 15.32c-1.49 0-2.95-.4-4.22-1.15l-.3-.18-3.13.82.84-3.05-.2-.31a8.19 8.19 0 0 1-1.26-4.41c0-4.56 3.71-8.27 8.28-8.27 2.21 0 4.29.86 5.85 2.43a8.222 8.222 0 0 1 2.42 5.85c0 4.56-3.72 8.27-8.28 8.27m4.54-6.2c-.25-.12-1.47-.73-1.7-.81s-.39-.12-.56.12c-.17.25-.64.81-.79.97-.14.17-.29.19-.54.06-.25-.12-1.05-.39-2-1.23a7.283 7.283 0 0 1-1.38-1.72c-.15-.25-.02-.38.11-.51.11-.11.25-.29.37-.44.12-.15.17-.25.25-.42.08-.17.04-.31-.02-.44-.06-.12-.56-1.35-.77-1.85-.2-.49-.41-.42-.56-.43-.14-.01-.31-.01-.48-.01-.17 0-.44.06-.66.31-.22.25-.87.85-.87 2.08 0 1.22.89 2.41 1.02 2.57.12.17 1.75 2.68 4.25 3.76.59.26 1.06.41 1.42.52.6.19 1.14.16 1.57.1.48-.07 1.47-.6 1.68-1.18s.21-1.08.14-1.18c-.06-.08-.23-.14-.48-.27\"></path>\n",
      "</svg>\n",
      "</span>\n",
      "</a>, <a class=\"social__action js-social__action--top social-icon-wrapper\" data-link-name=\"social top\" href=\"fb-messenger://share?link=https%3A%2F%2Fwww.theguardian.com%2Ftechnology%2F2017%2Fjan%2F31%2Famazon-expedia-microsoft-support-washington-action-against-donald-trump-travel-ban%3FCMP%3Dshare_btn_me&amp;app_id=180444840287\" target=\"_blank\" title=\"Messenger\">\n",
      "<span class=\" u-h \">Share on Messenger</span>\n",
      "<span class=\"inline-share-messenger inline-icon rounded-icon centered-icon social-icon social-icon--messenger\">\n",
      "<svg class=\"rounded-icon__svg centered-icon__svg social-icon__svg social-icon--messenger__svg inline-share-messenger__svg inline-icon__svg\" height=\"66\" viewbox=\"-12 -12 90 90\" width=\"66\">\n",
      "<path clip-rule=\"evenodd\" d=\"M33 61.1c-3.6 0-7.1-.5-10.4-1.5L10.1 66V52.5C3.9 47 0 39.2 0 30.6 0 13.7 14.8 0 33 0s33 13.7 33 30.6c0 16.8-14.8 30.5-33 30.5zM36.5 41L28 32.2l-16.4 9 18-18.9 8.5 8.8 16.4-9-18 18.9z\" fill-rule=\"evenodd\"></path>\n",
      "</svg>\n",
      "</span>\n",
      "</a>, <a class=\"tone-colour\" data-link-name=\"auto tag link\" href=\"https://www.theguardian.com/profile/alex-hern\" itemprop=\"sameAs\" rel=\"author\"><span itemprop=\"name\">Alex Hern</span></a>, <a class=\"button button--small button--secondary tone-colour \" data-component=\"meta-twitter-handle\" data-link-name=\"twitter-handle\" href=\"https://twitter.com/alexhern\">\n",
      "<span class=\"inline-twitter-bird inline-icon inline-tone-fill i-left\">\n",
      "<svg class=\"inline-tone-fill__svg i-left__svg inline-twitter-bird__svg inline-icon__svg\" height=\"14\" viewbox=\"-298 390 14 14\" width=\"14\">\n",
      "<path d=\"M-284 392.6c-.5.2-1.1.4-1.6.5.6-.4 1-.9 1.3-1.6-.6.3-1.2.6-1.8.7-.5-.6-1.3-.9-2.1-.9-1.6 0-2.9 1.3-2.9 2.9 0 .2 0 .4.1.7-2.4-.1-4.5-1.3-5.9-3-.2.4-.4.9-.4 1.4 0 1 .5 1.9 1.3 2.4-.5 0-.9-.1-1.3-.4 0 1.4 1 2.6 2.3 2.8-.2.1-.5.1-.8.1-.2 0-.4 0-.5-.1.4 1.1 1.4 2 2.7 2-1 .8-2.2 1.2-3.6 1.2h-.7c1.3.8 2.8 1.3 4.4 1.3 5.3 0 8.2-4.4 8.2-8.2v-.4c.3-.2.8-.8 1.3-1.4\"></path>\n",
      "</svg>\n",
      "</span>\n",
      "<div class=\"contact hide-until-leftcol \">@alexhern</div>\n",
      "</a>, <a class=\"u-underline\" data-component=\"auto-linked-tag\" data-link-name=\"auto-linked-tag\" href=\"https://www.theguardian.com/us-news/donaldtrump\">Donald Trump</a>, <a class=\"u-underline\" data-link-name=\"in body link\" href=\"http://www.chicagotribune.com/news/nationworld/ct-washington-state-lawsuit-trump-travel-ban-20170130-story.html\">the first confirmed legal action from a state against one of the new administration’s policies</a>, <a class=\"u-underline\" data-link-name=\"in body link\" href=\"http://www.recode.net/2017/1/30/14446572/amazon-jeff-bezos-fight-trump-immigration-refugee-ban-court-congress-visa\">published by Recode</a>, <a class=\"u-underline\" data-component=\"auto-linked-tag\" data-link-name=\"auto-linked-tag\" href=\"https://www.theguardian.com/technology/amazon\">Amazon</a>, <a class=\"u-underline\" data-link-name=\"in body link\" href=\"http://www.seattletimes.com/business/technology/expedia-ceo-says-trump-visa-order-shows-the-worst-of-his-proclivity-toward-rash-action/\">Khosrowshahi told employees</a>, <a class=\"u-underline\" data-link-name=\"in body link\" href=\"http://www.reuters.com/article/us-usa-trump-immigration-microsoft-idUSKBN15E2IY?utm_campaign=trueAnthem:+Trending+Content&amp;utm_content=588fb89004d30110c17317b2\">Reuters reports</a>, <a class=\"u-underline\" data-link-name=\"in body link\" draggable=\"true\" href=\"http://uk.businessinsider.com/microsoft-donald-trump-immigration-order-2017-1?r=US&amp;IR=T\">Microsoft’s statements had been limited</a>, <a class=\"submeta__link\" data-link-name=\"article section\" href=\"https://www.theguardian.com/technology/amazon\">\n",
      "Amazon\n",
      "</a>, <a class=\"submeta__link\" data-link-name=\"keyword: technology/jeff-bezos\" href=\"https://www.theguardian.com/technology/jeff-bezos\">\n",
      "Jeff Bezos\n",
      "</a>, <a class=\"submeta__link\" data-link-name=\"keyword: us-news/donaldtrump\" href=\"https://www.theguardian.com/us-news/donaldtrump\">\n",
      "Donald Trump\n",
      "</a>, <a class=\"submeta__link\" data-link-name=\"keyword: us-news/washington-state\" href=\"https://www.theguardian.com/us-news/washington-state\">\n",
      "Washington state\n",
      "</a>, <a class=\"submeta__link\" data-link-name=\"tone: News\" href=\"https://www.theguardian.com/tone/news\">\n",
      "news\n",
      "</a>, <a class=\"social__action js-social__action--bottom social-icon-wrapper\" data-link-name=\"social bottom\" href=\"https://www.facebook.com/dialog/share?app_id=180444840287&amp;href=https%3A%2F%2Fwww.theguardian.com%2Ftechnology%2F2017%2Fjan%2F31%2Famazon-expedia-microsoft-support-washington-action-against-donald-trump-travel-ban%3FCMP%3Dshare_btn_fb\" target=\"_blank\" title=\"Facebook\">\n",
      "<span class=\"inline-icon__fallback button share-modal__item share-modal__item--facebook\">Share on Facebook</span>\n",
      "<span class=\"inline-share-facebook inline-icon rounded-icon centered-icon social-icon social-icon--facebook\">\n",
      "<svg class=\"rounded-icon__svg centered-icon__svg social-icon__svg social-icon--facebook__svg inline-share-facebook__svg inline-icon__svg\" height=\"32\" viewbox=\"-2 -2 32 32\" width=\"32\">\n",
      "<path d=\"M17.9 14h-3v8H12v-8h-2v-2.9h2V8.7C12 6.8 13.1 5 16 5c1.2 0 2 .1 2 .1v3h-1.8c-1 0-1.2.5-1.2 1.3v1.8h3l-.1 2.8z\"></path>\n",
      "</svg>\n",
      "</span>\n",
      "</a>, <a class=\"social__action js-social__action--bottom social-icon-wrapper\" data-link-name=\"social bottom\" href=\"https://twitter.com/intent/tweet?text=Amazon%20pledges%20legal%20support%20to%20action%20against%20Trump%20travel%20ban&amp;url=https%3A%2F%2Fwww.theguardian.com%2Ftechnology%2F2017%2Fjan%2F31%2Famazon-expedia-microsoft-support-washington-action-against-donald-trump-travel-ban%3FCMP%3Dshare_btn_tw\" target=\"_blank\" title=\"Twitter\">\n",
      "<span class=\"inline-icon__fallback button share-modal__item share-modal__item--twitter\">Share on Twitter</span>\n",
      "<span class=\"inline-share-twitter inline-icon rounded-icon centered-icon social-icon social-icon--twitter\">\n",
      "<svg class=\"rounded-icon__svg centered-icon__svg social-icon__svg social-icon--twitter__svg inline-share-twitter__svg inline-icon__svg\" height=\"32\" viewbox=\"-2 -2 32 32\" width=\"32\">\n",
      "<path d=\"M21.3 10.5v.5c0 4.7-3.5 10.1-9.9 10.1-2 0-3.8-.6-5.3-1.6.3 0 .6.1.8.1 1.6 0 3.1-.6 4.3-1.5-1.5 0-2.8-1-3.3-2.4.2 0 .4.1.7.1l.9-.1c-1.6-.3-2.8-1.8-2.8-3.5.5.3 1 .4 1.6.4-.9-.6-1.6-1.7-1.6-2.9 0-.6.2-1.3.5-1.8 1.7 2.1 4.3 3.6 7.2 3.7-.1-.3-.1-.5-.1-.8 0-2 1.6-3.5 3.5-3.5 1 0 1.9.4 2.5 1.1.8-.1 1.5-.4 2.2-.8-.3.8-.8 1.5-1.5 1.9.7-.1 1.4-.3 2-.5-.4.4-1 1-1.7 1.5z\"></path>\n",
      "</svg>\n",
      "</span>\n",
      "</a>, <a class=\"social__action js-social__action--bottom social-icon-wrapper\" data-link-name=\"social bottom\" href=\"mailto:?subject=Amazon%20pledges%20legal%20support%20to%20action%20against%20Trump%20travel%20ban&amp;body=https%3A%2F%2Fwww.theguardian.com%2Ftechnology%2F2017%2Fjan%2F31%2Famazon-expedia-microsoft-support-washington-action-against-donald-trump-travel-ban%3FCMP%3Dshare_btn_link\" target=\"_blank\" title=\"Email\">\n",
      "<span class=\"inline-icon__fallback button share-modal__item share-modal__item--email\">Share via Email</span>\n",
      "<span class=\"inline-share-email inline-icon rounded-icon centered-icon social-icon social-icon--email\">\n",
      "<svg class=\"rounded-icon__svg centered-icon__svg social-icon__svg social-icon--email__svg inline-share-email__svg inline-icon__svg\" height=\"32\" viewbox=\"0 0 32 32\" width=\"32\">\n",
      "<path d=\"M23.363 20.875H8.637v-8.938l6.545 5.687h1.637l6.544-5.687v8.938zm-1.635-9.75L16 16l-5.728-4.875h11.456zM23.363 9.5H8.637L7 11.125v9.75L8.637 22.5h14.727L25 20.875v-9.75L23.363 9.5z\"></path>\n",
      "</svg>\n",
      "</span>\n",
      "</a>, <a class=\"social__action js-social__action--bottom social-icon-wrapper\" data-link-name=\"social bottom\" href=\"http://www.linkedin.com/shareArticle?mini=true&amp;title=Amazon%20pledges%20legal%20support%20to%20action%20against%20Trump%20travel%20ban&amp;url=https%3A%2F%2Fwww.theguardian.com%2Ftechnology%2F2017%2Fjan%2F31%2Famazon-expedia-microsoft-support-washington-action-against-donald-trump-travel-ban\" target=\"_blank\" title=\"LinkedIn\">\n",
      "<span class=\" u-h \">Share on LinkedIn</span>\n",
      "<span class=\"inline-share-linkedin inline-icon rounded-icon centered-icon social-icon social-icon--linkedin\">\n",
      "<svg class=\"rounded-icon__svg centered-icon__svg social-icon__svg social-icon--linkedin__svg inline-share-linkedin__svg inline-icon__svg\" height=\"30\" viewbox=\"0 0 30 30\" width=\"30\">\n",
      "<path d=\"M10.576 7.985a1.57 1.57 0 0 1 0 3.137 1.568 1.568 0 0 1 0-3.137zm-1.353 4.327h2.706v8.704H9.223v-8.704zm4.403 0h2.595v1.19h.037c.361-.685 1.244-1.407 2.56-1.407 2.737 0 3.243 1.803 3.243 4.147v4.774h-2.702v-4.232c0-1.01-.02-2.308-1.406-2.308-1.408 0-1.623 1.1-1.623 2.235v4.305h-2.704v-8.704\"></path>\n",
      "</svg>\n",
      "</span>\n",
      "</a>, <a class=\"social__action js-social__action--bottom social-icon-wrapper\" data-link-name=\"social bottom\" href=\"http://www.pinterest.com/pin/find/?url=https%3A%2F%2Fwww.theguardian.com%2Ftechnology%2F2017%2Fjan%2F31%2Famazon-expedia-microsoft-support-washington-action-against-donald-trump-travel-ban\" target=\"_blank\" title=\"Pinterest\">\n",
      "<span class=\" u-h \">Share on Pinterest</span>\n",
      "<span class=\"inline-share-pinterest inline-icon rounded-icon centered-icon social-icon social-icon--pinterest\">\n",
      "<svg class=\"rounded-icon__svg centered-icon__svg social-icon__svg social-icon--pinterest__svg inline-share-pinterest__svg inline-icon__svg\" viewbox=\"0 0 32 32\">\n",
      "<path d=\"M16.363 8C12.133 8 10 11.13 10 13.74c0 1.582.58 2.988 1.823 3.512.204.086.387.003.446-.23.04-.16.137-.568.18-.737.06-.23.037-.312-.127-.513-.36-.436-.588-1-.588-1.802 0-2.322 1.684-4.402 4.384-4.402 2.39 0 3.703 1.508 3.703 3.522 0 2.65-1.136 4.887-2.822 4.887-.93 0-1.628-.795-1.405-1.77.268-1.165.786-2.42.786-3.262 0-.752-.39-1.38-1.2-1.38-.952 0-1.716 1.017-1.716 2.38 0 .867.284 1.454.284 1.454l-1.146 5.006c-.34 1.487-.05 3.31-.026 3.493.014.108.15.134.21.05.09-.117 1.223-1.562 1.61-3.006.108-.41.625-2.526.625-2.526.31.61 1.215 1.145 2.176 1.145 2.862 0 4.804-2.693 4.804-6.298C22 10.54 19.763 8 16.363 8\"></path>\n",
      "</svg>\n",
      "</span>\n",
      "</a>, <a class=\"social__action js-social__action--bottom social-icon-wrapper\" data-link-name=\"social bottom\" href=\"https://plus.google.com/share?url=https%3A%2F%2Fwww.theguardian.com%2Ftechnology%2F2017%2Fjan%2F31%2Famazon-expedia-microsoft-support-washington-action-against-donald-trump-travel-ban%3FCMP%3Dshare_btn_gp&amp;amp;hl=en-GB&amp;amp;wwc=1\" target=\"_blank\" title=\"Google plus\">\n",
      "<span class=\" u-h \">Share on Google+</span>\n",
      "<span class=\"inline-share-gplus inline-icon rounded-icon centered-icon social-icon social-icon--gplus\">\n",
      "<svg class=\"rounded-icon__svg centered-icon__svg social-icon__svg social-icon--gplus__svg inline-share-gplus__svg inline-icon__svg\" height=\"32\" viewbox=\"4 -4 32 32\" width=\"32\">\n",
      "<path d=\"M8.8 12c-.1 2.9 2 5.7 4.7 6.6 2.6.9 5.8.2 7.5-2 1.3-1.6 1.6-3.6 1.4-5.6h-6.7v2.4h4c-.3 1.2-1.1 2.2-2.3 2.7-2.3 1-5.1-.3-5.8-2.7-.9-2.3.5-5 2.9-5.7 1.4-.5 2.9.1 4.1.8l1.8-1.8c-1.4-1.2-3.2-1.9-5-1.7-3.6.1-6.8 3.4-6.6 7zm18-3v2h-2v2h2v2h2v-2h2v-2h-2V9h-2z\"></path>\n",
      "</svg>\n",
      "</span>\n",
      "</a>, <a class=\"social__action js-social__action--bottom social-icon-wrapper\" data-link-name=\"social bottom\" href=\"whatsapp://send?text=%22Amazon%20pledges%20legal%20support%20to%20action%20against%20Trump%20travel%20ban%22%20https%3A%2F%2Fwww.theguardian.com%2Ftechnology%2F2017%2Fjan%2F31%2Famazon-expedia-microsoft-support-washington-action-against-donald-trump-travel-ban%3FCMP%3Dshare_btn_wa\" target=\"_blank\" title=\"WhatsApp\">\n",
      "<span class=\" u-h \">Share on WhatsApp</span>\n",
      "<span class=\"inline-share-whatsapp inline-icon rounded-icon centered-icon social-icon social-icon--whatsapp\">\n",
      "<svg class=\"rounded-icon__svg centered-icon__svg social-icon__svg social-icon--whatsapp__svg inline-share-whatsapp__svg inline-icon__svg\" height=\"30\" viewbox=\"0 0 30 30\" width=\"30\">\n",
      "<path d=\"M22.09 7.87a9.9 9.9 0 0 0-7.05-2.92c-5.49 0-9.96 4.47-9.96 9.96 0 1.75.46 3.47 1.33 4.98L5 25.04l5.28-1.38c1.45.79 3.09 1.21 4.76 1.21 5.49 0 9.96-4.47 9.96-9.96a9.92 9.92 0 0 0-2.91-7.04m-7.05 15.32c-1.49 0-2.95-.4-4.22-1.15l-.3-.18-3.13.82.84-3.05-.2-.31a8.19 8.19 0 0 1-1.26-4.41c0-4.56 3.71-8.27 8.28-8.27 2.21 0 4.29.86 5.85 2.43a8.222 8.222 0 0 1 2.42 5.85c0 4.56-3.72 8.27-8.28 8.27m4.54-6.2c-.25-.12-1.47-.73-1.7-.81s-.39-.12-.56.12c-.17.25-.64.81-.79.97-.14.17-.29.19-.54.06-.25-.12-1.05-.39-2-1.23a7.283 7.283 0 0 1-1.38-1.72c-.15-.25-.02-.38.11-.51.11-.11.25-.29.37-.44.12-.15.17-.25.25-.42.08-.17.04-.31-.02-.44-.06-.12-.56-1.35-.77-1.85-.2-.49-.41-.42-.56-.43-.14-.01-.31-.01-.48-.01-.17 0-.44.06-.66.31-.22.25-.87.85-.87 2.08 0 1.22.89 2.41 1.02 2.57.12.17 1.75 2.68 4.25 3.76.59.26 1.06.41 1.42.52.6.19 1.14.16 1.57.1.48-.07 1.47-.6 1.68-1.18s.21-1.08.14-1.18c-.06-.08-.23-.14-.48-.27\"></path>\n",
      "</svg>\n",
      "</span>\n",
      "</a>, <a class=\"social__action js-social__action--bottom social-icon-wrapper\" data-link-name=\"social bottom\" href=\"fb-messenger://share?link=https%3A%2F%2Fwww.theguardian.com%2Ftechnology%2F2017%2Fjan%2F31%2Famazon-expedia-microsoft-support-washington-action-against-donald-trump-travel-ban%3FCMP%3Dshare_btn_me&amp;app_id=180444840287\" target=\"_blank\" title=\"Messenger\">\n",
      "<span class=\" u-h \">Share on Messenger</span>\n",
      "<span class=\"inline-share-messenger inline-icon rounded-icon centered-icon social-icon social-icon--messenger\">\n",
      "<svg class=\"rounded-icon__svg centered-icon__svg social-icon__svg social-icon--messenger__svg inline-share-messenger__svg inline-icon__svg\" height=\"66\" viewbox=\"-12 -12 90 90\" width=\"66\">\n",
      "<path clip-rule=\"evenodd\" d=\"M33 61.1c-3.6 0-7.1-.5-10.4-1.5L10.1 66V52.5C3.9 47 0 39.2 0 30.6 0 13.7 14.8 0 33 0s33 13.7 33 30.6c0 16.8-14.8 30.5-33 30.5zM36.5 41L28 32.2l-16.4 9 18-18.9 8.5 8.8 16.4-9-18 18.9z\" fill-rule=\"evenodd\"></path>\n",
      "</svg>\n",
      "</span>\n",
      "</a>, <a class=\"syndication__action\" data-link-name=\"meta-syndication-article\" href=\"https://syndication.theguardian.com/automation/?url=https%3A%2F%2Fwww.theguardian.com%2Ftechnology%2F2017%2Fjan%2F31%2Famazon-expedia-microsoft-support-washington-action-against-donald-trump-travel-ban&amp;type=article&amp;internalpagecode=3149699\" target=\"_blank\" title=\"Reuse this content\">\n",
      "<span class=\"syndication__link button button--syndication-reprint button--small\">Reuse this content</span>\n",
      "</a>, <a class=\"fc-item__link\" data-link-name=\"article\" href=\"https://www.theguardian.com/technology/2017/jun/02/jeff-bezos-amazon-founder-worlds-richest-man-bill-gates\">\n",
      "<span class=\"u-faux-block-link__cta fc-item__headline\">\n",
      "<span class=\"js-headline-text\">Jeff Bezos: the 'obsessive' Amazon founder and world's next richest man</span></span>\n",
      "</a>, <a class=\"u-faux-block-link__overlay js-headline-text\" data-link-name=\"article\" href=\"https://www.theguardian.com/technology/2017/jun/02/jeff-bezos-amazon-founder-worlds-richest-man-bill-gates\" tabindex=\"-1\">Jeff Bezos: the 'obsessive' Amazon founder and world's next richest man</a>, <a class=\"fc-item__link\" data-link-name=\"article\" href=\"https://www.theguardian.com/business/2017/apr/29/fangs-breakneck-rise-facebook-amazon-netflix-google\">\n",
      "<span class=\"u-faux-block-link__cta fc-item__headline\">\n",
      "<span class=\"js-headline-text\">Fangs: the lightning rise of Facebook, Amazon, Netflix and Google</span></span>\n",
      "</a>, <a class=\"u-faux-block-link__overlay js-headline-text\" data-link-name=\"article\" href=\"https://www.theguardian.com/business/2017/apr/29/fangs-breakneck-rise-facebook-amazon-netflix-google\" tabindex=\"-1\">Fangs: the lightning rise of Facebook, Amazon, Netflix and Google</a>, <a class=\"fc-item__link\" data-link-name=\"article\" href=\"https://www.theguardian.com/science/2016/dec/05/tech-billionaires-space-exploration-musk-bezos-branson\">\n",
      "<span class=\"u-faux-block-link__cta fc-item__headline\">\n",
      "<span class=\"js-headline-text\">Rocket men: why tech’s biggest billionaires want their place in space</span></span>\n",
      "</a>, <a class=\"u-faux-block-link__overlay js-headline-text\" data-link-name=\"article\" href=\"https://www.theguardian.com/science/2016/dec/05/tech-billionaires-space-exploration-musk-bezos-branson\" tabindex=\"-1\">Rocket men: why tech’s biggest billionaires want their place in space</a>, <a class=\"fc-item__link\" data-link-name=\"article\" href=\"https://www.theguardian.com/technology/2016/nov/18/amazon-jeff-bezos-donald-trump-challenge\">\n",
      "<span class=\"u-faux-block-link__cta fc-item__headline\">\n",
      "<span class=\"js-headline-text\">Amazon v Donald Trump? Jeff Bezos may soon face his biggest challenge yet</span></span>\n",
      "</a>, <a class=\"u-faux-block-link__overlay js-headline-text\" data-link-name=\"article\" href=\"https://www.theguardian.com/technology/2016/nov/18/amazon-jeff-bezos-donald-trump-challenge\" tabindex=\"-1\">Amazon v Donald Trump? Jeff Bezos may soon face his biggest challenge yet</a>, <a class=\"fc-item__link\" data-link-name=\"article\" href=\"https://www.theguardian.com/technology/2016/oct/20/jeff-bezos-donald-trump-criticism-amazon-blue-origin\">\n",
      "<span class=\"u-faux-block-link__cta fc-item__headline\">\n",
      "<span class=\"js-headline-text\">Jeff Bezos says Donald Trump's behavior 'erodes democracy'</span></span>\n",
      "</a>, <a class=\"u-faux-block-link__overlay js-headline-text\" data-link-name=\"article\" href=\"https://www.theguardian.com/technology/2016/oct/20/jeff-bezos-donald-trump-criticism-amazon-blue-origin\" tabindex=\"-1\">Jeff Bezos says Donald Trump's behavior 'erodes democracy'</a>, <a class=\"fc-item__link\" data-link-name=\"article\" href=\"https://www.theguardian.com/science/2016/mar/08/jeff-bezos-blue-origin-humans-in-space\">\n",
      "<span class=\"u-faux-block-link__cta fc-item__headline\">\n",
      "<span class=\"js-headline-text\">Jeff Bezos' Blue Origin expects to launch test space flights with humans in 2017</span></span>\n",
      "</a>, <a class=\"u-faux-block-link__overlay js-headline-text\" data-link-name=\"article\" href=\"https://www.theguardian.com/science/2016/mar/08/jeff-bezos-blue-origin-humans-in-space\" tabindex=\"-1\">Jeff Bezos' Blue Origin expects to launch test space flights with humans in 2017</a>, <a class=\"fc-item__link\" data-link-name=\"article\" href=\"https://www.theguardian.com/film/2015/dec/28/jeff-bezos-amazon-prime-win-an-oscar\">\n",
      "<span class=\"u-faux-block-link__cta fc-item__headline\">\n",
      "<span class=\"js-headline-text\">Jeff Bezos: 'I want Amazon to win an Oscar'</span></span>\n",
      "</a>, <a class=\"u-faux-block-link__overlay js-headline-text\" data-link-name=\"article\" href=\"https://www.theguardian.com/film/2015/dec/28/jeff-bezos-amazon-prime-win-an-oscar\" tabindex=\"-1\">Jeff Bezos: 'I want Amazon to win an Oscar'</a>, <a class=\"fc-item__link\" data-link-name=\"article\" href=\"https://www.theguardian.com/technology/2015/jul/23/amazon-stock-surge-makes-ceo-jeff-bezos-7bn-richer-in-45-minutes\">\n",
      "<span class=\"u-faux-block-link__cta fc-item__headline\">\n",
      "<span class=\"js-headline-text\">Amazon stock surge makes CEO Jeff Bezos $7bn richer in 45 minutes</span></span>\n",
      "</a>, <a class=\"u-faux-block-link__overlay js-headline-text\" data-link-name=\"article\" href=\"https://www.theguardian.com/technology/2015/jul/23/amazon-stock-surge-makes-ceo-jeff-bezos-7bn-richer-in-45-minutes\" tabindex=\"-1\">Amazon stock surge makes CEO Jeff Bezos $7bn richer in 45 minutes</a>, <a data-link-name=\"Most viewed technology\" href=\"https://www.theguardian.com/most-read/technology\">most viewed</a>, <a class=\"guardian-logo-footer hide-on-mobile\" data-link-name=\"site logo\" href=\"https://www.theguardian.com/uk\">\n",
      "<span class=\"u-h\">The Guardian</span>\n",
      "<i class=\"i i-guardian-logo-160\"></i>\n",
      "</a>, <a class=\"brand-bar__item brand-bar__item--action\" data-link-name=\"back to top\" href=\"#top\">\n",
      "<span class=\"rounded-icon control__icon-wrapper\">\n",
      "<span class=\"inline-arrow-up inline-icon \">\n",
      "<svg class=\"inline-arrow-up__svg inline-icon__svg\" height=\"18\" viewbox=\"0 0 24 18\" width=\"24\">\n",
      "<path d=\"M.4 15.3l10.5-8.4L12 6l1.1.9 10.5 8.4-.5.7L12 9.7.9 16l-.5-.7z\"></path>\n",
      "</svg>\n",
      "</span>\n",
      "</span>\n",
      "<span class=\"control__info\">back to top</span>\n",
      "</a>, <a class=\"top-navigation__action top-navigation__action--has-icon\" data-link-name=\"nav : primary : home\" href=\"https://www.theguardian.com/uk\" title=\"Back to homepage\">\n",
      "<span class=\"top-navigation__icon top-navigation__icon--home\"></span>\n",
      "<span class=\"u-h\">home</span>\n",
      "</a>, <a class=\"top-navigation__action\" data-link-name=\"nav : primary : UK\" href=\"https://www.theguardian.com/uk-news\">\n",
      "UK\n",
      "</a>, <a class=\"top-navigation__action\" data-link-name=\"nav : primary : politics\" href=\"https://www.theguardian.com/politics\">\n",
      "politics\n",
      "</a>, <a class=\"top-navigation__action\" data-link-name=\"nav : primary : world\" href=\"https://www.theguardian.com/world\">\n",
      "world\n",
      "</a>, <a class=\"top-navigation__action\" data-link-name=\"nav : primary : sport\" href=\"https://www.theguardian.com/uk/sport\">\n",
      "sport\n",
      "</a>, <a class=\"top-navigation__action\" data-link-name=\"nav : primary : football\" href=\"https://www.theguardian.com/football\">\n",
      "football\n",
      "</a>, <a class=\"top-navigation__action\" data-link-name=\"nav : primary : opinion\" href=\"https://www.theguardian.com/uk/commentisfree\">\n",
      "opinion\n",
      "</a>, <a class=\"top-navigation__action\" data-link-name=\"nav : primary : culture\" href=\"https://www.theguardian.com/uk/culture\">\n",
      "culture\n",
      "</a>, <a class=\"top-navigation__action\" data-link-name=\"nav : primary : business\" href=\"https://www.theguardian.com/uk/business\">\n",
      "business\n",
      "</a>, <a class=\"top-navigation__action\" data-link-name=\"nav : primary : lifestyle\" href=\"https://www.theguardian.com/uk/lifeandstyle\">\n",
      "lifestyle\n",
      "</a>, <a class=\"top-navigation__action\" data-link-name=\"nav : primary : fashion\" href=\"https://www.theguardian.com/fashion\">\n",
      "fashion\n",
      "</a>, <a class=\"top-navigation__action\" data-link-name=\"nav : primary : environment\" href=\"https://www.theguardian.com/uk/environment\">\n",
      "environment\n",
      "</a>, <a class=\"top-navigation__action\" data-link-name=\"nav : primary : tech\" href=\"https://www.theguardian.com/uk/technology\">\n",
      "tech\n",
      "<span class=\"u-h\">selected</span>\n",
      "</a>, <a class=\"top-navigation__action\" data-link-name=\"nav : primary : travel\" href=\"https://www.theguardian.com/uk/travel\">\n",
      "travel\n",
      "</a>, <a class=\"navigation-toggle js-navigation-toggle\" data-link-name=\"nav : allSections\" data-target-nav=\"js-navigation-footer\" href=\"#top\">\n",
      "<span class=\"inline-arrow-up inline-icon modern-hidden\">\n",
      "<svg class=\"modern-hidden__svg inline-arrow-up__svg inline-icon__svg\" height=\"18\" viewbox=\"0 0 24 18\" width=\"24\">\n",
      "<path d=\"M.4 15.3l10.5-8.4L12 6l1.1.9 10.5 8.4-.5.7L12 9.7.9 16l-.5-.7z\"></path>\n",
      "</svg>\n",
      "</span>\n",
      "<i class=\"burger-icon modern-visible\"></i>\n",
      "<span aria-controls=\"all-sections-popup\" aria-haspopup=\"true\" aria-label=\"view all sections\" class=\"navigation-toggle-label navigation-toggle-label--open\">all<span class=\"navigation-toggle-label__extra\"> sections</span></span>\n",
      "<span aria-label=\"close all sections\" class=\"navigation-toggle-label navigation-toggle-label--close\">close</span>\n",
      "</a>, <a class=\"global-navigation__title\" data-link-name=\"nav : globalTop : home\" href=\"https://www.theguardian.com/uk\">\n",
      "home\n",
      "</a>, <a class=\"global-navigation__title\" data-link-name=\"nav : globalTop : UK\" href=\"https://www.theguardian.com/uk-news\">\n",
      "UK\n",
      "</a>, <a class=\"global-navigation__action\" data-link-name=\"nav : globalSub : education\" href=\"https://www.theguardian.com/education\">\n",
      "education\n",
      "</a>, <a class=\"global-navigation__action\" data-link-name=\"nav : globalSub : media\" href=\"https://www.theguardian.com/uk/media\">\n",
      "media\n",
      "</a>, <a class=\"global-navigation__action\" data-link-name=\"nav : globalSub : society\" href=\"https://www.theguardian.com/society\">\n",
      "society\n",
      "</a>, <a class=\"global-navigation__action\" data-link-name=\"nav : globalSub : law\" href=\"https://www.theguardian.com/law\">\n",
      "law\n",
      "</a>, <a class=\"global-navigation__action\" data-link-name=\"nav : globalSub : scotland\" href=\"https://www.theguardian.com/uk/scotland\">\n",
      "scotland\n",
      "</a>, <a class=\"global-navigation__action\" data-link-name=\"nav : globalSub : wales\" href=\"https://www.theguardian.com/uk/wales\">\n",
      "wales\n",
      "</a>, <a class=\"global-navigation__action\" data-link-name=\"nav : globalSub : northern ireland\" href=\"https://www.theguardian.com/uk/northernireland\">\n",
      "northern ireland\n",
      "</a>, <a class=\"global-navigation__title\" data-link-name=\"nav : globalTop : politics\" href=\"https://www.theguardian.com/politics\">\n",
      "politics\n",
      "</a>, <a class=\"global-navigation__title\" data-link-name=\"nav : globalTop : world\" href=\"https://www.theguardian.com/world\">\n",
      "world\n",
      "</a>, <a class=\"global-navigation__action\" data-link-name=\"nav : globalSub : europe\" href=\"https://www.theguardian.com/world/europe-news\">\n",
      "europe\n",
      "</a>, <a class=\"global-navigation__action\" data-link-name=\"nav : globalSub : US\" href=\"https://www.theguardian.com/us-news\">\n",
      "US\n",
      "</a>, <a class=\"global-navigation__action\" data-link-name=\"nav : globalSub : americas\" href=\"https://www.theguardian.com/world/americas\">\n",
      "americas\n",
      "</a>, <a class=\"global-navigation__action\" data-link-name=\"nav : globalSub : asia\" href=\"https://www.theguardian.com/world/asia\">\n",
      "asia\n",
      "</a>, <a class=\"global-navigation__action\" data-link-name=\"nav : globalSub : australia\" href=\"https://www.theguardian.com/australia-news\">\n",
      "australia\n",
      "</a>, <a class=\"global-navigation__action\" data-link-name=\"nav : globalSub : africa\" href=\"https://www.theguardian.com/world/africa\">\n",
      "africa\n",
      "</a>, <a class=\"global-navigation__action\" data-link-name=\"nav : globalSub : middle east\" href=\"https://www.theguardian.com/world/middleeast\">\n",
      "middle east\n",
      "</a>, <a class=\"global-navigation__action\" data-link-name=\"nav : globalSub : cities\" href=\"https://www.theguardian.com/cities\">\n",
      "cities\n",
      "</a>, <a class=\"global-navigation__action\" data-link-name=\"nav : globalSub : development\" href=\"https://www.theguardian.com/global-development\">\n",
      "development\n",
      "</a>, <a class=\"global-navigation__title\" data-link-name=\"nav : globalTop : sport\" href=\"https://www.theguardian.com/uk/sport\">\n",
      "sport\n",
      "</a>, <a class=\"global-navigation__action\" data-link-name=\"nav : globalSub : football\" href=\"https://www.theguardian.com/football\">\n",
      "football\n",
      "</a>, <a class=\"global-navigation__action\" data-link-name=\"nav : globalSub : cricket\" href=\"https://www.theguardian.com/sport/cricket\">\n",
      "cricket\n",
      "</a>, <a class=\"global-navigation__action\" data-link-name=\"nav : globalSub : rugby union\" href=\"https://www.theguardian.com/sport/rugby-union\">\n",
      "rugby union\n",
      "</a>, <a class=\"global-navigation__action\" data-link-name=\"nav : globalSub : F1\" href=\"https://www.theguardian.com/sport/formulaone\">\n",
      "F1\n",
      "</a>, <a class=\"global-navigation__action\" data-link-name=\"nav : globalSub : tennis\" href=\"https://www.theguardian.com/sport/tennis\">\n",
      "tennis\n",
      "</a>, <a class=\"global-navigation__action\" data-link-name=\"nav : globalSub : golf\" href=\"https://www.theguardian.com/sport/golf\">\n",
      "golf\n",
      "</a>, <a class=\"global-navigation__action\" data-link-name=\"nav : globalSub : cycling\" href=\"https://www.theguardian.com/sport/cycling\">\n",
      "cycling\n",
      "</a>, <a class=\"global-navigation__action\" data-link-name=\"nav : globalSub : boxing\" href=\"https://www.theguardian.com/sport/boxing\">\n",
      "boxing\n",
      "</a>, <a class=\"global-navigation__action\" data-link-name=\"nav : globalSub : racing\" href=\"https://www.theguardian.com/sport/horse-racing\">\n",
      "racing\n",
      "</a>, <a class=\"global-navigation__action\" data-link-name=\"nav : globalSub : rugby league\" href=\"https://www.theguardian.com/sport/rugbyleague\">\n",
      "rugby league\n",
      "</a>, <a class=\"global-navigation__action\" data-link-name=\"nav : globalSub : US sports\" href=\"https://www.theguardian.com/sport/us-sport\">\n",
      "US sports\n",
      "</a>, <a class=\"global-navigation__title\" data-link-name=\"nav : globalTop : football\" href=\"https://www.theguardian.com/football\">\n",
      "football\n",
      "</a>, <a class=\"global-navigation__action\" data-link-name=\"nav : globalSub : live scores\" href=\"https://www.theguardian.com/football/live\">\n",
      "live scores\n",
      "</a>, <a class=\"global-navigation__action\" data-link-name=\"nav : globalSub : tables\" href=\"https://www.theguardian.com/football/tables\">\n",
      "tables\n",
      "</a>, <a class=\"global-navigation__action\" data-link-name=\"nav : globalSub : competitions\" href=\"https://www.theguardian.com/football/competitions\">\n",
      "competitions\n",
      "</a>, <a class=\"global-navigation__action\" data-link-name=\"nav : globalSub : results\" href=\"https://www.theguardian.com/football/results\">\n",
      "results\n",
      "</a>, <a class=\"global-navigation__action\" data-link-name=\"nav : globalSub : fixtures\" href=\"https://www.theguardian.com/football/fixtures\">\n",
      "fixtures\n",
      "</a>, <a class=\"global-navigation__action\" data-link-name=\"nav : globalSub : clubs\" href=\"https://www.theguardian.com/football/teams\">\n",
      "clubs\n",
      "</a>, <a class=\"global-navigation__title\" data-link-name=\"nav : globalTop : opinion\" href=\"https://www.theguardian.com/uk/commentisfree\">\n",
      "opinion\n",
      "</a>, <a class=\"global-navigation__action\" data-link-name=\"nav : globalSub : columnists\" href=\"https://www.theguardian.com/index/contributors\">\n",
      "columnists\n",
      "</a>, <a class=\"global-navigation__action\" data-link-name=\"nav : globalSub : letters\" href=\"https://www.theguardian.com/tone/letters\">\n",
      "letters\n",
      "</a>, <a class=\"global-navigation__action\" data-link-name=\"nav : globalSub : editorials\" href=\"https://www.theguardian.com/tone/editorials\">\n",
      "editorials\n",
      "</a>, <a class=\"global-navigation__title\" data-link-name=\"nav : globalTop : culture\" href=\"https://www.theguardian.com/uk/culture\">\n",
      "culture\n",
      "</a>, <a class=\"global-navigation__action\" data-link-name=\"nav : globalSub : film\" href=\"https://www.theguardian.com/uk/film\">\n",
      "film\n",
      "</a>, <a class=\"global-navigation__action\" data-link-name=\"nav : globalSub : tv &amp; radio\" href=\"https://www.theguardian.com/uk/tv-and-radio\">\n",
      "tv &amp; radio\n",
      "</a>, <a class=\"global-navigation__action\" data-link-name=\"nav : globalSub : music\" href=\"https://www.theguardian.com/music\">\n",
      "music\n",
      "</a>, <a class=\"global-navigation__action\" data-link-name=\"nav : globalSub : games\" href=\"https://www.theguardian.com/technology/games\">\n",
      "games\n",
      "</a>, <a class=\"global-navigation__action\" data-link-name=\"nav : globalSub : books\" href=\"https://www.theguardian.com/books\">\n",
      "books\n",
      "</a>, <a class=\"global-navigation__action\" data-link-name=\"nav : globalSub : art &amp; design\" href=\"https://www.theguardian.com/artanddesign\">\n",
      "art &amp; design\n",
      "</a>, <a class=\"global-navigation__action\" data-link-name=\"nav : globalSub : stage\" href=\"https://www.theguardian.com/stage\">\n",
      "stage\n",
      "</a>, <a class=\"global-navigation__action\" data-link-name=\"nav : globalSub : classical\" href=\"https://www.theguardian.com/music/classicalmusicandopera\">\n",
      "classical\n",
      "</a>, <a class=\"global-navigation__title\" data-link-name=\"nav : globalTop : business\" href=\"https://www.theguardian.com/uk/business\">\n",
      "business\n",
      "</a>, <a class=\"global-navigation__action\" data-link-name=\"nav : globalSub : economics\" href=\"https://www.theguardian.com/business/economics\">\n",
      "economics\n",
      "</a>, <a class=\"global-navigation__action\" data-link-name=\"nav : globalSub : banking\" href=\"https://www.theguardian.com/business/banking\">\n",
      "banking\n",
      "</a>, <a class=\"global-navigation__action\" data-link-name=\"nav : globalSub : retail\" href=\"https://www.theguardian.com/business/retail\">\n",
      "retail\n",
      "</a>, <a class=\"global-navigation__action\" data-link-name=\"nav : globalSub : markets\" href=\"https://www.theguardian.com/business/stock-markets\">\n",
      "markets\n",
      "</a>, <a class=\"global-navigation__action\" data-link-name=\"nav : globalSub : eurozone\" href=\"https://www.theguardian.com/business/eurozone\">\n",
      "eurozone\n",
      "</a>, <a class=\"global-navigation__title\" data-link-name=\"nav : globalTop : lifestyle\" href=\"https://www.theguardian.com/uk/lifeandstyle\">\n",
      "lifestyle\n",
      "</a>, <a class=\"global-navigation__action\" data-link-name=\"nav : globalSub : food\" href=\"https://www.theguardian.com/lifeandstyle/food-and-drink\">\n",
      "food\n",
      "</a>, <a class=\"global-navigation__action\" data-link-name=\"nav : globalSub : recipes\" href=\"https://www.theguardian.com/tone/recipes\">\n",
      "recipes\n",
      "</a>, <a class=\"global-navigation__action\" data-link-name=\"nav : globalSub : health &amp; fitness\" href=\"https://www.theguardian.com/lifeandstyle/health-and-wellbeing\">\n",
      "health &amp; fitness\n",
      "</a>, <a class=\"global-navigation__action\" data-link-name=\"nav : globalSub : love &amp; sex\" href=\"https://www.theguardian.com/lifeandstyle/love-and-sex\">\n",
      "love &amp; sex\n",
      "</a>, <a class=\"global-navigation__action\" data-link-name=\"nav : globalSub : family\" href=\"https://www.theguardian.com/lifeandstyle/family\">\n",
      "family\n",
      "</a>, <a class=\"global-navigation__action\" data-link-name=\"nav : globalSub : women\" href=\"https://www.theguardian.com/lifeandstyle/women\">\n",
      "women\n",
      "</a>, <a class=\"global-navigation__action\" data-link-name=\"nav : globalSub : home &amp; garden\" href=\"https://www.theguardian.com/lifeandstyle/home-and-garden\">\n",
      "home &amp; garden\n",
      "</a>, <a class=\"global-navigation__title\" data-link-name=\"nav : globalTop : fashion\" href=\"https://www.theguardian.com/fashion\">\n",
      "fashion\n",
      "</a>, <a class=\"global-navigation__title\" data-link-name=\"nav : globalTop : environment\" href=\"https://www.theguardian.com/uk/environment\">\n",
      "environment\n",
      "</a>, <a class=\"global-navigation__action\" data-link-name=\"nav : globalSub : climate change\" href=\"https://www.theguardian.com/environment/climate-change\">\n",
      "climate change\n",
      "</a>, <a class=\"global-navigation__action\" data-link-name=\"nav : globalSub : wildlife\" href=\"https://www.theguardian.com/environment/wildlife\">\n",
      "wildlife\n",
      "</a>, <a class=\"global-navigation__action\" data-link-name=\"nav : globalSub : energy\" href=\"https://www.theguardian.com/environment/energy\">\n",
      "energy\n",
      "</a>, <a class=\"global-navigation__action\" data-link-name=\"nav : globalSub : pollution\" href=\"https://www.theguardian.com/environment/pollution\">\n",
      "pollution\n",
      "</a>, <a class=\"global-navigation__title\" data-link-name=\"nav : globalTop : tech\" href=\"https://www.theguardian.com/uk/technology\">\n",
      "tech\n",
      "<span class=\"u-h\">selected</span>\n",
      "</a>, <a class=\"global-navigation__title\" data-link-name=\"nav : globalTop : travel\" href=\"https://www.theguardian.com/uk/travel\">\n",
      "travel\n",
      "</a>, <a class=\"global-navigation__action\" data-link-name=\"nav : globalSub : UK\" href=\"https://www.theguardian.com/travel/uk\">\n",
      "UK\n",
      "</a>, <a class=\"global-navigation__action\" data-link-name=\"nav : globalSub : europe\" href=\"https://www.theguardian.com/travel/europe\">\n",
      "europe\n",
      "</a>, <a class=\"global-navigation__action\" data-link-name=\"nav : globalSub : US\" href=\"https://www.theguardian.com/travel/usa\">\n",
      "US\n",
      "</a>, <a class=\"global-navigation__title\" data-link-name=\"nav : globalTop : money\" href=\"https://www.theguardian.com/uk/money\">\n",
      "money\n",
      "</a>, <a class=\"global-navigation__action\" data-link-name=\"nav : globalSub : property\" href=\"https://www.theguardian.com/money/property\">\n",
      "property\n",
      "</a>, <a class=\"global-navigation__action\" data-link-name=\"nav : globalSub : savings\" href=\"https://www.theguardian.com/money/savings\">\n",
      "savings\n",
      "</a>, <a class=\"global-navigation__action\" data-link-name=\"nav : globalSub : pensions\" href=\"https://www.theguardian.com/money/pensions\">\n",
      "pensions\n",
      "</a>, <a class=\"global-navigation__action\" data-link-name=\"nav : globalSub : borrowing\" href=\"https://www.theguardian.com/money/debt\">\n",
      "borrowing\n",
      "</a>, <a class=\"global-navigation__action\" data-link-name=\"nav : globalSub : careers\" href=\"https://www.theguardian.com/money/work-and-careers\">\n",
      "careers\n",
      "</a>, <a class=\"global-navigation__title\" data-link-name=\"nav : globalTop : science\" href=\"https://www.theguardian.com/science\">\n",
      "science\n",
      "</a>, <a class=\"global-navigation__title\" data-link-name=\"nav : globalTop : professional networks\" href=\"https://www.theguardian.com/guardian-professional\">\n",
      "professional networks\n",
      "</a>, <a class=\"global-navigation__title\" data-link-name=\"nav : globalTop : the observer\" href=\"https://www.theguardian.com/observer\">\n",
      "the observer\n",
      "</a>, <a class=\"global-navigation__title\" data-link-name=\"nav : globalTop : today's paper\" href=\"https://www.theguardian.com/theguardian\">\n",
      "today's paper\n",
      "</a>, <a class=\"global-navigation__action\" data-link-name=\"nav : globalSub : obituaries\" href=\"https://www.theguardian.com/tone/obituaries\">\n",
      "obituaries\n",
      "</a>, <a class=\"global-navigation__action\" data-link-name=\"nav : globalSub : g2\" href=\"https://www.theguardian.com/theguardian/g2\">\n",
      "g2\n",
      "</a>, <a class=\"global-navigation__action\" data-link-name=\"nav : globalSub : weekend\" href=\"https://www.theguardian.com/theguardian/weekend\">\n",
      "weekend\n",
      "</a>, <a class=\"global-navigation__action\" data-link-name=\"nav : globalSub : the guide\" href=\"https://www.theguardian.com/theguardian/theguide\">\n",
      "the guide\n",
      "</a>, <a class=\"global-navigation__action\" data-link-name=\"nav : globalSub : saturday review\" href=\"https://www.theguardian.com/theguardian/guardianreview\">\n",
      "saturday review\n",
      "</a>, <a class=\"global-navigation__title\" data-link-name=\"nav : globalTop : sunday's paper\" href=\"https://www.theguardian.com/theobserver\">\n",
      "sunday's paper\n",
      "</a>, <a class=\"global-navigation__action\" data-link-name=\"nav : globalSub : comment\" href=\"https://www.theguardian.com/theobserver/news/comment\">\n",
      "comment\n",
      "</a>, <a class=\"global-navigation__action\" data-link-name=\"nav : globalSub : the new review\" href=\"https://www.theguardian.com/theobserver/new-review\">\n",
      "the new review\n",
      "</a>, <a class=\"global-navigation__action\" data-link-name=\"nav : globalSub : observer magazine\" href=\"https://www.theguardian.com/theobserver/magazine\">\n",
      "observer magazine\n",
      "</a>, <a class=\"global-navigation__title\" data-link-name=\"nav : globalTop : membership\" href=\"https://www.theguardian.com/membership\">\n",
      "membership\n",
      "</a>, <a class=\"global-navigation__title\" data-link-name=\"nav : globalTop : crosswords\" href=\"https://www.theguardian.com/crosswords\">\n",
      "crosswords\n",
      "</a>, <a class=\"global-navigation__action\" data-link-name=\"nav : globalSub : blog\" href=\"https://www.theguardian.com/crosswords/crossword-blog\">\n",
      "blog\n",
      "</a>, <a class=\"global-navigation__action\" data-link-name=\"nav : globalSub : editor\" href=\"https://www.theguardian.com/crosswords/series/crossword-editor-update\">\n",
      "editor\n",
      "</a>, <a class=\"global-navigation__action\" data-link-name=\"nav : globalSub : quick\" href=\"https://www.theguardian.com/crosswords/series/quick\">\n",
      "quick\n",
      "</a>, <a class=\"global-navigation__action\" data-link-name=\"nav : globalSub : cryptic\" href=\"https://www.theguardian.com/crosswords/series/cryptic\">\n",
      "cryptic\n",
      "</a>, <a class=\"global-navigation__action\" data-link-name=\"nav : globalSub : prize\" href=\"https://www.theguardian.com/crosswords/series/prize\">\n",
      "prize\n",
      "</a>, <a class=\"global-navigation__action\" data-link-name=\"nav : globalSub : quiptic\" href=\"https://www.theguardian.com/crosswords/series/quiptic\">\n",
      "quiptic\n",
      "</a>, <a class=\"global-navigation__action\" data-link-name=\"nav : globalSub : genius\" href=\"https://www.theguardian.com/crosswords/series/genius\">\n",
      "genius\n",
      "</a>, <a class=\"global-navigation__action\" data-link-name=\"nav : globalSub : speedy\" href=\"https://www.theguardian.com/crosswords/series/speedy\">\n",
      "speedy\n",
      "</a>, <a class=\"global-navigation__action\" data-link-name=\"nav : globalSub : everyman\" href=\"https://www.theguardian.com/crosswords/series/everyman\">\n",
      "everyman\n",
      "</a>, <a class=\"global-navigation__action\" data-link-name=\"nav : globalSub : azed\" href=\"https://www.theguardian.com/crosswords/series/azed\">\n",
      "azed\n",
      "</a>, <a class=\"global-navigation__action\" data-link-name=\"nav : globalSub : weekend\" href=\"https://www.theguardian.com/crosswords/series/weekend-crossword\">\n",
      "weekend\n",
      "</a>, <a class=\"global-navigation__title\" data-link-name=\"nav : globalTop : video\" href=\"https://www.theguardian.com/video\">\n",
      "video\n",
      "</a>, <a class=\"global-navigation__action\" data-link-name=\"nav : globalSub : podcasts\" href=\"https://www.theguardian.com/podcasts\">\n",
      "podcasts\n",
      "</a>, <a class=\"global-navigation__title\" data-link-name=\"nav : globalTop : digital archive\" href=\"https://theguardian.newspapers.com\">\n",
      "digital archive\n",
      "</a>, <a class=\"signposting__action\" data-link-name=\"/technology\" href=\"https://www.theguardian.com/uk/technology\" itemprop=\"url\"><span itemprop=\"title\">Technology</span></a>, <a class=\"signposting__action\" data-link-name=\"/technology/amazon\" href=\"https://www.theguardian.com/technology/amazon\" itemprop=\"url\"><span itemprop=\"title\">Amazon</span></a>, <a class=\"subnav-link\" data-link-name=\"nav2 : subnav : UK news\" href=\"https://www.theguardian.com/uk-news\">\n",
      "UK\n",
      "</a>, <a class=\"subnav-link\" data-link-name=\"nav2 : subnav : world news\" href=\"https://www.theguardian.com/world\">\n",
      "world\n",
      "</a>, <a class=\"subnav-link\" data-link-name=\"nav2 : subnav : business\" href=\"https://www.theguardian.com/uk/business\">\n",
      "business\n",
      "</a>, <a class=\"subnav-link\" data-link-name=\"nav2 : subnav : environment\" href=\"https://www.theguardian.com/uk/environment\">\n",
      "environment\n",
      "</a>, <a class=\"subnav-link subnav-link--current-section\" data-link-name=\"nav2 : subnav : tech\" href=\"https://www.theguardian.com/uk/technology\">\n",
      "tech\n",
      "</a>, <a class=\"subnav-link\" data-link-name=\"nav2 : subnav : UK politics\" href=\"https://www.theguardian.com/politics\">\n",
      "UK politics\n",
      "</a>, <a class=\"subnav-link\" data-link-name=\"nav2 : subnav : science\" href=\"https://www.theguardian.com/science\">\n",
      "science\n",
      "</a>, <a class=\"subnav-link\" data-link-name=\"nav2 : subnav : global development\" href=\"https://www.theguardian.com/global-development\">\n",
      "global development\n",
      "</a>, <a class=\"subnav-link\" data-link-name=\"nav2 : subnav : cities\" href=\"https://www.theguardian.com/cities\">\n",
      "cities\n",
      "</a>, <a class=\"subnav-link\" data-link-name=\"nav2 : subnav : obituaries\" href=\"https://www.theguardian.com/tone/obituaries\">\n",
      "obituaries\n",
      "</a>, <a data-link-name=\"back to top\" href=\"#top\">\n",
      "<div class=\"footer__back-to-top-container\">\n",
      "<div class=\"gs-container\">\n",
      "<div class=\"footer__back-to-top\">\n",
      "<span class=\"back-to-top__text\">back to top</span>\n",
      "<span class=\"back-to-top__icon-container\">\n",
      "<i class=\"back-to-top__icon\"></i>\n",
      "</span>\n",
      "</div>\n",
      "</div>\n",
      "</div>\n",
      "</a>, <a data-link-name=\"uk : footer : jobs\" href=\"https://jobs.theguardian.com/?INTCMP=NGW_FOOTER_UK_GU_JOBS\">\n",
      "jobs</a>, <a data-link-name=\"uk : footer : soulmates\" href=\"https://soulmates.theguardian.com/?INTCMP=NGW_FOOTER_UK_GU_SOULMATES\">\n",
      "dating</a>, <a data-link-name=\"uk : footer : membership\" href=\"https://membership.theguardian.com/supporter?INTCMP=NGW_FOOTER_UK_GU_MEMBERSHIP\">\n",
      "become a supporter</a>, <a data-link-name=\"uk : footer : contribute\" href=\"https://contribute.theguardian.com?INTCMP=gdnwb_copts_memco_dotcom_footer\">\n",
      "make a contribution</a>, <a data-link-name=\"uk : footer : guardian labs\" href=\"https://www.theguardian.com/guardian-labs\">\n",
      "Guardian labs</a>, <a data-link-name=\"uk : footer : about us\" href=\"https://www.theguardian.com/info\">\n",
      "about us</a>, <a data-link-name=\"uk : footer : work for us\" href=\"https://workforus.theguardian.com/locations/london\">\n",
      "work for us</a>, <a data-link-name=\"uk : footer : advertise with us\" href=\"https://advertising.theguardian.com\">\n",
      "advertise with us</a>, <a data-link-name=\"uk : footer : contact us\" href=\"https://www.theguardian.com/help/contact-us\">\n",
      "contact us</a>, <a class=\"js-tech-feedback-report\" data-link-name=\"uk : footer : tech feedback\" href=\"https://www.theguardian.com/info/tech-feedback\">\n",
      "report technical issue</a>, <a data-link-name=\"terms\" href=\"https://www.theguardian.com/help/terms-of-service\">\n",
      "terms &amp; conditions</a>, <a data-link-name=\"privacy\" href=\"https://www.theguardian.com/info/privacy\">\n",
      "privacy policy</a>, <a data-link-name=\"cookie\" href=\"https://www.theguardian.com/info/cookies\">\n",
      "cookie policy</a>, <a data-link-name=\"securedrop\" href=\"https://securedrop.theguardian.com/\">\n",
      "securedrop</a>, <a data-link-name=\"digital newspaper archive\" href=\"https://theguardian.newspapers.com\">\n",
      "digital newspaper archive</a>, <a data-link-name=\"complaints\" href=\"https://www.theguardian.com/info/complaints-and-corrections\">\n",
      "complaints &amp; corrections</a>, <a data-link-name=\"uk : footer : all topics\" href=\"https://www.theguardian.com/index/subjects/a\">\n",
      "all topics</a>, <a data-link-name=\"uk : footer : all contributors\" href=\"https://www.theguardian.com/index/contributors\">\n",
      "all contributors</a>, <a data-link-name=\"uk : footer : modern slavery act statement\" href=\"https://www.theguardian.com/info/2016/jul/27/modern-slavery-and-our-supply-chains?INTCMP=NGW_FOOTER_UK_GU_MODERN_SLAVERY_ACT\">\n",
      "modern slavery act</a>, <a data-link-name=\"uk : footer : facebook\" href=\"https://www.facebook.com/theguardian\">\n",
      "Facebook</a>, <a data-link-name=\"uk : footer : twitter\" href=\"https://twitter.com/guardian\">\n",
      "Twitter</a>, <a data-link-name=\"uk : footer : subscribe\" href=\"https://subscribe.theguardian.com/?INTCMP=NGW_FOOTER_UK_GU_SUBSCRIBE\">\n",
      "subscribe</a>]\n"
     ]
    }
   ],
   "source": [
    "links = soup.find_all('a')\n",
    "print(links)"
   ]
  },
  {
   "cell_type": "code",
   "execution_count": 12,
   "metadata": {
    "slideshow": {
     "slide_type": "skip"
    }
   },
   "outputs": [
    {
     "name": "stdout",
     "output_type": "stream",
     "text": [
      "https://www.theguardian.com/us-news/donaldtrump Donald Trump\n",
      "https://www.theguardian.com/technology/amazon Amazon\n"
     ]
    }
   ],
   "source": [
    "links = soup.find_all('a', attrs={\n",
    "    'data-component': 'auto-linked-tag'\n",
    "})\n",
    "\n",
    "for link in links: \n",
    "    print(link['href'], link.text)"
   ]
  },
  {
   "cell_type": "markdown",
   "metadata": {
    "slideshow": {
     "slide_type": "skip"
    }
   },
   "source": [
    "# Chaining queries\n",
    "\n",
    "Now, let us conisder a more general query that might be done on a website such as this. \n",
    "We will query the base technology page, and attempt to list all articles that pertain to this main page"
   ]
  },
  {
   "cell_type": "code",
   "execution_count": 13,
   "metadata": {
    "collapsed": true,
    "slideshow": {
     "slide_type": "skip"
    }
   },
   "outputs": [],
   "source": [
    "url = 'https://www.theguardian.com/uk/technology'\n",
    "req = requests.get(url)\n",
    "source = req.text\n",
    "soup = BeautifulSoup(source, 'html.parser')"
   ]
  },
  {
   "cell_type": "markdown",
   "metadata": {
    "slideshow": {
     "slide_type": "skip"
    }
   },
   "source": [
    "After inspecting the DOM (via the `inspect` tool in my browser), I see that the attributes that define \n",
    "a `technology` article are: \n",
    "    \n",
    "    class = \"js-headline-text\""
   ]
  },
  {
   "cell_type": "code",
   "execution_count": 14,
   "metadata": {
    "slideshow": {
     "slide_type": "skip"
    }
   },
   "outputs": [
    {
     "name": "stdout",
     "output_type": "stream",
     "text": [
      "https://www.theguardian.com/technology/2017/jul/25/microsoft-paint-sav Program saved after \n",
      "https://www.theguardian.com/technology/2017/jul/25/roomba-maker-could- Roomba maker may sha\n",
      "https://www.theguardian.com/technology/commentisfree/2017/jul/25/dont- Don't let the sun go\n",
      "https://www.theguardian.com/technology/2017/jul/25/amazon-double-numbe Amazon to double num\n",
      "https://www.theguardian.com/technology/2017/jul/25/splatoon-2-review-n Return of Nintendo's\n",
      "https://www.theguardian.com/technology/2017/jul/24/facebook-cafeteria- Worker living in gar\n",
      "https://www.theguardian.com/technology/2017/jul/24/smart-tvs-fridges-s Smart fridges and TV\n",
      "https://www.theguardian.com/technology/2017/jul/24/internet-firms-shou Internet firms shoul\n",
      "https://www.theguardian.com/technology/2017/jul/24/microsoft-paint-kil Microsoft Paint to b\n",
      "https://www.theguardian.com/technology/2017/jul/24/pokemon-go-fest-fan Pokémon Go fans enra\n",
      "https://www.theguardian.com/technology/gallery/2017/jul/21/joy-of-stic 10 greatest video ga\n",
      "https://www.theguardian.com/technology/askjack/2017/jul/20/how-can-i-m How can I make video\n",
      "https://www.theguardian.com/technology/askjack/2017/jul/13/should-i-up Should I upgrade my \n",
      "https://www.theguardian.com/technology/askjack/2017/jul/06/technophobi What's the best came\n",
      "https://www.theguardian.com/technology/askjack/2017/jun/29/how-can-i-i How can I invest in \n",
      "https://www.theguardian.com/technology/2017/jul/15/facebook-buy-snapch Genius or hubris? Wh\n",
      "https://www.theguardian.com/technology/2017/jul/14/forcing-facebook-go Australia's plan to \n",
      "https://www.theguardian.com/technology/2017/jul/12/ajit-pai-fcc-net-ne Ajit Pai: the man wh\n",
      "https://www.theguardian.com/technology/2017/jul/11/what-is-net-neutral Why the net neutrali\n",
      "https://www.theguardian.com/technology/video/2017/jul/24/beat-the-hust Beat the Hustler: a \n",
      "https://www.theguardian.com/technology/2017/jul/24/kingdom-hearts-3-rp Kingdom Hearts 3: th\n",
      "https://www.theguardian.com/technology/2017/jul/23/revolution-of-steve 'Nobody has one butt\n",
      "https://www.theguardian.com/technology/gallery/2017/jul/21/joy-of-stic Joy of sticks: 10 gr\n",
      "https://www.theguardian.com/technology/2017/jul/20/list-making-apps-co How list-making apps\n",
      "https://www.theguardian.com/technology/2017/jun/13/htc-u11-review-sque HTC U11 review: the \n",
      "https://www.theguardian.com/technology/2017/jun/20/oneplus-5-review-fa OnePlus 5 review: as\n",
      "https://www.theguardian.com/technology/2017/apr/21/samsung-galaxy-s8-r Samsung Galaxy S8 re\n",
      "https://www.theguardian.com/technology/2017/apr/20/huawei-p10-review-c Huawei P10 review: a\n",
      "https://www.theguardian.com/technology/2017/jul/21/subpack-s2-review-p SubPack S2 review: p\n",
      "https://www.theguardian.com/technology/2017/jun/28/microsoft-surface-p Microsoft Surface Pr\n",
      "https://www.theguardian.com/technology/2017/jun/27/amazon-fire-hd-8-re Amazon Fire HD 8 rev\n",
      "https://www.theguardian.com/technology/2016/nov/28/amazon-echo-dot-rev Amazon Echo Dot revi\n",
      "https://www.theguardian.com/technology/video/2017/jul/24/the-construct The construction of \n",
      "https://www.theguardian.com/technology/audio/2017/jul/21/online-manosp One artist's deep di\n",
      "https://www.theguardian.com/technology/audio/2017/jul/14/a-memory-box- A memory box for the\n",
      "https://www.theguardian.com/technology/2017/jul/09/facebook-addresses- Facebook village? So\n",
      "https://www.theguardian.com/technology/2017/jul/09/silicon-valley-sexu Sexual harassment in\n",
      "https://www.theguardian.com/commentisfree/2017/jul/07/technology-sexis Tech has become anot\n",
      "https://www.theguardian.com/technology/2017/jul/05/tesla-sexual-harass She took on Tesla fo\n",
      "https://www.theguardian.com/technology/2017/jul/23/splatoon-2-mighty-g Games reviews roundu\n",
      "https://www.theguardian.com/film/2017/jul/22/ready-player-one-first-tr Ready Player One: fi\n",
      "https://www.theguardian.com/membership/2017/jul/21/game-changers-how-t Game changers: how t\n",
      "https://www.theguardian.com/technology/2017/jul/19/red-dead-redemption Do we need Red Dead \n"
     ]
    }
   ],
   "source": [
    "articles = soup.find_all('a', attrs={\n",
    "    'class': 'js-headline-text'\n",
    "})\n",
    "\n",
    "for article in articles: \n",
    "    print(article['href'][:70], article.text[:20])"
   ]
  },
  {
   "cell_type": "markdown",
   "metadata": {
    "slideshow": {
     "slide_type": "skip"
    }
   },
   "source": [
    "With this set of articles, it is now possible to chain further querying, for example with code \n",
    "similar to the following \n",
    "\n",
    "```python\n",
    "for article in articles: \n",
    "    req = requests.get(article['href'])\n",
    "    source = req.text \n",
    "    soup = BeautifulSoup(source, 'html.parser') \n",
    "    \n",
    "    ... and so on...\n",
    "```\n",
    "\n",
    "However, I won't go into much detail about this now. For scraping like this tools, such as `scrapy` are more \n",
    "appropriate than `BeautifulSoup` since they are designed for multithreadded web crawling. \n",
    "Once again, however, I urge caution and hope that before any crawling is initiated you determine whether \n",
    "crawling is within the terms of use of the website. \n",
    "If in doubt contact the website administrators. \n",
    "\n",
    "https://scrapy.org/"
   ]
  },
  {
   "cell_type": "markdown",
   "metadata": {
    "slideshow": {
     "slide_type": "slide"
    }
   },
   "source": [
    "## Web APIs\n",
    "\n",
    "- We have seen in the last section that parsing raw HTML is nontrivial since it will be necessary to contend with:\n",
    "    - Evolving source code\n",
    "    - Erroneous HTML tags\n",
    "- Fortunately, web APIs for data retrieval exist, and these are generally less prone to the previous issues since:\n",
    "    - Code is optimised for retreival and not for visual layout/aesthetics\n",
    "    - Standard serialisation tools (e.g. JSON) are typically used\n",
    "    - The core items of interest have been extracted (e.g. dates, URLs"
   ]
  },
  {
   "cell_type": "markdown",
   "metadata": {
    "slideshow": {
     "slide_type": "subslide"
    }
   },
   "source": [
    "## Web API Examples\n",
    "\n",
    "- https://github.com/toddmotto/public-apis\n",
    "- https://en.wikipedia.org/wiki/List_of_open_APIs\n",
    "- These APIs, although similar in principle, will be very different in practise.\n",
    "- However, writing code for APIs is generally simpler, requires less maintenance, and results in faster overall code"
   ]
  },
  {
   "cell_type": "markdown",
   "metadata": {
    "slideshow": {
     "slide_type": "fragment"
    }
   },
   "source": [
    "### Worked Example\n",
    "\n",
    "Worked example: \n",
    "- I will continue using ‘The Guardian’ since they have an open platform\n",
    "- The task will be to acquire a list of recent posts from the ‘technology’ section of the newspaper\n",
    "- http://open-platform.theguardian.com/\n",
    "- http://open-platform.theguardian.com/documentation/"
   ]
  },
  {
   "cell_type": "markdown",
   "metadata": {
    "slideshow": {
     "slide_type": "slide"
    }
   },
   "source": [
    "## The Guardian API\n",
    "\n",
    "In the `beautiful_soup.ipynb` notebook, I showed how BeautifulSoup can be used  to parse messy HTML, tp extract information, and to act as a rudimentary web crawler.  I used The Guardian as an illustrative example about how this can be achieved.  The reason for choosing The Guardian was because they provide a REST API to their servers. With these it is possible to perform specific queries on their servers, and to receive current information from their servers according to their API guide (ie in JSON)\n",
    "\n",
    "Python bindings to their API are provided by The Guardian here\n",
    "https://github.com/prabhath6/theguardian-api-python\n",
    "\n",
    "We use four parameters in our queries here: \n",
    "1. `section`: the section of the newspaper that we are interested in querying. In this case I'm lookin in \n",
    "the technology section \n",
    "2. `order-by`: I have specifie that the newest items should be closer to the front of the query list \n",
    "3. `api-key`: I have left this as test (which works here), but for *real* deployment of such a spider\n",
    "a real API key should be specified \n",
    "4. `page-size`: The number of results to return. "
   ]
  },
  {
   "cell_type": "code",
   "execution_count": 15,
   "metadata": {
    "collapsed": true,
    "slideshow": {
     "slide_type": "subslide"
    }
   },
   "outputs": [],
   "source": [
    "import requests \n",
    "import json "
   ]
  },
  {
   "cell_type": "markdown",
   "metadata": {
    "slideshow": {
     "slide_type": "fragment"
    }
   },
   "source": [
    "These are the packages that are required for this example."
   ]
  },
  {
   "cell_type": "markdown",
   "metadata": {
    "slideshow": {
     "slide_type": "subslide"
    }
   },
   "source": [
    "## Inspect all sections and search for technology-based sections"
   ]
  },
  {
   "cell_type": "code",
   "execution_count": 16,
   "metadata": {
    "collapsed": true,
    "slideshow": {
     "slide_type": "fragment"
    }
   },
   "outputs": [],
   "source": [
    "url = 'https://content.guardianapis.com/sections?api-key=test'\n",
    "req = requests.get(url)\n",
    "src = req.text "
   ]
  },
  {
   "cell_type": "code",
   "execution_count": 17,
   "metadata": {
    "slideshow": {
     "slide_type": "fragment"
    }
   },
   "outputs": [
    {
     "name": "stdout",
     "output_type": "stream",
     "text": [
      "dict_keys(['status', 'userTier', 'results', 'total'])\n"
     ]
    }
   ],
   "source": [
    "sections = json.loads(src)['response']\n",
    "\n",
    "print(sections.keys())"
   ]
  },
  {
   "cell_type": "code",
   "execution_count": 18,
   "metadata": {
    "slideshow": {
     "slide_type": "fragment"
    }
   },
   "outputs": [
    {
     "name": "stdout",
     "output_type": "stream",
     "text": [
      "{\n",
      "  \"apiUrl\": \"https://content.guardianapis.com/artanddesign\",\n",
      "  \"editions\": [\n",
      "    {\n",
      "      \"apiUrl\": \"https://content.guardianapis.com/artanddesign\",\n",
      "      \"code\": \"default\",\n",
      "      \"id\": \"artanddesign\",\n",
      "      \"webTitle\": \"Art and design\",\n",
      "      \"webUrl\": \"https://www.theguardian.com/artanddesign\"\n",
      "    }\n",
      "  ],\n",
      "  \"id\": \"artanddesign\",\n",
      "  \"webTitle\": \"Art and design\",\n",
      "  \"webUrl\": \"https://www.theguardian.com/artanddesign\"\n",
      "}\n"
     ]
    }
   ],
   "source": [
    "print(json.dumps(sections['results'][0], indent=2, sort_keys=True))"
   ]
  },
  {
   "cell_type": "code",
   "execution_count": 19,
   "metadata": {
    "slideshow": {
     "slide_type": "subslide"
    }
   },
   "outputs": [
    {
     "name": "stdout",
     "output_type": "stream",
     "text": [
      "Technology https://content.guardianapis.com/technology\n"
     ]
    }
   ],
   "source": [
    "for result in sections['results']: \n",
    "    if 'tech' in result['id'].lower(): \n",
    "        print(result['webTitle'], result['apiUrl'])"
   ]
  },
  {
   "cell_type": "markdown",
   "metadata": {
    "slideshow": {
     "slide_type": "subslide"
    }
   },
   "source": [
    "## Manual query on whole API"
   ]
  },
  {
   "cell_type": "code",
   "execution_count": 20,
   "metadata": {
    "collapsed": true,
    "slideshow": {
     "slide_type": "fragment"
    }
   },
   "outputs": [],
   "source": [
    "# Specify the arguments\n",
    "args = {\n",
    "    'section': 'technology', \n",
    "    'order-by': 'newest', \n",
    "    'api-key': 'test', \n",
    "    'page-size': '100'\n",
    "}\n",
    "# Construct the URL\n",
    "base_url = 'http://content.guardianapis.com/search'\n",
    "url = '{}?{}'.format(\n",
    "    base_url, '&'.join([\"{}={}\".format(kk, vv) for kk, vv in args.items()])\n",
    ")\n",
    "# Make the request and extract the source\n",
    "req = requests.get(url) \n",
    "src = req.text"
   ]
  },
  {
   "cell_type": "code",
   "execution_count": 21,
   "metadata": {
    "slideshow": {
     "slide_type": "fragment"
    }
   },
   "outputs": [
    {
     "name": "stdout",
     "output_type": "stream",
     "text": [
      "Number of byes received: 53847\n"
     ]
    }
   ],
   "source": [
    "print('Number of byes received:', len(src))"
   ]
  },
  {
   "cell_type": "markdown",
   "metadata": {
    "slideshow": {
     "slide_type": "subslide"
    }
   },
   "source": [
    "## Parsing the returned JSON\n",
    "\n",
    "The API returns JSON, so we parse this using the in-built JSON library. The API specifies that all data are returned within the `response` key, even under failure. Thereofre, I have immediately descended to the response field "
   ]
  },
  {
   "cell_type": "code",
   "execution_count": 22,
   "metadata": {
    "slideshow": {
     "slide_type": "fragment"
    }
   },
   "outputs": [
    {
     "name": "stdout",
     "output_type": "stream",
     "text": [
      "The following are available:\n",
      "  ['currentPage', 'orderBy', 'pageSize', 'pages', 'results', 'startIndex', 'status', 'total', 'userTier']\n"
     ]
    }
   ],
   "source": [
    "response = json.loads(src)['response']\n",
    "print('The following are available:\\n ', sorted(response.keys()))"
   ]
  },
  {
   "cell_type": "markdown",
   "metadata": {
    "slideshow": {
     "slide_type": "subslide"
    }
   },
   "source": [
    "## Verifying the status code\n",
    "\n",
    "It is important to verify that the status message is `ok` before continuing - if it is not `ok` no 'real' data \n",
    "will have been received. "
   ]
  },
  {
   "cell_type": "code",
   "execution_count": 23,
   "metadata": {
    "collapsed": true,
    "slideshow": {
     "slide_type": "fragment"
    }
   },
   "outputs": [],
   "source": [
    "assert response['status'] == 'ok'"
   ]
  },
  {
   "cell_type": "markdown",
   "metadata": {
    "slideshow": {
     "slide_type": "subslide"
    }
   },
   "source": [
    "## Listing the results \n",
    "\n",
    "The API standard states that the results will be found in the `results` field under the `response` field. \n",
    "Furthermore, the URLs will be found in the `webUrl` field, and the title will be found in the `webTitle` \n",
    "field. \n",
    "\n",
    "First let's look to see what a single result looks like in full, and then I will print a restricted \n",
    "set of parameters on the full set of results ."
   ]
  },
  {
   "cell_type": "code",
   "execution_count": 24,
   "metadata": {
    "slideshow": {
     "slide_type": "fragment"
    }
   },
   "outputs": [
    {
     "name": "stdout",
     "output_type": "stream",
     "text": [
      "{\n",
      "  \"apiUrl\": \"https://content.guardianapis.com/technology/commentisfree/2017/jul/25/dont-let-sun-go-down-on-snopes-helped-start-the-internet\",\n",
      "  \"id\": \"technology/commentisfree/2017/jul/25/dont-let-sun-go-down-on-snopes-helped-start-the-internet\",\n",
      "  \"isHosted\": false,\n",
      "  \"sectionId\": \"technology\",\n",
      "  \"sectionName\": \"Technology\",\n",
      "  \"type\": \"article\",\n",
      "  \"webPublicationDate\": \"2017-07-25T12:10:09Z\",\n",
      "  \"webTitle\": \"Don't let the sun go down on Snopes \\u2013 it helped start the internet\",\n",
      "  \"webUrl\": \"https://www.theguardian.com/technology/commentisfree/2017/jul/25/dont-let-sun-go-down-on-snopes-helped-start-the-internet\"\n",
      "}\n"
     ]
    }
   ],
   "source": [
    "print(json.dumps(response['results'][0], indent=2, sort_keys=True))"
   ]
  },
  {
   "cell_type": "code",
   "execution_count": 25,
   "metadata": {
    "slideshow": {
     "slide_type": "skip"
    }
   },
   "outputs": [
    {
     "name": "stdout",
     "output_type": "stream",
     "text": [
      "https://www.theguardian.com/technology/commentisfree/2017/jul/25/dont- Don't let the sun go\n",
      "https://www.theguardian.com/technology/2017/jul/25/amazon-double-numbe Amazon to double num\n",
      "https://www.theguardian.com/technology/2017/jul/25/roomba-maker-could- Roomba maker may sha\n",
      "https://www.theguardian.com/technology/2017/jul/25/splatoon-2-review-n Splatoon 2 review: r\n",
      "https://www.theguardian.com/technology/2017/jul/25/microsoft-paint-sav Microsoft Paint save\n",
      "https://www.theguardian.com/technology/2017/jul/25/as-it-dies-i-die-al 'As it dies, I die a\n",
      "https://www.theguardian.com/technology/2017/jul/24/microsoft-paint-kil Microsoft Paint to b\n",
      "https://www.theguardian.com/technology/2017/jul/24/kingdom-hearts-3-rp Kingdom Hearts 3: th\n",
      "https://www.theguardian.com/technology/2017/jul/24/share-your-microsof Share your Microsoft\n",
      "https://www.theguardian.com/technology/2017/jul/24/pokemon-go-fest-fan Pokémon Go fans enra\n",
      "https://www.theguardian.com/technology/2017/jul/24/facebook-cafeteria- Facebook worker livi\n",
      "https://www.theguardian.com/technology/2017/jul/24/chatterbox-monday Chatterbox: Monday\n",
      "https://www.theguardian.com/technology/2017/jul/23/revolution-of-steve 'Nobody has one butt\n",
      "https://www.theguardian.com/technology/2017/jul/23/splatoon-2-mighty-g Games reviews roundu\n",
      "https://www.theguardian.com/technology/2017/jul/23/bmw-5-series-520d-s BMW 520D SE review: \n",
      "https://www.theguardian.com/technology/2017/jul/22/drones-will-have-to Drones will have to \n",
      "https://www.theguardian.com/technology/2017/jul/19/facebook-pakistan-b Facebook was where P\n",
      "https://www.theguardian.com/technology/2017/jul/21/galaxy-note-8-samsu Galaxy Note 8: Samsu\n",
      "https://www.theguardian.com/technology/2017/jul/21/global-network-hunt Global network of 'h\n",
      "https://www.theguardian.com/technology/2017/jul/21/chatterbox-friday Chatterbox: Friday\n",
      "https://www.theguardian.com/technology/2017/jul/21/subpack-s2-review-p SubPack S2 review: p\n",
      "https://www.theguardian.com/technology/2017/jul/20/elon-musk-hyperloop Elon Musk: I got 'go\n",
      "https://www.theguardian.com/technology/2017/jul/20/dark-web-marketplac Dark web marketplace\n",
      "https://www.theguardian.com/technology/2017/jul/20/citymapper-bus-lond Citymapper announces\n",
      "https://www.theguardian.com/technology/2017/jul/20/google-change-home- Google to radically \n",
      "https://www.theguardian.com/technology/2017/jul/20/ecj-ruling-google-r ECJ to rule on wheth\n",
      "https://www.theguardian.com/technology/askjack/2017/jul/20/how-can-i-m How can I make video\n",
      "https://www.theguardian.com/technology/2017/jul/20/list-making-apps-co How list-making apps\n",
      "https://www.theguardian.com/technology/commentisfree/2017/jul/19/the-g The Guardian view on\n",
      "https://www.theguardian.com/technology/2017/jul/19/facebook-users-comp Facebook users vexed\n",
      "https://www.theguardian.com/technology/2017/jul/19/google-confidential Google employees det\n",
      "https://www.theguardian.com/technology/2017/jul/19/red-dead-redemption Do we need Red Dead \n",
      "https://www.theguardian.com/technology/2017/jul/19/chatterbox-wednesda Chatterbox: Wednesda\n",
      "https://www.theguardian.com/technology/2017/jul/19/china-blocks-whatsa China blocks WhatsAp\n",
      "https://www.theguardian.com/technology/2017/jul/18/rachel-whetstone-fa Facebook hires forme\n",
      "https://www.theguardian.com/technology/2017/jul/18/amazon-meal-kit-mar $16 falafel patties \n",
      "https://www.theguardian.com/technology/2017/jul/18/energy-sector-compr State hackers 'proba\n",
      "https://www.theguardian.com/technology/2017/jul/18/diversity-video-gam Why diversity matter\n",
      "https://www.theguardian.com/technology/2017/jul/18/robot-cop-found-fac Robot cop found face\n",
      "https://www.theguardian.com/technology/2017/jul/17/provident-personal- Provident Personal C\n",
      "https://www.theguardian.com/technology/2017/jul/17/hacked-dating-site- Hacked dating site A\n",
      "https://www.theguardian.com/technology/2017/jul/17/world-emoji-day-app Apple marks World Em\n",
      "https://www.theguardian.com/technology/2017/jul/17/age-checks-introduc Privacy campaigners \n",
      "https://www.theguardian.com/technology/2017/jul/17/icons-smartphone-gu How Guardian readers\n",
      "https://www.theguardian.com/technology/2017/jul/17/elon-musk-regulatio Elon Musk: regulate \n",
      "https://www.theguardian.com/technology/2017/jul/17/chatterbox-monday Chatterbox: Monday\n",
      "https://www.theguardian.com/technology/2017/jul/17/games-reviews-round Games reviews roundu\n",
      "https://www.theguardian.com/technology/2017/jul/17/education-is-the-so 'Education is the so\n",
      "https://www.theguardian.com/technology/2017/jul/17/google-told-to-hand Google told to hand \n",
      "https://www.theguardian.com/technology/2017/jul/16/how-can-we-stop-alg How can we stop algo\n",
      "https://www.theguardian.com/technology/2017/jul/16/mercedes-benz-e300- Mercedes-Benz E300 C\n",
      "https://www.theguardian.com/technology/2017/jul/15/ten-ways-to-master- Ten tips that will m\n",
      "https://www.theguardian.com/technology/2017/jul/15/facebook-buy-snapch Genius or hubris? Wh\n",
      "https://www.theguardian.com/technology/2017/jul/14/our-electric-car-is Our electric car is \n",
      "https://www.theguardian.com/technology/2017/jul/14/selfie-woman-causes Woman's selfie cause\n",
      "https://www.theguardian.com/technology/2017/jul/14/wifi-terms-and-cond Thousands sign up to\n",
      "https://www.theguardian.com/technology/2017/jul/14/life-hack-how-to-ar Life hack: how to be\n",
      "https://www.theguardian.com/technology/2017/jul/14/forcing-facebook-go Australia's plan to \n",
      "https://www.theguardian.com/technology/2017/jul/14/new-law-would-force New law would force \n",
      "https://www.theguardian.com/technology/2017/jul/13/uber-russia-yandex- Uber stages retreat \n",
      "https://www.theguardian.com/technology/2017/jul/13/are-spotifys-fake-a Are Spotify's 'fake \n",
      "https://www.theguardian.com/technology/2017/jul/13/airbnb-california-r Airbnb host who canc\n",
      "https://www.theguardian.com/technology/2017/jul/13/kfc-new-smartphone- KFC's new smartphone\n",
      "https://www.theguardian.com/technology/askjack/2017/jul/13/should-i-up Should I upgrade my \n",
      "https://www.theguardian.com/technology/2017/jul/13/social-media-am-i-s When does following \n",
      "https://www.theguardian.com/technology/2017/jul/13/no-sweat-app-alert- No sweat: app aims t\n",
      "https://www.theguardian.com/technology/2017/jul/13/google-millions-aca Google spends millio\n",
      "https://www.theguardian.com/technology/2017/jul/13/30-years-of-final-f 30 years of Final Fa\n",
      "https://www.theguardian.com/technology/2017/jul/12/google-taxes-france Google ducks $1.27bn\n",
      "https://www.theguardian.com/technology/2017/jul/12/virgin-trains-did-n Virgin Trains did no\n",
      "https://www.theguardian.com/technology/2017/jul/12/ajit-pai-fcc-net-ne Ajit Pai: the man wh\n",
      "https://www.theguardian.com/technology/2017/jul/12/facebook-messenger- Your Facebook Messen\n",
      "https://www.theguardian.com/technology/2017/jul/12/chatterbox-wednesda Chatterbox: Wednesda\n",
      "https://www.theguardian.com/technology/2017/jul/12/net-neutrality-fcc- Trump's 'war on the \n",
      "https://www.theguardian.com/technology/2017/jul/12/cyber-a-growing-ris Cyber fraud a growin\n",
      "https://www.theguardian.com/technology/2017/jul/11/what-is-net-neutral Why the net neutrali\n",
      "https://www.theguardian.com/technology/2017/jul/11/eff-who-has-your-ba Amazon and WhatsApp \n",
      "https://www.theguardian.com/technology/shortcuts/2017/jul/11/the-autom The automated Amazon\n",
      "https://www.theguardian.com/technology/2017/jul/11/gox-bitcoin-exchang Head of Mt Gox bitco\n",
      "https://www.theguardian.com/technology/2017/jul/11/the-tearoom-game-ga The Tearoom: the gay\n",
      "https://www.theguardian.com/technology/2017/jul/10/facebooks-housing-p Facebook’s housing p\n",
      "https://www.theguardian.com/technology/2017/jul/10/first-tesla-model-3 First Tesla Model 3 \n",
      "https://www.theguardian.com/technology/2017/jul/10/spotify-denies-fill Spotify denies filli\n",
      "https://www.theguardian.com/technology/2017/jul/10/facebook-twitter-su Facebook among tech \n",
      "https://www.theguardian.com/technology/2017/jul/10/chatterbox-monday Chatterbox: Monday\n",
      "https://www.theguardian.com/technology/2017/jul/09/facebook-addresses- Facebook village? So\n",
      "https://www.theguardian.com/technology/2017/jul/10/initial-coin-offeri Initial coin offerin\n",
      "https://www.theguardian.com/technology/2017/jul/09/silicon-valley-sexu Sexual harassment in\n",
      "https://www.theguardian.com/technology/2017/jul/09/volkswagen-beetle-n Volkswagen Beetle: c\n",
      "https://www.theguardian.com/technology/2017/jul/07/chatterbox-friday Chatterbox: Friday\n",
      "https://www.theguardian.com/technology/2017/jul/06/press-association-w Press Association wi\n",
      "https://www.theguardian.com/technology/askjack/2017/jul/06/technophobi What's the best came\n",
      "https://www.theguardian.com/technology/2017/jul/06/amazon-next-big-pro Forget Alexa, Amazon\n",
      "https://www.theguardian.com/technology/2017/jul/06/chip-robot-banker-m Chip: the robot bank\n",
      "https://www.theguardian.com/technology/2017/jul/06/uber-pop-primary-un Uber presses pause o\n",
      "https://www.theguardian.com/technology/2017/jul/06/minecraft-competiti Minecraft competitio\n",
      "https://www.theguardian.com/technology/2017/jul/05/notpetya-ransomware Hackers who targeted\n",
      "https://www.theguardian.com/technology/2017/jul/05/doctors-using-snapc Doctors using Snapch\n",
      "https://www.theguardian.com/technology/2017/jul/05/tesla-sexual-harass She took on Tesla fo\n",
      "https://www.theguardian.com/technology/2017/jul/05/chatterbox-wednesda Chatterbox: Wednesda\n"
     ]
    }
   ],
   "source": [
    "for result in response['results']: \n",
    "    print(result['webUrl'][:70], result['webTitle'][:20])"
   ]
  }
 ],
 "metadata": {
  "celltoolbar": "Slideshow",
  "kernelspec": {
   "display_name": "Python 3",
   "language": "python",
   "name": "python3"
  },
  "language_info": {
   "codemirror_mode": {
    "name": "ipython",
    "version": 3
   },
   "file_extension": ".py",
   "mimetype": "text/x-python",
   "name": "python",
   "nbconvert_exporter": "python",
   "pygments_lexer": "ipython3",
   "version": "3.5.2"
  }
 },
 "nbformat": 4,
 "nbformat_minor": 2
}
