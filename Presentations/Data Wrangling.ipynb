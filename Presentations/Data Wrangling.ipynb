{
 "cells": [
  {
   "cell_type": "markdown",
   "metadata": {
    "slideshow": {
     "slide_type": "slide"
    }
   },
   "source": [
    "# Data Wrangling\n",
    "\n",
    "### Applied Data Science"
   ]
  },
  {
   "cell_type": "markdown",
   "metadata": {
    "slideshow": {
     "slide_type": "slide"
    }
   },
   "source": [
    "## Data Wrangling\n",
    "\n",
    "- Neo4j\n",
    "- Demonstration\n",
    "- Cleaning data\n",
    "- Missing data"
   ]
  },
  {
   "cell_type": "markdown",
   "metadata": {
    "slideshow": {
     "slide_type": "slide"
    }
   },
   "source": [
    "## Neo4j Example\n",
    "\n",
    "- Creating nodes\n",
    "- Creating relationships\n",
    "- Perfoming simple queries\n"
   ]
  },
  {
   "cell_type": "markdown",
   "metadata": {
    "slideshow": {
     "slide_type": "slide"
    }
   },
   "source": [
    "## Recurring theme in data science lectures...\n",
    "\n",
    "- There is no single correct recipe for data science\n",
    "    - Data storage\n",
    "    - Database selection\n",
    "    - Data wrangling\n",
    "- Match appropriate technique to the task at hand\n",
    "- Familiarity is essential to select suitable methods"
   ]
  },
  {
   "cell_type": "markdown",
   "metadata": {
    "slideshow": {
     "slide_type": "slide"
    }
   },
   "source": [
    "- Data wrangling: detect, correct, remove or otherwise deal with corrupted or inaccurate records\n",
    "\n",
    "![alt text](resources/lego_data_1.jpg)"
   ]
  },
  {
   "cell_type": "markdown",
   "metadata": {
    "collapsed": true,
    "slideshow": {
     "slide_type": "slide"
    }
   },
   "source": [
    "## Data Wrangling Example\n",
    "\n",
    "This example considers the [CASAS](http://casas.wsu.edu) dataset. This is a dataset collected in a smart environment. As participants interact with the house, sensors record their interactions. There are a number of different sensor types including motion, door contact, light, temperature, water flow, etc. \n",
    "\n",
    "![alt text](resources/sensorlayout.jpg)"
   ]
  },
  {
   "cell_type": "markdown",
   "metadata": {
    "slideshow": {
     "slide_type": "subslide"
    }
   },
   "source": [
    "This example goes through a number of common issues in data science when working with real data. Namely, several issues relating to dates, sensor values, etc. This are dealt with consistently using the functionality provided by the `pandas` library. \n",
    "\n",
    "The objective is to fix all errors (if we can), and then to convert the timeseries data to a form that would be recognisable by a machine learning algorithm. I have attempted to comment my code where possible to explain my thought processes. At several points in this script I could have taken shortcuts, but I also attempted to forgo brevity for clarity. \n"
   ]
  },
  {
   "cell_type": "code",
   "execution_count": 100,
   "metadata": {
    "collapsed": true,
    "slideshow": {
     "slide_type": "subslide"
    }
   },
   "outputs": [],
   "source": [
    "from os.path import join \n",
    "\n",
    "import pandas as pd\n",
    "import numpy as np"
   ]
  },
  {
   "cell_type": "markdown",
   "metadata": {
    "slideshow": {
     "slide_type": "fragment"
    }
   },
   "source": [
    "This imports the pandas library that is used to clean up the data that has been collected as part of the CASAS data set."
   ]
  },
  {
   "cell_type": "markdown",
   "metadata": {
    "slideshow": {
     "slide_type": "subslide"
    }
   },
   "source": [
    "Set up various parameters and variables that will be used in this script"
   ]
  },
  {
   "cell_type": "code",
   "execution_count": 101,
   "metadata": {
    "slideshow": {
     "slide_type": "fragment"
    }
   },
   "outputs": [
    {
     "name": "stdout",
     "output_type": "stream",
     "text": [
      "     url: http://casas.wsu.edu/datasets/twor.2009.zip\n",
      " zipfile: twor.2009.zip\n",
      " dirname: twor.2009\n",
      "filename: twor.2009/data\n"
     ]
    }
   ],
   "source": [
    "url = 'http://casas.wsu.edu/datasets/twor.2009.zip'\n",
    "zipfile = url.split('/')[-1]\n",
    "dirname = '.'.join(zipfile.split('.')[:2])\n",
    "filename = join(dirname, 'data')\n",
    "\n",
    "print '     url: {}'.format(url)\n",
    "print ' zipfile: {}'.format(zipfile)\n",
    "print ' dirname: {}'.format(dirname)\n",
    "print 'filename: {}'.format(filename)"
   ]
  },
  {
   "cell_type": "markdown",
   "metadata": {
    "slideshow": {
     "slide_type": "subslide"
    }
   },
   "source": [
    "Download the dataset, and unzip it using the following commands in shell\n",
    "\n",
    "```shell\n",
    "wget http://casas.wsu.edu/datasets/twor.2009.zip\n",
    "unzip twor.2009.zip\n",
    "```\n",
    "\n",
    "or directly in python\n",
    "\n",
    "```python\n",
    "from subprocess import call\n",
    "call(('wget', url));\n",
    "call(('unzip', zipfile));\n",
    "```"
   ]
  },
  {
   "cell_type": "code",
   "execution_count": 102,
   "metadata": {
    "slideshow": {
     "slide_type": "skip"
    }
   },
   "outputs": [],
   "source": [
    "#from subprocess import call\n",
    "#call(('wget', url));\n",
    "#call(('unzip', zipfile));"
   ]
  },
  {
   "cell_type": "code",
   "execution_count": 103,
   "metadata": {
    "slideshow": {
     "slide_type": "subslide"
    }
   },
   "outputs": [
    {
     "data": {
      "text/html": [
       "<div>\n",
       "<style>\n",
       "    .dataframe thead tr:only-child th {\n",
       "        text-align: right;\n",
       "    }\n",
       "\n",
       "    .dataframe thead th {\n",
       "        text-align: left;\n",
       "    }\n",
       "\n",
       "    .dataframe tbody tr th {\n",
       "        vertical-align: top;\n",
       "    }\n",
       "</style>\n",
       "<table border=\"1\" class=\"dataframe\">\n",
       "  <thead>\n",
       "    <tr style=\"text-align: right;\">\n",
       "      <th></th>\n",
       "      <th>date</th>\n",
       "      <th>time</th>\n",
       "      <th>sensor</th>\n",
       "      <th>value</th>\n",
       "      <th>annotation</th>\n",
       "      <th>state</th>\n",
       "    </tr>\n",
       "  </thead>\n",
       "  <tbody>\n",
       "    <tr>\n",
       "      <th>0</th>\n",
       "      <td>2009-02-02</td>\n",
       "      <td>07:15:16.575809</td>\n",
       "      <td>M35</td>\n",
       "      <td>ON</td>\n",
       "      <td>R1_Bed_to_Toilet</td>\n",
       "      <td>begin</td>\n",
       "    </tr>\n",
       "    <tr>\n",
       "      <th>1</th>\n",
       "      <td>2009-02-02</td>\n",
       "      <td>07:15:21.408519</td>\n",
       "      <td>AD1-A</td>\n",
       "      <td>2.82231</td>\n",
       "      <td>NaN</td>\n",
       "      <td>NaN</td>\n",
       "    </tr>\n",
       "    <tr>\n",
       "      <th>2</th>\n",
       "      <td>2009-02-02</td>\n",
       "      <td>07:15:22.532789</td>\n",
       "      <td>M35</td>\n",
       "      <td>OFF</td>\n",
       "      <td>NaN</td>\n",
       "      <td>NaN</td>\n",
       "    </tr>\n",
       "    <tr>\n",
       "      <th>3</th>\n",
       "      <td>2009-02-02</td>\n",
       "      <td>07:15:23.345479</td>\n",
       "      <td>M35</td>\n",
       "      <td>ON</td>\n",
       "      <td>NaN</td>\n",
       "      <td>NaN</td>\n",
       "    </tr>\n",
       "    <tr>\n",
       "      <th>4</th>\n",
       "      <td>2009-02-02</td>\n",
       "      <td>07:15:27.529299</td>\n",
       "      <td>AD1-A</td>\n",
       "      <td>2.79926</td>\n",
       "      <td>NaN</td>\n",
       "      <td>NaN</td>\n",
       "    </tr>\n",
       "  </tbody>\n",
       "</table>\n",
       "</div>"
      ],
      "text/plain": [
       "         date             time sensor    value        annotation  state\n",
       "0  2009-02-02  07:15:16.575809    M35       ON  R1_Bed_to_Toilet  begin\n",
       "1  2009-02-02  07:15:21.408519  AD1-A  2.82231               NaN    NaN\n",
       "2  2009-02-02  07:15:22.532789    M35      OFF               NaN    NaN\n",
       "3  2009-02-02  07:15:23.345479    M35       ON               NaN    NaN\n",
       "4  2009-02-02  07:15:27.529299  AD1-A  2.79926               NaN    NaN"
      ]
     },
     "execution_count": 103,
     "metadata": {},
     "output_type": "execute_result"
    }
   ],
   "source": [
    "column_headings = ('date', 'time', 'sensor', 'value', 'annotation', 'state')\n",
    "\n",
    "df = pd.read_csv(\n",
    "    filename, \n",
    "    delim_whitespace=True,  # Note, the file is delimited by both space and tab characters\n",
    "    names = column_headings\n",
    ")\n",
    "\n",
    "df.head()"
   ]
  },
  {
   "cell_type": "code",
   "execution_count": 104,
   "metadata": {
    "slideshow": {
     "slide_type": "subslide"
    }
   },
   "outputs": [
    {
     "data": {
      "text/plain": [
       "date          object\n",
       "time          object\n",
       "sensor        object\n",
       "value         object\n",
       "annotation    object\n",
       "state         object\n",
       "dtype: object"
      ]
     },
     "execution_count": 104,
     "metadata": {},
     "output_type": "execute_result"
    }
   ],
   "source": [
    "df.dtypes"
   ]
  },
  {
   "cell_type": "markdown",
   "metadata": {
    "slideshow": {
     "slide_type": "fragment"
    }
   },
   "source": [
    "These types have been created when we set the columm headings of the data field and are from the columm_headings variable "
   ]
  },
  {
   "cell_type": "markdown",
   "metadata": {
    "slideshow": {
     "slide_type": "subslide"
    }
   },
   "source": [
    "Create a datetime column (currently date and time are separate, and are also strings). The following \n",
    "should achieve this: \n",
    "\n",
    "```python \n",
    "df['datetime'] = pd.to_datetime(df[['date', 'time']].apply(lambda row: ' '.join(row), axis=1))\n",
    "```\n",
    "\n",
    "The code above will fail, however, but this is expected behaviour. If we investigate the traceback for the error, we will discover that the final row in the file is from the year `22009`. This is a typo, clearly, and it should be from the year `2009`, so we will first replace this value, and then parse the dates. "
   ]
  },
  {
   "cell_type": "code",
   "execution_count": 105,
   "metadata": {
    "collapsed": true,
    "slideshow": {
     "slide_type": "fragment"
    }
   },
   "outputs": [],
   "source": [
    "df.loc[df.date.str.startswith('22009'), 'date'] = '2009-02-03'\n",
    "\n",
    "df['datetime'] = pd.to_datetime(df[['date', 'time']].apply(lambda row: ' '.join(row), axis=1))"
   ]
  },
  {
   "cell_type": "code",
   "execution_count": 106,
   "metadata": {
    "slideshow": {
     "slide_type": "subslide"
    }
   },
   "outputs": [
    {
     "data": {
      "text/html": [
       "<div>\n",
       "<style>\n",
       "    .dataframe thead tr:only-child th {\n",
       "        text-align: right;\n",
       "    }\n",
       "\n",
       "    .dataframe thead th {\n",
       "        text-align: left;\n",
       "    }\n",
       "\n",
       "    .dataframe tbody tr th {\n",
       "        vertical-align: top;\n",
       "    }\n",
       "</style>\n",
       "<table border=\"1\" class=\"dataframe\">\n",
       "  <thead>\n",
       "    <tr style=\"text-align: right;\">\n",
       "      <th></th>\n",
       "      <th>date</th>\n",
       "      <th>time</th>\n",
       "      <th>sensor</th>\n",
       "      <th>value</th>\n",
       "      <th>annotation</th>\n",
       "      <th>state</th>\n",
       "      <th>datetime</th>\n",
       "    </tr>\n",
       "  </thead>\n",
       "  <tbody>\n",
       "    <tr>\n",
       "      <th>0</th>\n",
       "      <td>2009-02-02</td>\n",
       "      <td>07:15:16.575809</td>\n",
       "      <td>M35</td>\n",
       "      <td>ON</td>\n",
       "      <td>R1_Bed_to_Toilet</td>\n",
       "      <td>begin</td>\n",
       "      <td>2009-02-02 07:15:16.575809</td>\n",
       "    </tr>\n",
       "    <tr>\n",
       "      <th>1</th>\n",
       "      <td>2009-02-02</td>\n",
       "      <td>07:15:21.408519</td>\n",
       "      <td>AD1-A</td>\n",
       "      <td>2.82231</td>\n",
       "      <td>NaN</td>\n",
       "      <td>NaN</td>\n",
       "      <td>2009-02-02 07:15:21.408519</td>\n",
       "    </tr>\n",
       "    <tr>\n",
       "      <th>2</th>\n",
       "      <td>2009-02-02</td>\n",
       "      <td>07:15:22.532789</td>\n",
       "      <td>M35</td>\n",
       "      <td>OFF</td>\n",
       "      <td>NaN</td>\n",
       "      <td>NaN</td>\n",
       "      <td>2009-02-02 07:15:22.532789</td>\n",
       "    </tr>\n",
       "    <tr>\n",
       "      <th>3</th>\n",
       "      <td>2009-02-02</td>\n",
       "      <td>07:15:23.345479</td>\n",
       "      <td>M35</td>\n",
       "      <td>ON</td>\n",
       "      <td>NaN</td>\n",
       "      <td>NaN</td>\n",
       "      <td>2009-02-02 07:15:23.345479</td>\n",
       "    </tr>\n",
       "    <tr>\n",
       "      <th>4</th>\n",
       "      <td>2009-02-02</td>\n",
       "      <td>07:15:27.529299</td>\n",
       "      <td>AD1-A</td>\n",
       "      <td>2.79926</td>\n",
       "      <td>NaN</td>\n",
       "      <td>NaN</td>\n",
       "      <td>2009-02-02 07:15:27.529299</td>\n",
       "    </tr>\n",
       "  </tbody>\n",
       "</table>\n",
       "</div>"
      ],
      "text/plain": [
       "         date             time sensor    value        annotation  state  \\\n",
       "0  2009-02-02  07:15:16.575809    M35       ON  R1_Bed_to_Toilet  begin   \n",
       "1  2009-02-02  07:15:21.408519  AD1-A  2.82231               NaN    NaN   \n",
       "2  2009-02-02  07:15:22.532789    M35      OFF               NaN    NaN   \n",
       "3  2009-02-02  07:15:23.345479    M35       ON               NaN    NaN   \n",
       "4  2009-02-02  07:15:27.529299  AD1-A  2.79926               NaN    NaN   \n",
       "\n",
       "                    datetime  \n",
       "0 2009-02-02 07:15:16.575809  \n",
       "1 2009-02-02 07:15:21.408519  \n",
       "2 2009-02-02 07:15:22.532789  \n",
       "3 2009-02-02 07:15:23.345479  \n",
       "4 2009-02-02 07:15:27.529299  "
      ]
     },
     "execution_count": 106,
     "metadata": {},
     "output_type": "execute_result"
    }
   ],
   "source": [
    "df.head()"
   ]
  },
  {
   "cell_type": "markdown",
   "metadata": {
    "slideshow": {
     "slide_type": "fragment"
    }
   },
   "source": [
    "By default, the new column is added to the end of the columns. However, since the date and time are now captured by the `datetime` column, we no longer need the date and time columns. Additionally, we will see how it is useful to have the `datetime` column as an index variable: this allows us to do time-driven querying which for this dataset will be very useful. "
   ]
  },
  {
   "cell_type": "code",
   "execution_count": 107,
   "metadata": {
    "slideshow": {
     "slide_type": "subslide"
    }
   },
   "outputs": [
    {
     "data": {
      "text/html": [
       "<div>\n",
       "<style>\n",
       "    .dataframe thead tr:only-child th {\n",
       "        text-align: right;\n",
       "    }\n",
       "\n",
       "    .dataframe thead th {\n",
       "        text-align: left;\n",
       "    }\n",
       "\n",
       "    .dataframe tbody tr th {\n",
       "        vertical-align: top;\n",
       "    }\n",
       "</style>\n",
       "<table border=\"1\" class=\"dataframe\">\n",
       "  <thead>\n",
       "    <tr style=\"text-align: right;\">\n",
       "      <th></th>\n",
       "      <th>sensor</th>\n",
       "      <th>value</th>\n",
       "      <th>annotation</th>\n",
       "      <th>state</th>\n",
       "    </tr>\n",
       "    <tr>\n",
       "      <th>datetime</th>\n",
       "      <th></th>\n",
       "      <th></th>\n",
       "      <th></th>\n",
       "      <th></th>\n",
       "    </tr>\n",
       "  </thead>\n",
       "  <tbody>\n",
       "    <tr>\n",
       "      <th>2009-02-02 07:15:16.575809</th>\n",
       "      <td>M35</td>\n",
       "      <td>ON</td>\n",
       "      <td>R1_Bed_to_Toilet</td>\n",
       "      <td>begin</td>\n",
       "    </tr>\n",
       "    <tr>\n",
       "      <th>2009-02-02 07:15:21.408519</th>\n",
       "      <td>AD1-A</td>\n",
       "      <td>2.82231</td>\n",
       "      <td>NaN</td>\n",
       "      <td>NaN</td>\n",
       "    </tr>\n",
       "    <tr>\n",
       "      <th>2009-02-02 07:15:22.532789</th>\n",
       "      <td>M35</td>\n",
       "      <td>OFF</td>\n",
       "      <td>NaN</td>\n",
       "      <td>NaN</td>\n",
       "    </tr>\n",
       "    <tr>\n",
       "      <th>2009-02-02 07:15:23.345479</th>\n",
       "      <td>M35</td>\n",
       "      <td>ON</td>\n",
       "      <td>NaN</td>\n",
       "      <td>NaN</td>\n",
       "    </tr>\n",
       "    <tr>\n",
       "      <th>2009-02-02 07:15:27.529299</th>\n",
       "      <td>AD1-A</td>\n",
       "      <td>2.79926</td>\n",
       "      <td>NaN</td>\n",
       "      <td>NaN</td>\n",
       "    </tr>\n",
       "  </tbody>\n",
       "</table>\n",
       "</div>"
      ],
      "text/plain": [
       "                           sensor    value        annotation  state\n",
       "datetime                                                           \n",
       "2009-02-02 07:15:16.575809    M35       ON  R1_Bed_to_Toilet  begin\n",
       "2009-02-02 07:15:21.408519  AD1-A  2.82231               NaN    NaN\n",
       "2009-02-02 07:15:22.532789    M35      OFF               NaN    NaN\n",
       "2009-02-02 07:15:23.345479    M35       ON               NaN    NaN\n",
       "2009-02-02 07:15:27.529299  AD1-A  2.79926               NaN    NaN"
      ]
     },
     "execution_count": 107,
     "metadata": {},
     "output_type": "execute_result"
    }
   ],
   "source": [
    "df = df[['datetime', 'sensor', 'value', 'annotation', 'state']]\n",
    "\n",
    "df.set_index('datetime', inplace=True)\n",
    "\n",
    "df.head()"
   ]
  },
  {
   "cell_type": "markdown",
   "metadata": {
    "slideshow": {
     "slide_type": "subslide"
    }
   },
   "source": [
    "We can now inspect the unique sensor, activity and value values: "
   ]
  },
  {
   "cell_type": "code",
   "execution_count": 108,
   "metadata": {
    "slideshow": {
     "slide_type": "fragment"
    }
   },
   "outputs": [
    {
     "data": {
      "text/plain": [
       "array(['M35', 'AD1-A', 'M34', 'M32', 'M33', 'M36', 'M30', 'M29', 'M37',\n",
       "       'M38', 'M39', 'M41', 'M40', 'M49', 'M46', 'M50', 'M44', 'M47',\n",
       "       'M48', 'M43', 'M28', 'M42', 'M27', 'M26', 'M25', 'M24', 'M21',\n",
       "       'M19', 'M18', 'M17', 'M16', 'M15', 'D09', 'M14', 'M13', 'M08',\n",
       "       'M07', 'M02', 'M45', 'M51', 'D08', 'AD1-B', 'AD1-C', 'D10', 'I03',\n",
       "       'M06', 'M09', 'M10', 'M01', 'D12', 'L04', 'M23', 'M31', 'D15',\n",
       "       'D07', 'D14', 'M11', 'M05', 'M03', 'M04', 'M22', 'M12', 'M20',\n",
       "       'L11', 'D05', 'D03', 'L10', 'L06', 'L13', 'L12', 'L09'], dtype=object)"
      ]
     },
     "execution_count": 108,
     "metadata": {},
     "output_type": "execute_result"
    }
   ],
   "source": [
    "df.sensor.unique()"
   ]
  },
  {
   "cell_type": "code",
   "execution_count": 109,
   "metadata": {
    "slideshow": {
     "slide_type": "subslide"
    }
   },
   "outputs": [
    {
     "data": {
      "text/plain": [
       "array(['R1_Bed_to_Toilet', nan, 'R1_Personal_Hygiene', 'R2_Bed_to_Toilet',\n",
       "       'Meal_Preparation', 'R2_Personal_Hygiene', 'Watch_TV', 'R1_Work',\n",
       "       'R2_Work', 'R1_Sleep', 'R2_Sleep', 'Wash_Bathtub', 'Clean', 'Study'], dtype=object)"
      ]
     },
     "execution_count": 109,
     "metadata": {},
     "output_type": "execute_result"
    }
   ],
   "source": [
    "df.annotation.unique()"
   ]
  },
  {
   "cell_type": "code",
   "execution_count": 110,
   "metadata": {
    "slideshow": {
     "slide_type": "fragment"
    }
   },
   "outputs": [
    {
     "data": {
      "text/plain": [
       "array(['begin', nan, 'end'], dtype=object)"
      ]
     },
     "execution_count": 110,
     "metadata": {},
     "output_type": "execute_result"
    }
   ],
   "source": [
    "df.state.unique()"
   ]
  },
  {
   "cell_type": "code",
   "execution_count": 111,
   "metadata": {
    "slideshow": {
     "slide_type": "fragment"
    }
   },
   "outputs": [
    {
     "data": {
      "text/plain": [
       "array(['ON', '2.82231', 'OFF', ..., '0.122853', '0.101369', '2.80684'], dtype=object)"
      ]
     },
     "execution_count": 111,
     "metadata": {},
     "output_type": "execute_result"
    }
   ],
   "source": [
    "df.value.unique()"
   ]
  },
  {
   "cell_type": "markdown",
   "metadata": {
    "slideshow": {
     "slide_type": "fragment"
    }
   },
   "source": [
    "We can see here that the unique values contains both numbers (eg 2.82231) and strings (ON, OFF). This is because the data recorded by all sensors is contained in one column. The next few steps will be to extract the non-numeric (ie categorical) data from the column. \n"
   ]
  },
  {
   "cell_type": "markdown",
   "metadata": {
    "slideshow": {
     "slide_type": "slide"
    }
   },
   "source": [
    "## Extracting the categorical data \n",
    "\n",
    "We can extract the categorical dataframe (noting that no categorical sensor starts with the letter `A`): \n",
    "\n",
    "The regular expression `^[^A]` returns true for strings that do not begin with `A` -- the first `^` is the symbol for the start of the sequence, and the second `^` when contained within square brackets is a 'not match' operation.  \n",
    "\n",
    "Since we only need the sensor name and the value, the data frames that we will deal with in this and the next section will slice these columns only (and doesn't consider the annotation columns). "
   ]
  },
  {
   "cell_type": "code",
   "execution_count": 112,
   "metadata": {
    "slideshow": {
     "slide_type": "subslide"
    }
   },
   "outputs": [
    {
     "data": {
      "text/html": [
       "<div>\n",
       "<style>\n",
       "    .dataframe thead tr:only-child th {\n",
       "        text-align: right;\n",
       "    }\n",
       "\n",
       "    .dataframe thead th {\n",
       "        text-align: left;\n",
       "    }\n",
       "\n",
       "    .dataframe tbody tr th {\n",
       "        vertical-align: top;\n",
       "    }\n",
       "</style>\n",
       "<table border=\"1\" class=\"dataframe\">\n",
       "  <thead>\n",
       "    <tr style=\"text-align: right;\">\n",
       "      <th></th>\n",
       "      <th>sensor</th>\n",
       "      <th>value</th>\n",
       "    </tr>\n",
       "    <tr>\n",
       "      <th>datetime</th>\n",
       "      <th></th>\n",
       "      <th></th>\n",
       "    </tr>\n",
       "  </thead>\n",
       "  <tbody>\n",
       "    <tr>\n",
       "      <th>2009-02-02 07:15:16.575809</th>\n",
       "      <td>M35</td>\n",
       "      <td>ON</td>\n",
       "    </tr>\n",
       "    <tr>\n",
       "      <th>2009-02-02 07:15:22.532789</th>\n",
       "      <td>M35</td>\n",
       "      <td>OFF</td>\n",
       "    </tr>\n",
       "    <tr>\n",
       "      <th>2009-02-02 07:15:23.345479</th>\n",
       "      <td>M35</td>\n",
       "      <td>ON</td>\n",
       "    </tr>\n",
       "    <tr>\n",
       "      <th>2009-02-02 07:15:28.655329</th>\n",
       "      <td>M34</td>\n",
       "      <td>ON</td>\n",
       "    </tr>\n",
       "    <tr>\n",
       "      <th>2009-02-02 07:15:32.574290</th>\n",
       "      <td>M34</td>\n",
       "      <td>OFF</td>\n",
       "    </tr>\n",
       "  </tbody>\n",
       "</table>\n",
       "</div>"
      ],
      "text/plain": [
       "                           sensor value\n",
       "datetime                               \n",
       "2009-02-02 07:15:16.575809    M35    ON\n",
       "2009-02-02 07:15:22.532789    M35   OFF\n",
       "2009-02-02 07:15:23.345479    M35    ON\n",
       "2009-02-02 07:15:28.655329    M34    ON\n",
       "2009-02-02 07:15:32.574290    M34   OFF"
      ]
     },
     "execution_count": 112,
     "metadata": {},
     "output_type": "execute_result"
    }
   ],
   "source": [
    "categorical_inds = df.sensor.str.match(r\"^[^A]\")\n",
    "\n",
    "df_categorical = df.loc[categorical_inds][['sensor', 'value']]\n",
    "\n",
    "df_categorical.head()"
   ]
  },
  {
   "cell_type": "markdown",
   "metadata": {
    "slideshow": {
     "slide_type": "subslide"
    }
   },
   "source": [
    "Our ambition is to create a matrix where each column corresponds to the combinations of sensors and values that are availabele in the data. For example, one column would correspond to the state of `M35` being `ON`, and another column will correspond to `M35` being `OFF`. The reason for having two columns to represent the `ON` and `OFF` states is that diffferent information may be achieved by the combinations. For example, a sensor turning on may correspond to somebody entering a room, but correspondingly, a sensor turning off may correspond to somebody leaving the room. \n",
    "\n",
    "We will achieve the matrix representation by creating a new column that has the `sensor` and `value` columns concatenated, and then we will use the `get_dummies` function provided by pandas to create the representat that we desire. "
   ]
  },
  {
   "cell_type": "code",
   "execution_count": 113,
   "metadata": {
    "slideshow": {
     "slide_type": "subslide"
    }
   },
   "outputs": [
    {
     "data": {
      "text/html": [
       "<div>\n",
       "<style>\n",
       "    .dataframe thead tr:only-child th {\n",
       "        text-align: right;\n",
       "    }\n",
       "\n",
       "    .dataframe thead th {\n",
       "        text-align: left;\n",
       "    }\n",
       "\n",
       "    .dataframe tbody tr th {\n",
       "        vertical-align: top;\n",
       "    }\n",
       "</style>\n",
       "<table border=\"1\" class=\"dataframe\">\n",
       "  <thead>\n",
       "    <tr style=\"text-align: right;\">\n",
       "      <th></th>\n",
       "      <th>sensor</th>\n",
       "      <th>value</th>\n",
       "      <th>sensor_value</th>\n",
       "    </tr>\n",
       "    <tr>\n",
       "      <th>datetime</th>\n",
       "      <th></th>\n",
       "      <th></th>\n",
       "      <th></th>\n",
       "    </tr>\n",
       "  </thead>\n",
       "  <tbody>\n",
       "    <tr>\n",
       "      <th>2009-02-02 07:15:16.575809</th>\n",
       "      <td>M35</td>\n",
       "      <td>ON</td>\n",
       "      <td>m35_on</td>\n",
       "    </tr>\n",
       "    <tr>\n",
       "      <th>2009-02-02 07:15:22.532789</th>\n",
       "      <td>M35</td>\n",
       "      <td>OFF</td>\n",
       "      <td>m35_off</td>\n",
       "    </tr>\n",
       "    <tr>\n",
       "      <th>2009-02-02 07:15:23.345479</th>\n",
       "      <td>M35</td>\n",
       "      <td>ON</td>\n",
       "      <td>m35_on</td>\n",
       "    </tr>\n",
       "    <tr>\n",
       "      <th>2009-02-02 07:15:28.655329</th>\n",
       "      <td>M34</td>\n",
       "      <td>ON</td>\n",
       "      <td>m34_on</td>\n",
       "    </tr>\n",
       "    <tr>\n",
       "      <th>2009-02-02 07:15:32.574290</th>\n",
       "      <td>M34</td>\n",
       "      <td>OFF</td>\n",
       "      <td>m34_off</td>\n",
       "    </tr>\n",
       "  </tbody>\n",
       "</table>\n",
       "</div>"
      ],
      "text/plain": [
       "                           sensor value sensor_value\n",
       "datetime                                            \n",
       "2009-02-02 07:15:16.575809    M35    ON       m35_on\n",
       "2009-02-02 07:15:22.532789    M35   OFF      m35_off\n",
       "2009-02-02 07:15:23.345479    M35    ON       m35_on\n",
       "2009-02-02 07:15:28.655329    M34    ON       m34_on\n",
       "2009-02-02 07:15:32.574290    M34   OFF      m34_off"
      ]
     },
     "execution_count": 113,
     "metadata": {},
     "output_type": "execute_result"
    }
   ],
   "source": [
    "df_categorical.loc[:, 'sensor_value'] = df_categorical[['sensor', 'value']].apply(\n",
    "    lambda row: '{}_{}'.format(*row).lower(), \n",
    "    axis=1\n",
    ")\n",
    "\n",
    "df_categorical.head()"
   ]
  },
  {
   "cell_type": "code",
   "execution_count": 114,
   "metadata": {
    "slideshow": {
     "slide_type": "skip"
    }
   },
   "outputs": [
    {
     "data": {
      "text/html": [
       "<div>\n",
       "<style>\n",
       "    .dataframe thead tr:only-child th {\n",
       "        text-align: right;\n",
       "    }\n",
       "\n",
       "    .dataframe thead th {\n",
       "        text-align: left;\n",
       "    }\n",
       "\n",
       "    .dataframe tbody tr th {\n",
       "        vertical-align: top;\n",
       "    }\n",
       "</style>\n",
       "<table border=\"1\" class=\"dataframe\">\n",
       "  <thead>\n",
       "    <tr style=\"text-align: right;\">\n",
       "      <th></th>\n",
       "      <th>d03_close</th>\n",
       "      <th>d03_open</th>\n",
       "      <th>d05_open</th>\n",
       "      <th>d07_close</th>\n",
       "      <th>d07_open</th>\n",
       "      <th>d08_close</th>\n",
       "      <th>d08_open</th>\n",
       "      <th>d09_close</th>\n",
       "      <th>d09_open</th>\n",
       "      <th>d10_close</th>\n",
       "      <th>...</th>\n",
       "      <th>m47_off</th>\n",
       "      <th>m47_on</th>\n",
       "      <th>m48_off</th>\n",
       "      <th>m48_on</th>\n",
       "      <th>m49_off</th>\n",
       "      <th>m49_on</th>\n",
       "      <th>m50_off</th>\n",
       "      <th>m50_on</th>\n",
       "      <th>m51_off</th>\n",
       "      <th>m51_on</th>\n",
       "    </tr>\n",
       "    <tr>\n",
       "      <th>datetime</th>\n",
       "      <th></th>\n",
       "      <th></th>\n",
       "      <th></th>\n",
       "      <th></th>\n",
       "      <th></th>\n",
       "      <th></th>\n",
       "      <th></th>\n",
       "      <th></th>\n",
       "      <th></th>\n",
       "      <th></th>\n",
       "      <th></th>\n",
       "      <th></th>\n",
       "      <th></th>\n",
       "      <th></th>\n",
       "      <th></th>\n",
       "      <th></th>\n",
       "      <th></th>\n",
       "      <th></th>\n",
       "      <th></th>\n",
       "      <th></th>\n",
       "      <th></th>\n",
       "    </tr>\n",
       "  </thead>\n",
       "  <tbody>\n",
       "    <tr>\n",
       "      <th>2009-02-02 07:15:16.575809</th>\n",
       "      <td>0</td>\n",
       "      <td>0</td>\n",
       "      <td>0</td>\n",
       "      <td>0</td>\n",
       "      <td>0</td>\n",
       "      <td>0</td>\n",
       "      <td>0</td>\n",
       "      <td>0</td>\n",
       "      <td>0</td>\n",
       "      <td>0</td>\n",
       "      <td>...</td>\n",
       "      <td>0</td>\n",
       "      <td>0</td>\n",
       "      <td>0</td>\n",
       "      <td>0</td>\n",
       "      <td>0</td>\n",
       "      <td>0</td>\n",
       "      <td>0</td>\n",
       "      <td>0</td>\n",
       "      <td>0</td>\n",
       "      <td>0</td>\n",
       "    </tr>\n",
       "    <tr>\n",
       "      <th>2009-02-02 07:15:22.532789</th>\n",
       "      <td>0</td>\n",
       "      <td>0</td>\n",
       "      <td>0</td>\n",
       "      <td>0</td>\n",
       "      <td>0</td>\n",
       "      <td>0</td>\n",
       "      <td>0</td>\n",
       "      <td>0</td>\n",
       "      <td>0</td>\n",
       "      <td>0</td>\n",
       "      <td>...</td>\n",
       "      <td>0</td>\n",
       "      <td>0</td>\n",
       "      <td>0</td>\n",
       "      <td>0</td>\n",
       "      <td>0</td>\n",
       "      <td>0</td>\n",
       "      <td>0</td>\n",
       "      <td>0</td>\n",
       "      <td>0</td>\n",
       "      <td>0</td>\n",
       "    </tr>\n",
       "    <tr>\n",
       "      <th>2009-02-02 07:15:23.345479</th>\n",
       "      <td>0</td>\n",
       "      <td>0</td>\n",
       "      <td>0</td>\n",
       "      <td>0</td>\n",
       "      <td>0</td>\n",
       "      <td>0</td>\n",
       "      <td>0</td>\n",
       "      <td>0</td>\n",
       "      <td>0</td>\n",
       "      <td>0</td>\n",
       "      <td>...</td>\n",
       "      <td>0</td>\n",
       "      <td>0</td>\n",
       "      <td>0</td>\n",
       "      <td>0</td>\n",
       "      <td>0</td>\n",
       "      <td>0</td>\n",
       "      <td>0</td>\n",
       "      <td>0</td>\n",
       "      <td>0</td>\n",
       "      <td>0</td>\n",
       "    </tr>\n",
       "    <tr>\n",
       "      <th>2009-02-02 07:15:28.655329</th>\n",
       "      <td>0</td>\n",
       "      <td>0</td>\n",
       "      <td>0</td>\n",
       "      <td>0</td>\n",
       "      <td>0</td>\n",
       "      <td>0</td>\n",
       "      <td>0</td>\n",
       "      <td>0</td>\n",
       "      <td>0</td>\n",
       "      <td>0</td>\n",
       "      <td>...</td>\n",
       "      <td>0</td>\n",
       "      <td>0</td>\n",
       "      <td>0</td>\n",
       "      <td>0</td>\n",
       "      <td>0</td>\n",
       "      <td>0</td>\n",
       "      <td>0</td>\n",
       "      <td>0</td>\n",
       "      <td>0</td>\n",
       "      <td>0</td>\n",
       "    </tr>\n",
       "    <tr>\n",
       "      <th>2009-02-02 07:15:32.574290</th>\n",
       "      <td>0</td>\n",
       "      <td>0</td>\n",
       "      <td>0</td>\n",
       "      <td>0</td>\n",
       "      <td>0</td>\n",
       "      <td>0</td>\n",
       "      <td>0</td>\n",
       "      <td>0</td>\n",
       "      <td>0</td>\n",
       "      <td>0</td>\n",
       "      <td>...</td>\n",
       "      <td>0</td>\n",
       "      <td>0</td>\n",
       "      <td>0</td>\n",
       "      <td>0</td>\n",
       "      <td>0</td>\n",
       "      <td>0</td>\n",
       "      <td>0</td>\n",
       "      <td>0</td>\n",
       "      <td>0</td>\n",
       "      <td>0</td>\n",
       "    </tr>\n",
       "  </tbody>\n",
       "</table>\n",
       "<p>5 rows × 135 columns</p>\n",
       "</div>"
      ],
      "text/plain": [
       "                            d03_close  d03_open  d05_open  d07_close  \\\n",
       "datetime                                                               \n",
       "2009-02-02 07:15:16.575809          0         0         0          0   \n",
       "2009-02-02 07:15:22.532789          0         0         0          0   \n",
       "2009-02-02 07:15:23.345479          0         0         0          0   \n",
       "2009-02-02 07:15:28.655329          0         0         0          0   \n",
       "2009-02-02 07:15:32.574290          0         0         0          0   \n",
       "\n",
       "                            d07_open  d08_close  d08_open  d09_close  \\\n",
       "datetime                                                               \n",
       "2009-02-02 07:15:16.575809         0          0         0          0   \n",
       "2009-02-02 07:15:22.532789         0          0         0          0   \n",
       "2009-02-02 07:15:23.345479         0          0         0          0   \n",
       "2009-02-02 07:15:28.655329         0          0         0          0   \n",
       "2009-02-02 07:15:32.574290         0          0         0          0   \n",
       "\n",
       "                            d09_open  d10_close   ...    m47_off  m47_on  \\\n",
       "datetime                                          ...                      \n",
       "2009-02-02 07:15:16.575809         0          0   ...          0       0   \n",
       "2009-02-02 07:15:22.532789         0          0   ...          0       0   \n",
       "2009-02-02 07:15:23.345479         0          0   ...          0       0   \n",
       "2009-02-02 07:15:28.655329         0          0   ...          0       0   \n",
       "2009-02-02 07:15:32.574290         0          0   ...          0       0   \n",
       "\n",
       "                            m48_off  m48_on  m49_off  m49_on  m50_off  m50_on  \\\n",
       "datetime                                                                        \n",
       "2009-02-02 07:15:16.575809        0       0        0       0        0       0   \n",
       "2009-02-02 07:15:22.532789        0       0        0       0        0       0   \n",
       "2009-02-02 07:15:23.345479        0       0        0       0        0       0   \n",
       "2009-02-02 07:15:28.655329        0       0        0       0        0       0   \n",
       "2009-02-02 07:15:32.574290        0       0        0       0        0       0   \n",
       "\n",
       "                            m51_off  m51_on  \n",
       "datetime                                     \n",
       "2009-02-02 07:15:16.575809        0       0  \n",
       "2009-02-02 07:15:22.532789        0       0  \n",
       "2009-02-02 07:15:23.345479        0       0  \n",
       "2009-02-02 07:15:28.655329        0       0  \n",
       "2009-02-02 07:15:32.574290        0       0  \n",
       "\n",
       "[5 rows x 135 columns]"
      ]
     },
     "execution_count": 114,
     "metadata": {},
     "output_type": "execute_result"
    }
   ],
   "source": [
    "df_categorical_exploded = pd.get_dummies(df_categorical.sensor_value)\n",
    "\n",
    "df_categorical_exploded.head()"
   ]
  },
  {
   "cell_type": "markdown",
   "metadata": {
    "slideshow": {
     "slide_type": "subslide"
    }
   },
   "source": [
    "And if desired, we can get a matrix form of the data with the `values` property"
   ]
  },
  {
   "cell_type": "code",
   "execution_count": 115,
   "metadata": {
    "slideshow": {
     "slide_type": "fragment"
    }
   },
   "outputs": [
    {
     "data": {
      "text/plain": [
       "array([[0, 0, 0, ..., 0, 0, 0],\n",
       "       [0, 0, 0, ..., 0, 0, 0],\n",
       "       [0, 0, 0, ..., 0, 0, 0],\n",
       "       ..., \n",
       "       [0, 0, 0, ..., 0, 0, 0],\n",
       "       [0, 0, 0, ..., 0, 0, 0],\n",
       "       [0, 0, 0, ..., 0, 0, 0]], dtype=uint8)"
      ]
     },
     "execution_count": 115,
     "metadata": {},
     "output_type": "execute_result"
    }
   ],
   "source": [
    "df_categorical_exploded.values"
   ]
  },
  {
   "cell_type": "markdown",
   "metadata": {
    "slideshow": {
     "slide_type": "slide"
    }
   },
   "source": [
    "## Numeric columns \n",
    "\n",
    "We have extracted matrix representation of the categorical data. Now, we will do the same for the numeric data. "
   ]
  },
  {
   "cell_type": "code",
   "execution_count": 116,
   "metadata": {
    "slideshow": {
     "slide_type": "fragment"
    }
   },
   "outputs": [
    {
     "data": {
      "text/html": [
       "<div>\n",
       "<style>\n",
       "    .dataframe thead tr:only-child th {\n",
       "        text-align: right;\n",
       "    }\n",
       "\n",
       "    .dataframe thead th {\n",
       "        text-align: left;\n",
       "    }\n",
       "\n",
       "    .dataframe tbody tr th {\n",
       "        vertical-align: top;\n",
       "    }\n",
       "</style>\n",
       "<table border=\"1\" class=\"dataframe\">\n",
       "  <thead>\n",
       "    <tr style=\"text-align: right;\">\n",
       "      <th></th>\n",
       "      <th>sensor</th>\n",
       "      <th>value</th>\n",
       "    </tr>\n",
       "    <tr>\n",
       "      <th>datetime</th>\n",
       "      <th></th>\n",
       "      <th></th>\n",
       "    </tr>\n",
       "  </thead>\n",
       "  <tbody>\n",
       "    <tr>\n",
       "      <th>2009-02-02 07:15:21.408519</th>\n",
       "      <td>AD1-A</td>\n",
       "      <td>2.82231</td>\n",
       "    </tr>\n",
       "    <tr>\n",
       "      <th>2009-02-02 07:15:27.529299</th>\n",
       "      <td>AD1-A</td>\n",
       "      <td>2.79926</td>\n",
       "    </tr>\n",
       "    <tr>\n",
       "      <th>2009-02-02 07:48:10.647809</th>\n",
       "      <td>AD1-A</td>\n",
       "      <td>2.82754</td>\n",
       "    </tr>\n",
       "    <tr>\n",
       "      <th>2009-02-02 07:48:16.658869</th>\n",
       "      <td>AD1-A</td>\n",
       "      <td>2.7977</td>\n",
       "    </tr>\n",
       "    <tr>\n",
       "      <th>2009-02-02 07:49:47.980269</th>\n",
       "      <td>AD1-A</td>\n",
       "      <td>2.81895</td>\n",
       "    </tr>\n",
       "  </tbody>\n",
       "</table>\n",
       "</div>"
      ],
      "text/plain": [
       "                           sensor    value\n",
       "datetime                                  \n",
       "2009-02-02 07:15:21.408519  AD1-A  2.82231\n",
       "2009-02-02 07:15:27.529299  AD1-A  2.79926\n",
       "2009-02-02 07:48:10.647809  AD1-A  2.82754\n",
       "2009-02-02 07:48:16.658869  AD1-A   2.7977\n",
       "2009-02-02 07:49:47.980269  AD1-A  2.81895"
      ]
     },
     "execution_count": 116,
     "metadata": {},
     "output_type": "execute_result"
    }
   ],
   "source": [
    "numeric_inds = df.sensor.str.startswith(\"A\")\n",
    "\n",
    "df_numeric = df.loc[numeric_inds][['sensor', 'value']]\n",
    "\n",
    "df_numeric.head()"
   ]
  },
  {
   "cell_type": "markdown",
   "metadata": {
    "slideshow": {
     "slide_type": "subslide"
    }
   },
   "source": [
    "Note, however, that since the value data was obtained from file that it is still in string format. We can convert these `str` data types to floating point data types easily as follows: \n",
    "\n",
    "```python \n",
    "df_numeric.value.map(float)\n",
    "```\n",
    "\n",
    "However, if we do this, we will discover that there is one record that holds a circumspect value (`0.509695F`). This is clearly another mistake in the dataset. We can remove the `F` from the string easily. It is not difficult to make the next bit of code more robust to other data types (eg by applying regular expressions to the strings), but here we will simply slice up until the last character to remove the `F`:"
   ]
  },
  {
   "cell_type": "code",
   "execution_count": 117,
   "metadata": {
    "slideshow": {
     "slide_type": "fragment"
    }
   },
   "outputs": [
    {
     "data": {
      "text/html": [
       "<div>\n",
       "<style>\n",
       "    .dataframe thead tr:only-child th {\n",
       "        text-align: right;\n",
       "    }\n",
       "\n",
       "    .dataframe thead th {\n",
       "        text-align: left;\n",
       "    }\n",
       "\n",
       "    .dataframe tbody tr th {\n",
       "        vertical-align: top;\n",
       "    }\n",
       "</style>\n",
       "<table border=\"1\" class=\"dataframe\">\n",
       "  <thead>\n",
       "    <tr style=\"text-align: right;\">\n",
       "      <th></th>\n",
       "      <th>sensor</th>\n",
       "      <th>value</th>\n",
       "    </tr>\n",
       "    <tr>\n",
       "      <th>datetime</th>\n",
       "      <th></th>\n",
       "      <th></th>\n",
       "    </tr>\n",
       "  </thead>\n",
       "  <tbody>\n",
       "    <tr>\n",
       "      <th>2009-02-19 18:35:43.447570</th>\n",
       "      <td>AD1-B</td>\n",
       "      <td>0.509695</td>\n",
       "    </tr>\n",
       "  </tbody>\n",
       "</table>\n",
       "</div>"
      ],
      "text/plain": [
       "                           sensor     value\n",
       "datetime                                   \n",
       "2009-02-19 18:35:43.447570  AD1-B  0.509695"
      ]
     },
     "execution_count": 117,
     "metadata": {},
     "output_type": "execute_result"
    }
   ],
   "source": [
    "f_inds = df_numeric.value.str.endswith('F')\n",
    "\n",
    "df_numeric.loc[f_inds, 'value'] = df_numeric.loc[f_inds, 'value'].str[:-1]\n",
    "\n",
    "df_numeric.loc[f_inds]"
   ]
  },
  {
   "cell_type": "markdown",
   "metadata": {
    "slideshow": {
     "slide_type": "subslide"
    }
   },
   "source": [
    "We can now map all data to floating point numbers"
   ]
  },
  {
   "cell_type": "code",
   "execution_count": 118,
   "metadata": {
    "collapsed": true,
    "slideshow": {
     "slide_type": "fragment"
    }
   },
   "outputs": [],
   "source": [
    "df_numeric.value = df_numeric.value.map(float)"
   ]
  },
  {
   "cell_type": "markdown",
   "metadata": {
    "slideshow": {
     "slide_type": "fragment"
    }
   },
   "source": [
    "There are only three numeric sensor types, as we can see with the `unique` member function:"
   ]
  },
  {
   "cell_type": "code",
   "execution_count": 119,
   "metadata": {
    "slideshow": {
     "slide_type": "fragment"
    }
   },
   "outputs": [
    {
     "data": {
      "text/plain": [
       "array(['AD1-A', 'AD1-B', 'AD1-C'], dtype=object)"
      ]
     },
     "execution_count": 119,
     "metadata": {},
     "output_type": "execute_result"
    }
   ],
   "source": [
    "unique_keys = df_numeric.sensor.unique()\n",
    "\n",
    "unique_keys"
   ]
  },
  {
   "cell_type": "markdown",
   "metadata": {
    "slideshow": {
     "slide_type": "subslide"
    }
   },
   "source": [
    "Create some new columns for the three sensors (`AD1-A`, `AD1-B`, and `AD1-C`), and merge with the original data frame"
   ]
  },
  {
   "cell_type": "code",
   "execution_count": 120,
   "metadata": {
    "slideshow": {
     "slide_type": "fragment"
    }
   },
   "outputs": [
    {
     "data": {
      "text/html": [
       "<div>\n",
       "<style>\n",
       "    .dataframe thead tr:only-child th {\n",
       "        text-align: right;\n",
       "    }\n",
       "\n",
       "    .dataframe thead th {\n",
       "        text-align: left;\n",
       "    }\n",
       "\n",
       "    .dataframe tbody tr th {\n",
       "        vertical-align: top;\n",
       "    }\n",
       "</style>\n",
       "<table border=\"1\" class=\"dataframe\">\n",
       "  <thead>\n",
       "    <tr style=\"text-align: right;\">\n",
       "      <th></th>\n",
       "      <th>value</th>\n",
       "      <th>AD1-A</th>\n",
       "      <th>AD1-B</th>\n",
       "      <th>AD1-C</th>\n",
       "    </tr>\n",
       "    <tr>\n",
       "      <th>datetime</th>\n",
       "      <th></th>\n",
       "      <th></th>\n",
       "      <th></th>\n",
       "      <th></th>\n",
       "    </tr>\n",
       "  </thead>\n",
       "  <tbody>\n",
       "    <tr>\n",
       "      <th>2009-02-02 07:15:21.408519</th>\n",
       "      <td>2.82231</td>\n",
       "      <td>1</td>\n",
       "      <td>0</td>\n",
       "      <td>0</td>\n",
       "    </tr>\n",
       "    <tr>\n",
       "      <th>2009-02-02 07:15:27.529299</th>\n",
       "      <td>2.79926</td>\n",
       "      <td>1</td>\n",
       "      <td>0</td>\n",
       "      <td>0</td>\n",
       "    </tr>\n",
       "    <tr>\n",
       "      <th>2009-02-02 07:48:10.647809</th>\n",
       "      <td>2.82754</td>\n",
       "      <td>1</td>\n",
       "      <td>0</td>\n",
       "      <td>0</td>\n",
       "    </tr>\n",
       "    <tr>\n",
       "      <th>2009-02-02 07:48:16.658869</th>\n",
       "      <td>2.79770</td>\n",
       "      <td>1</td>\n",
       "      <td>0</td>\n",
       "      <td>0</td>\n",
       "    </tr>\n",
       "    <tr>\n",
       "      <th>2009-02-02 07:49:47.980269</th>\n",
       "      <td>2.81895</td>\n",
       "      <td>1</td>\n",
       "      <td>0</td>\n",
       "      <td>0</td>\n",
       "    </tr>\n",
       "  </tbody>\n",
       "</table>\n",
       "</div>"
      ],
      "text/plain": [
       "                              value  AD1-A  AD1-B  AD1-C\n",
       "datetime                                                \n",
       "2009-02-02 07:15:21.408519  2.82231      1      0      0\n",
       "2009-02-02 07:15:27.529299  2.79926      1      0      0\n",
       "2009-02-02 07:48:10.647809  2.82754      1      0      0\n",
       "2009-02-02 07:48:16.658869  2.79770      1      0      0\n",
       "2009-02-02 07:49:47.980269  2.81895      1      0      0"
      ]
     },
     "execution_count": 120,
     "metadata": {},
     "output_type": "execute_result"
    }
   ],
   "source": [
    "df_numeric = pd.merge(df_numeric[['value']], pd.get_dummies(df_numeric.sensor), left_index=True, right_index=True)\n",
    "\n",
    "df_numeric.head()"
   ]
  },
  {
   "cell_type": "code",
   "execution_count": 121,
   "metadata": {
    "slideshow": {
     "slide_type": "skip"
    }
   },
   "outputs": [
    {
     "data": {
      "text/html": [
       "<div>\n",
       "<style>\n",
       "    .dataframe thead tr:only-child th {\n",
       "        text-align: right;\n",
       "    }\n",
       "\n",
       "    .dataframe thead th {\n",
       "        text-align: left;\n",
       "    }\n",
       "\n",
       "    .dataframe tbody tr th {\n",
       "        vertical-align: top;\n",
       "    }\n",
       "</style>\n",
       "<table border=\"1\" class=\"dataframe\">\n",
       "  <thead>\n",
       "    <tr style=\"text-align: right;\">\n",
       "      <th></th>\n",
       "      <th>AD1-A</th>\n",
       "      <th>AD1-B</th>\n",
       "      <th>AD1-C</th>\n",
       "    </tr>\n",
       "    <tr>\n",
       "      <th>datetime</th>\n",
       "      <th></th>\n",
       "      <th></th>\n",
       "      <th></th>\n",
       "    </tr>\n",
       "  </thead>\n",
       "  <tbody>\n",
       "    <tr>\n",
       "      <th>2009-02-02 07:15:21.408519</th>\n",
       "      <td>2.82231</td>\n",
       "      <td>0.000000</td>\n",
       "      <td>0.000000</td>\n",
       "    </tr>\n",
       "    <tr>\n",
       "      <th>2009-02-02 07:15:27.529299</th>\n",
       "      <td>2.79926</td>\n",
       "      <td>0.000000</td>\n",
       "      <td>0.000000</td>\n",
       "    </tr>\n",
       "    <tr>\n",
       "      <th>2009-02-02 07:48:10.647809</th>\n",
       "      <td>2.82754</td>\n",
       "      <td>0.000000</td>\n",
       "      <td>0.000000</td>\n",
       "    </tr>\n",
       "    <tr>\n",
       "      <th>2009-02-02 07:48:16.658869</th>\n",
       "      <td>2.79770</td>\n",
       "      <td>0.000000</td>\n",
       "      <td>0.000000</td>\n",
       "    </tr>\n",
       "    <tr>\n",
       "      <th>2009-02-02 07:49:47.980269</th>\n",
       "      <td>2.81895</td>\n",
       "      <td>0.000000</td>\n",
       "      <td>0.000000</td>\n",
       "    </tr>\n",
       "    <tr>\n",
       "      <th>2009-02-02 07:49:50.450200</th>\n",
       "      <td>2.79606</td>\n",
       "      <td>0.000000</td>\n",
       "      <td>0.000000</td>\n",
       "    </tr>\n",
       "    <tr>\n",
       "      <th>2009-02-02 07:50:32.349950</th>\n",
       "      <td>2.82215</td>\n",
       "      <td>0.000000</td>\n",
       "      <td>0.000000</td>\n",
       "    </tr>\n",
       "    <tr>\n",
       "      <th>2009-02-02 07:50:41.483289</th>\n",
       "      <td>2.79707</td>\n",
       "      <td>0.000000</td>\n",
       "      <td>0.000000</td>\n",
       "    </tr>\n",
       "    <tr>\n",
       "      <th>2009-02-02 07:51:02.724829</th>\n",
       "      <td>2.81934</td>\n",
       "      <td>0.000000</td>\n",
       "      <td>0.000000</td>\n",
       "    </tr>\n",
       "    <tr>\n",
       "      <th>2009-02-02 07:52:08.488470</th>\n",
       "      <td>2.79411</td>\n",
       "      <td>0.000000</td>\n",
       "      <td>0.000000</td>\n",
       "    </tr>\n",
       "    <tr>\n",
       "      <th>2009-02-02 07:52:56.623310</th>\n",
       "      <td>2.81465</td>\n",
       "      <td>0.000000</td>\n",
       "      <td>0.000000</td>\n",
       "    </tr>\n",
       "    <tr>\n",
       "      <th>2009-02-02 07:53:52.378560</th>\n",
       "      <td>2.79106</td>\n",
       "      <td>0.000000</td>\n",
       "      <td>0.000000</td>\n",
       "    </tr>\n",
       "    <tr>\n",
       "      <th>2009-02-02 07:54:05.162839</th>\n",
       "      <td>2.81457</td>\n",
       "      <td>0.000000</td>\n",
       "      <td>0.000000</td>\n",
       "    </tr>\n",
       "    <tr>\n",
       "      <th>2009-02-02 10:20:15.554059</th>\n",
       "      <td>2.81887</td>\n",
       "      <td>0.000000</td>\n",
       "      <td>0.000000</td>\n",
       "    </tr>\n",
       "    <tr>\n",
       "      <th>2009-02-02 10:21:14.211980</th>\n",
       "      <td>2.79707</td>\n",
       "      <td>0.000000</td>\n",
       "      <td>0.000000</td>\n",
       "    </tr>\n",
       "    <tr>\n",
       "      <th>2009-02-02 10:23:24.749089</th>\n",
       "      <td>2.82340</td>\n",
       "      <td>0.000000</td>\n",
       "      <td>0.000000</td>\n",
       "    </tr>\n",
       "    <tr>\n",
       "      <th>2009-02-02 10:23:45.800649</th>\n",
       "      <td>2.79817</td>\n",
       "      <td>0.000000</td>\n",
       "      <td>0.000000</td>\n",
       "    </tr>\n",
       "    <tr>\n",
       "      <th>2009-02-02 10:24:57.506000</th>\n",
       "      <td>2.82231</td>\n",
       "      <td>0.000000</td>\n",
       "      <td>0.000000</td>\n",
       "    </tr>\n",
       "    <tr>\n",
       "      <th>2009-02-02 10:25:02.576770</th>\n",
       "      <td>2.79825</td>\n",
       "      <td>0.000000</td>\n",
       "      <td>0.000000</td>\n",
       "    </tr>\n",
       "    <tr>\n",
       "      <th>2009-02-02 10:25:22.848629</th>\n",
       "      <td>0.00000</td>\n",
       "      <td>0.095587</td>\n",
       "      <td>0.000000</td>\n",
       "    </tr>\n",
       "    <tr>\n",
       "      <th>2009-02-02 10:25:23.747489</th>\n",
       "      <td>0.00000</td>\n",
       "      <td>0.000000</td>\n",
       "      <td>0.443601</td>\n",
       "    </tr>\n",
       "    <tr>\n",
       "      <th>2009-02-02 10:25:27.374320</th>\n",
       "      <td>0.00000</td>\n",
       "      <td>0.000000</td>\n",
       "      <td>0.422897</td>\n",
       "    </tr>\n",
       "    <tr>\n",
       "      <th>2009-02-02 10:25:31.325390</th>\n",
       "      <td>0.00000</td>\n",
       "      <td>0.000000</td>\n",
       "      <td>0.037149</td>\n",
       "    </tr>\n",
       "    <tr>\n",
       "      <th>2009-02-02 10:25:35.079659</th>\n",
       "      <td>0.00000</td>\n",
       "      <td>0.033829</td>\n",
       "      <td>0.000000</td>\n",
       "    </tr>\n",
       "    <tr>\n",
       "      <th>2009-02-02 10:32:11.766249</th>\n",
       "      <td>2.81871</td>\n",
       "      <td>0.000000</td>\n",
       "      <td>0.000000</td>\n",
       "    </tr>\n",
       "    <tr>\n",
       "      <th>2009-02-02 10:32:50.318399</th>\n",
       "      <td>2.79848</td>\n",
       "      <td>0.000000</td>\n",
       "      <td>0.000000</td>\n",
       "    </tr>\n",
       "    <tr>\n",
       "      <th>2009-02-02 12:10:40.295500</th>\n",
       "      <td>2.79200</td>\n",
       "      <td>0.000000</td>\n",
       "      <td>0.000000</td>\n",
       "    </tr>\n",
       "    <tr>\n",
       "      <th>2009-02-02 12:11:52.545670</th>\n",
       "      <td>2.81340</td>\n",
       "      <td>0.000000</td>\n",
       "      <td>0.000000</td>\n",
       "    </tr>\n",
       "    <tr>\n",
       "      <th>2009-02-02 12:16:04.407840</th>\n",
       "      <td>2.79207</td>\n",
       "      <td>0.000000</td>\n",
       "      <td>0.000000</td>\n",
       "    </tr>\n",
       "    <tr>\n",
       "      <th>2009-02-02 12:16:22.468189</th>\n",
       "      <td>2.81348</td>\n",
       "      <td>0.000000</td>\n",
       "      <td>0.000000</td>\n",
       "    </tr>\n",
       "    <tr>\n",
       "      <th>...</th>\n",
       "      <td>...</td>\n",
       "      <td>...</td>\n",
       "      <td>...</td>\n",
       "    </tr>\n",
       "    <tr>\n",
       "      <th>2009-04-03 17:54:39.025120</th>\n",
       "      <td>0.00000</td>\n",
       "      <td>0.000000</td>\n",
       "      <td>0.078243</td>\n",
       "    </tr>\n",
       "    <tr>\n",
       "      <th>2009-04-03 17:54:42.146630</th>\n",
       "      <td>0.00000</td>\n",
       "      <td>0.000000</td>\n",
       "      <td>0.033126</td>\n",
       "    </tr>\n",
       "    <tr>\n",
       "      <th>2009-04-03 17:57:27.706300</th>\n",
       "      <td>0.00000</td>\n",
       "      <td>0.000000</td>\n",
       "      <td>0.122853</td>\n",
       "    </tr>\n",
       "    <tr>\n",
       "      <th>2009-04-03 17:57:30.264559</th>\n",
       "      <td>0.00000</td>\n",
       "      <td>0.000000</td>\n",
       "      <td>0.036212</td>\n",
       "    </tr>\n",
       "    <tr>\n",
       "      <th>2009-04-03 17:57:36.129719</th>\n",
       "      <td>0.00000</td>\n",
       "      <td>0.000000</td>\n",
       "      <td>0.101369</td>\n",
       "    </tr>\n",
       "    <tr>\n",
       "      <th>2009-04-03 17:57:39.049669</th>\n",
       "      <td>0.00000</td>\n",
       "      <td>0.000000</td>\n",
       "      <td>0.036212</td>\n",
       "    </tr>\n",
       "    <tr>\n",
       "      <th>2009-04-03 18:01:35.484210</th>\n",
       "      <td>2.82059</td>\n",
       "      <td>0.000000</td>\n",
       "      <td>0.000000</td>\n",
       "    </tr>\n",
       "    <tr>\n",
       "      <th>2009-04-03 18:01:44.385390</th>\n",
       "      <td>2.79801</td>\n",
       "      <td>0.000000</td>\n",
       "      <td>0.000000</td>\n",
       "    </tr>\n",
       "    <tr>\n",
       "      <th>2009-04-03 18:02:59.700839</th>\n",
       "      <td>2.81825</td>\n",
       "      <td>0.000000</td>\n",
       "      <td>0.000000</td>\n",
       "    </tr>\n",
       "    <tr>\n",
       "      <th>2009-04-03 18:03:17.568710</th>\n",
       "      <td>2.79301</td>\n",
       "      <td>0.000000</td>\n",
       "      <td>0.000000</td>\n",
       "    </tr>\n",
       "    <tr>\n",
       "      <th>2009-04-03 18:04:04.460629</th>\n",
       "      <td>2.82137</td>\n",
       "      <td>0.000000</td>\n",
       "      <td>0.000000</td>\n",
       "    </tr>\n",
       "    <tr>\n",
       "      <th>2009-04-03 18:04:07.447590</th>\n",
       "      <td>2.79871</td>\n",
       "      <td>0.000000</td>\n",
       "      <td>0.000000</td>\n",
       "    </tr>\n",
       "    <tr>\n",
       "      <th>2009-04-03 18:05:19.673180</th>\n",
       "      <td>2.81918</td>\n",
       "      <td>0.000000</td>\n",
       "      <td>0.000000</td>\n",
       "    </tr>\n",
       "    <tr>\n",
       "      <th>2009-04-03 18:05:34.519999</th>\n",
       "      <td>2.79653</td>\n",
       "      <td>0.000000</td>\n",
       "      <td>0.000000</td>\n",
       "    </tr>\n",
       "    <tr>\n",
       "      <th>2009-04-03 18:06:31.437920</th>\n",
       "      <td>2.82371</td>\n",
       "      <td>0.000000</td>\n",
       "      <td>0.000000</td>\n",
       "    </tr>\n",
       "    <tr>\n",
       "      <th>2009-04-03 18:06:37.551520</th>\n",
       "      <td>2.79668</td>\n",
       "      <td>0.000000</td>\n",
       "      <td>0.000000</td>\n",
       "    </tr>\n",
       "    <tr>\n",
       "      <th>2009-04-03 18:07:25.596329</th>\n",
       "      <td>2.81981</td>\n",
       "      <td>0.000000</td>\n",
       "      <td>0.000000</td>\n",
       "    </tr>\n",
       "    <tr>\n",
       "      <th>2009-04-03 18:07:46.635940</th>\n",
       "      <td>2.79590</td>\n",
       "      <td>0.000000</td>\n",
       "      <td>0.000000</td>\n",
       "    </tr>\n",
       "    <tr>\n",
       "      <th>2009-04-03 18:09:13.567869</th>\n",
       "      <td>2.81598</td>\n",
       "      <td>0.000000</td>\n",
       "      <td>0.000000</td>\n",
       "    </tr>\n",
       "    <tr>\n",
       "      <th>2009-04-03 18:09:52.518749</th>\n",
       "      <td>2.79559</td>\n",
       "      <td>0.000000</td>\n",
       "      <td>0.000000</td>\n",
       "    </tr>\n",
       "    <tr>\n",
       "      <th>2009-04-03 18:09:55.384219</th>\n",
       "      <td>2.81676</td>\n",
       "      <td>0.000000</td>\n",
       "      <td>0.000000</td>\n",
       "    </tr>\n",
       "    <tr>\n",
       "      <th>2009-04-03 18:10:49.731149</th>\n",
       "      <td>2.79668</td>\n",
       "      <td>0.000000</td>\n",
       "      <td>0.000000</td>\n",
       "    </tr>\n",
       "    <tr>\n",
       "      <th>2009-04-03 18:11:43.466739</th>\n",
       "      <td>2.81723</td>\n",
       "      <td>0.000000</td>\n",
       "      <td>0.000000</td>\n",
       "    </tr>\n",
       "    <tr>\n",
       "      <th>2009-04-03 18:11:52.419399</th>\n",
       "      <td>2.79528</td>\n",
       "      <td>0.000000</td>\n",
       "      <td>0.000000</td>\n",
       "    </tr>\n",
       "    <tr>\n",
       "      <th>2009-04-03 18:11:58.777689</th>\n",
       "      <td>2.81528</td>\n",
       "      <td>0.000000</td>\n",
       "      <td>0.000000</td>\n",
       "    </tr>\n",
       "    <tr>\n",
       "      <th>2009-04-03 18:13:07.618079</th>\n",
       "      <td>2.79504</td>\n",
       "      <td>0.000000</td>\n",
       "      <td>0.000000</td>\n",
       "    </tr>\n",
       "    <tr>\n",
       "      <th>2009-04-03 18:13:45.458260</th>\n",
       "      <td>2.82231</td>\n",
       "      <td>0.000000</td>\n",
       "      <td>0.000000</td>\n",
       "    </tr>\n",
       "    <tr>\n",
       "      <th>2009-04-03 18:13:48.585030</th>\n",
       "      <td>2.80207</td>\n",
       "      <td>0.000000</td>\n",
       "      <td>0.000000</td>\n",
       "    </tr>\n",
       "    <tr>\n",
       "      <th>2009-04-03 18:14:24.679579</th>\n",
       "      <td>2.82731</td>\n",
       "      <td>0.000000</td>\n",
       "      <td>0.000000</td>\n",
       "    </tr>\n",
       "    <tr>\n",
       "      <th>2009-04-03 18:14:30.627379</th>\n",
       "      <td>2.80684</td>\n",
       "      <td>0.000000</td>\n",
       "      <td>0.000000</td>\n",
       "    </tr>\n",
       "  </tbody>\n",
       "</table>\n",
       "<p>7693 rows × 3 columns</p>\n",
       "</div>"
      ],
      "text/plain": [
       "                              AD1-A     AD1-B     AD1-C\n",
       "datetime                                               \n",
       "2009-02-02 07:15:21.408519  2.82231  0.000000  0.000000\n",
       "2009-02-02 07:15:27.529299  2.79926  0.000000  0.000000\n",
       "2009-02-02 07:48:10.647809  2.82754  0.000000  0.000000\n",
       "2009-02-02 07:48:16.658869  2.79770  0.000000  0.000000\n",
       "2009-02-02 07:49:47.980269  2.81895  0.000000  0.000000\n",
       "2009-02-02 07:49:50.450200  2.79606  0.000000  0.000000\n",
       "2009-02-02 07:50:32.349950  2.82215  0.000000  0.000000\n",
       "2009-02-02 07:50:41.483289  2.79707  0.000000  0.000000\n",
       "2009-02-02 07:51:02.724829  2.81934  0.000000  0.000000\n",
       "2009-02-02 07:52:08.488470  2.79411  0.000000  0.000000\n",
       "2009-02-02 07:52:56.623310  2.81465  0.000000  0.000000\n",
       "2009-02-02 07:53:52.378560  2.79106  0.000000  0.000000\n",
       "2009-02-02 07:54:05.162839  2.81457  0.000000  0.000000\n",
       "2009-02-02 10:20:15.554059  2.81887  0.000000  0.000000\n",
       "2009-02-02 10:21:14.211980  2.79707  0.000000  0.000000\n",
       "2009-02-02 10:23:24.749089  2.82340  0.000000  0.000000\n",
       "2009-02-02 10:23:45.800649  2.79817  0.000000  0.000000\n",
       "2009-02-02 10:24:57.506000  2.82231  0.000000  0.000000\n",
       "2009-02-02 10:25:02.576770  2.79825  0.000000  0.000000\n",
       "2009-02-02 10:25:22.848629  0.00000  0.095587  0.000000\n",
       "2009-02-02 10:25:23.747489  0.00000  0.000000  0.443601\n",
       "2009-02-02 10:25:27.374320  0.00000  0.000000  0.422897\n",
       "2009-02-02 10:25:31.325390  0.00000  0.000000  0.037149\n",
       "2009-02-02 10:25:35.079659  0.00000  0.033829  0.000000\n",
       "2009-02-02 10:32:11.766249  2.81871  0.000000  0.000000\n",
       "2009-02-02 10:32:50.318399  2.79848  0.000000  0.000000\n",
       "2009-02-02 12:10:40.295500  2.79200  0.000000  0.000000\n",
       "2009-02-02 12:11:52.545670  2.81340  0.000000  0.000000\n",
       "2009-02-02 12:16:04.407840  2.79207  0.000000  0.000000\n",
       "2009-02-02 12:16:22.468189  2.81348  0.000000  0.000000\n",
       "...                             ...       ...       ...\n",
       "2009-04-03 17:54:39.025120  0.00000  0.000000  0.078243\n",
       "2009-04-03 17:54:42.146630  0.00000  0.000000  0.033126\n",
       "2009-04-03 17:57:27.706300  0.00000  0.000000  0.122853\n",
       "2009-04-03 17:57:30.264559  0.00000  0.000000  0.036212\n",
       "2009-04-03 17:57:36.129719  0.00000  0.000000  0.101369\n",
       "2009-04-03 17:57:39.049669  0.00000  0.000000  0.036212\n",
       "2009-04-03 18:01:35.484210  2.82059  0.000000  0.000000\n",
       "2009-04-03 18:01:44.385390  2.79801  0.000000  0.000000\n",
       "2009-04-03 18:02:59.700839  2.81825  0.000000  0.000000\n",
       "2009-04-03 18:03:17.568710  2.79301  0.000000  0.000000\n",
       "2009-04-03 18:04:04.460629  2.82137  0.000000  0.000000\n",
       "2009-04-03 18:04:07.447590  2.79871  0.000000  0.000000\n",
       "2009-04-03 18:05:19.673180  2.81918  0.000000  0.000000\n",
       "2009-04-03 18:05:34.519999  2.79653  0.000000  0.000000\n",
       "2009-04-03 18:06:31.437920  2.82371  0.000000  0.000000\n",
       "2009-04-03 18:06:37.551520  2.79668  0.000000  0.000000\n",
       "2009-04-03 18:07:25.596329  2.81981  0.000000  0.000000\n",
       "2009-04-03 18:07:46.635940  2.79590  0.000000  0.000000\n",
       "2009-04-03 18:09:13.567869  2.81598  0.000000  0.000000\n",
       "2009-04-03 18:09:52.518749  2.79559  0.000000  0.000000\n",
       "2009-04-03 18:09:55.384219  2.81676  0.000000  0.000000\n",
       "2009-04-03 18:10:49.731149  2.79668  0.000000  0.000000\n",
       "2009-04-03 18:11:43.466739  2.81723  0.000000  0.000000\n",
       "2009-04-03 18:11:52.419399  2.79528  0.000000  0.000000\n",
       "2009-04-03 18:11:58.777689  2.81528  0.000000  0.000000\n",
       "2009-04-03 18:13:07.618079  2.79504  0.000000  0.000000\n",
       "2009-04-03 18:13:45.458260  2.82231  0.000000  0.000000\n",
       "2009-04-03 18:13:48.585030  2.80207  0.000000  0.000000\n",
       "2009-04-03 18:14:24.679579  2.82731  0.000000  0.000000\n",
       "2009-04-03 18:14:30.627379  2.80684  0.000000  0.000000\n",
       "\n",
       "[7693 rows x 3 columns]"
      ]
     },
     "execution_count": 121,
     "metadata": {},
     "output_type": "execute_result"
    }
   ],
   "source": [
    "for key in unique_keys:\n",
    "    df_numeric[key] *= df_numeric.value\n",
    "\n",
    "df_numeric = df_numeric[unique_keys]\n",
    "\n",
    "# Print a larger sample of the data frame\n",
    "df_numeric"
   ]
  },
  {
   "cell_type": "markdown",
   "metadata": {
    "slideshow": {
     "slide_type": "slide"
    }
   },
   "source": [
    "## Merging categorical and numeric data together\n",
    "\n",
    "Since we have two dataframes (one for categorical data and one for numeric data). For any analysis, it would be useful to have these two in a unified data frame. \n",
    "\n",
    "First we will remind ourselves what the dataframes look like, and then these will be unified into one format. "
   ]
  },
  {
   "cell_type": "code",
   "execution_count": 122,
   "metadata": {
    "slideshow": {
     "slide_type": "subslide"
    }
   },
   "outputs": [
    {
     "data": {
      "text/html": [
       "<div>\n",
       "<style>\n",
       "    .dataframe thead tr:only-child th {\n",
       "        text-align: right;\n",
       "    }\n",
       "\n",
       "    .dataframe thead th {\n",
       "        text-align: left;\n",
       "    }\n",
       "\n",
       "    .dataframe tbody tr th {\n",
       "        vertical-align: top;\n",
       "    }\n",
       "</style>\n",
       "<table border=\"1\" class=\"dataframe\">\n",
       "  <thead>\n",
       "    <tr style=\"text-align: right;\">\n",
       "      <th></th>\n",
       "      <th>d03_close</th>\n",
       "      <th>d03_open</th>\n",
       "      <th>d05_open</th>\n",
       "      <th>d07_close</th>\n",
       "      <th>d07_open</th>\n",
       "      <th>d08_close</th>\n",
       "      <th>d08_open</th>\n",
       "      <th>d09_close</th>\n",
       "      <th>d09_open</th>\n",
       "      <th>d10_close</th>\n",
       "      <th>...</th>\n",
       "      <th>m47_off</th>\n",
       "      <th>m47_on</th>\n",
       "      <th>m48_off</th>\n",
       "      <th>m48_on</th>\n",
       "      <th>m49_off</th>\n",
       "      <th>m49_on</th>\n",
       "      <th>m50_off</th>\n",
       "      <th>m50_on</th>\n",
       "      <th>m51_off</th>\n",
       "      <th>m51_on</th>\n",
       "    </tr>\n",
       "    <tr>\n",
       "      <th>datetime</th>\n",
       "      <th></th>\n",
       "      <th></th>\n",
       "      <th></th>\n",
       "      <th></th>\n",
       "      <th></th>\n",
       "      <th></th>\n",
       "      <th></th>\n",
       "      <th></th>\n",
       "      <th></th>\n",
       "      <th></th>\n",
       "      <th></th>\n",
       "      <th></th>\n",
       "      <th></th>\n",
       "      <th></th>\n",
       "      <th></th>\n",
       "      <th></th>\n",
       "      <th></th>\n",
       "      <th></th>\n",
       "      <th></th>\n",
       "      <th></th>\n",
       "      <th></th>\n",
       "    </tr>\n",
       "  </thead>\n",
       "  <tbody>\n",
       "    <tr>\n",
       "      <th>2009-02-02 07:15:16.575809</th>\n",
       "      <td>0</td>\n",
       "      <td>0</td>\n",
       "      <td>0</td>\n",
       "      <td>0</td>\n",
       "      <td>0</td>\n",
       "      <td>0</td>\n",
       "      <td>0</td>\n",
       "      <td>0</td>\n",
       "      <td>0</td>\n",
       "      <td>0</td>\n",
       "      <td>...</td>\n",
       "      <td>0</td>\n",
       "      <td>0</td>\n",
       "      <td>0</td>\n",
       "      <td>0</td>\n",
       "      <td>0</td>\n",
       "      <td>0</td>\n",
       "      <td>0</td>\n",
       "      <td>0</td>\n",
       "      <td>0</td>\n",
       "      <td>0</td>\n",
       "    </tr>\n",
       "    <tr>\n",
       "      <th>2009-02-02 07:15:22.532789</th>\n",
       "      <td>0</td>\n",
       "      <td>0</td>\n",
       "      <td>0</td>\n",
       "      <td>0</td>\n",
       "      <td>0</td>\n",
       "      <td>0</td>\n",
       "      <td>0</td>\n",
       "      <td>0</td>\n",
       "      <td>0</td>\n",
       "      <td>0</td>\n",
       "      <td>...</td>\n",
       "      <td>0</td>\n",
       "      <td>0</td>\n",
       "      <td>0</td>\n",
       "      <td>0</td>\n",
       "      <td>0</td>\n",
       "      <td>0</td>\n",
       "      <td>0</td>\n",
       "      <td>0</td>\n",
       "      <td>0</td>\n",
       "      <td>0</td>\n",
       "    </tr>\n",
       "    <tr>\n",
       "      <th>2009-02-02 07:15:23.345479</th>\n",
       "      <td>0</td>\n",
       "      <td>0</td>\n",
       "      <td>0</td>\n",
       "      <td>0</td>\n",
       "      <td>0</td>\n",
       "      <td>0</td>\n",
       "      <td>0</td>\n",
       "      <td>0</td>\n",
       "      <td>0</td>\n",
       "      <td>0</td>\n",
       "      <td>...</td>\n",
       "      <td>0</td>\n",
       "      <td>0</td>\n",
       "      <td>0</td>\n",
       "      <td>0</td>\n",
       "      <td>0</td>\n",
       "      <td>0</td>\n",
       "      <td>0</td>\n",
       "      <td>0</td>\n",
       "      <td>0</td>\n",
       "      <td>0</td>\n",
       "    </tr>\n",
       "    <tr>\n",
       "      <th>2009-02-02 07:15:28.655329</th>\n",
       "      <td>0</td>\n",
       "      <td>0</td>\n",
       "      <td>0</td>\n",
       "      <td>0</td>\n",
       "      <td>0</td>\n",
       "      <td>0</td>\n",
       "      <td>0</td>\n",
       "      <td>0</td>\n",
       "      <td>0</td>\n",
       "      <td>0</td>\n",
       "      <td>...</td>\n",
       "      <td>0</td>\n",
       "      <td>0</td>\n",
       "      <td>0</td>\n",
       "      <td>0</td>\n",
       "      <td>0</td>\n",
       "      <td>0</td>\n",
       "      <td>0</td>\n",
       "      <td>0</td>\n",
       "      <td>0</td>\n",
       "      <td>0</td>\n",
       "    </tr>\n",
       "    <tr>\n",
       "      <th>2009-02-02 07:15:32.574290</th>\n",
       "      <td>0</td>\n",
       "      <td>0</td>\n",
       "      <td>0</td>\n",
       "      <td>0</td>\n",
       "      <td>0</td>\n",
       "      <td>0</td>\n",
       "      <td>0</td>\n",
       "      <td>0</td>\n",
       "      <td>0</td>\n",
       "      <td>0</td>\n",
       "      <td>...</td>\n",
       "      <td>0</td>\n",
       "      <td>0</td>\n",
       "      <td>0</td>\n",
       "      <td>0</td>\n",
       "      <td>0</td>\n",
       "      <td>0</td>\n",
       "      <td>0</td>\n",
       "      <td>0</td>\n",
       "      <td>0</td>\n",
       "      <td>0</td>\n",
       "    </tr>\n",
       "  </tbody>\n",
       "</table>\n",
       "<p>5 rows × 135 columns</p>\n",
       "</div>"
      ],
      "text/plain": [
       "                            d03_close  d03_open  d05_open  d07_close  \\\n",
       "datetime                                                               \n",
       "2009-02-02 07:15:16.575809          0         0         0          0   \n",
       "2009-02-02 07:15:22.532789          0         0         0          0   \n",
       "2009-02-02 07:15:23.345479          0         0         0          0   \n",
       "2009-02-02 07:15:28.655329          0         0         0          0   \n",
       "2009-02-02 07:15:32.574290          0         0         0          0   \n",
       "\n",
       "                            d07_open  d08_close  d08_open  d09_close  \\\n",
       "datetime                                                               \n",
       "2009-02-02 07:15:16.575809         0          0         0          0   \n",
       "2009-02-02 07:15:22.532789         0          0         0          0   \n",
       "2009-02-02 07:15:23.345479         0          0         0          0   \n",
       "2009-02-02 07:15:28.655329         0          0         0          0   \n",
       "2009-02-02 07:15:32.574290         0          0         0          0   \n",
       "\n",
       "                            d09_open  d10_close   ...    m47_off  m47_on  \\\n",
       "datetime                                          ...                      \n",
       "2009-02-02 07:15:16.575809         0          0   ...          0       0   \n",
       "2009-02-02 07:15:22.532789         0          0   ...          0       0   \n",
       "2009-02-02 07:15:23.345479         0          0   ...          0       0   \n",
       "2009-02-02 07:15:28.655329         0          0   ...          0       0   \n",
       "2009-02-02 07:15:32.574290         0          0   ...          0       0   \n",
       "\n",
       "                            m48_off  m48_on  m49_off  m49_on  m50_off  m50_on  \\\n",
       "datetime                                                                        \n",
       "2009-02-02 07:15:16.575809        0       0        0       0        0       0   \n",
       "2009-02-02 07:15:22.532789        0       0        0       0        0       0   \n",
       "2009-02-02 07:15:23.345479        0       0        0       0        0       0   \n",
       "2009-02-02 07:15:28.655329        0       0        0       0        0       0   \n",
       "2009-02-02 07:15:32.574290        0       0        0       0        0       0   \n",
       "\n",
       "                            m51_off  m51_on  \n",
       "datetime                                     \n",
       "2009-02-02 07:15:16.575809        0       0  \n",
       "2009-02-02 07:15:22.532789        0       0  \n",
       "2009-02-02 07:15:23.345479        0       0  \n",
       "2009-02-02 07:15:28.655329        0       0  \n",
       "2009-02-02 07:15:32.574290        0       0  \n",
       "\n",
       "[5 rows x 135 columns]"
      ]
     },
     "execution_count": 122,
     "metadata": {},
     "output_type": "execute_result"
    }
   ],
   "source": [
    "df_categorical_exploded.head()"
   ]
  },
  {
   "cell_type": "code",
   "execution_count": 123,
   "metadata": {
    "slideshow": {
     "slide_type": "subslide"
    }
   },
   "outputs": [
    {
     "data": {
      "text/html": [
       "<div>\n",
       "<style>\n",
       "    .dataframe thead tr:only-child th {\n",
       "        text-align: right;\n",
       "    }\n",
       "\n",
       "    .dataframe thead th {\n",
       "        text-align: left;\n",
       "    }\n",
       "\n",
       "    .dataframe tbody tr th {\n",
       "        vertical-align: top;\n",
       "    }\n",
       "</style>\n",
       "<table border=\"1\" class=\"dataframe\">\n",
       "  <thead>\n",
       "    <tr style=\"text-align: right;\">\n",
       "      <th></th>\n",
       "      <th>AD1-A</th>\n",
       "      <th>AD1-B</th>\n",
       "      <th>AD1-C</th>\n",
       "    </tr>\n",
       "    <tr>\n",
       "      <th>datetime</th>\n",
       "      <th></th>\n",
       "      <th></th>\n",
       "      <th></th>\n",
       "    </tr>\n",
       "  </thead>\n",
       "  <tbody>\n",
       "    <tr>\n",
       "      <th>2009-02-02 07:15:21.408519</th>\n",
       "      <td>2.82231</td>\n",
       "      <td>0.0</td>\n",
       "      <td>0.0</td>\n",
       "    </tr>\n",
       "    <tr>\n",
       "      <th>2009-02-02 07:15:27.529299</th>\n",
       "      <td>2.79926</td>\n",
       "      <td>0.0</td>\n",
       "      <td>0.0</td>\n",
       "    </tr>\n",
       "    <tr>\n",
       "      <th>2009-02-02 07:48:10.647809</th>\n",
       "      <td>2.82754</td>\n",
       "      <td>0.0</td>\n",
       "      <td>0.0</td>\n",
       "    </tr>\n",
       "    <tr>\n",
       "      <th>2009-02-02 07:48:16.658869</th>\n",
       "      <td>2.79770</td>\n",
       "      <td>0.0</td>\n",
       "      <td>0.0</td>\n",
       "    </tr>\n",
       "    <tr>\n",
       "      <th>2009-02-02 07:49:47.980269</th>\n",
       "      <td>2.81895</td>\n",
       "      <td>0.0</td>\n",
       "      <td>0.0</td>\n",
       "    </tr>\n",
       "  </tbody>\n",
       "</table>\n",
       "</div>"
      ],
      "text/plain": [
       "                              AD1-A  AD1-B  AD1-C\n",
       "datetime                                         \n",
       "2009-02-02 07:15:21.408519  2.82231    0.0    0.0\n",
       "2009-02-02 07:15:27.529299  2.79926    0.0    0.0\n",
       "2009-02-02 07:48:10.647809  2.82754    0.0    0.0\n",
       "2009-02-02 07:48:16.658869  2.79770    0.0    0.0\n",
       "2009-02-02 07:49:47.980269  2.81895    0.0    0.0"
      ]
     },
     "execution_count": 123,
     "metadata": {},
     "output_type": "execute_result"
    }
   ],
   "source": [
    "df_numeric.head()"
   ]
  },
  {
   "cell_type": "markdown",
   "metadata": {
    "slideshow": {
     "slide_type": "subslide"
    }
   },
   "source": [
    "We will use the `pandas.merge` function to join the two dataframes. In this case, we must use more of its functionality. We will merge on the `index` of the categorical and numeric dataframes. However, since none of these timestamps are shared (refer to the original data frame) we will do the merge with an `\"outer\"` join. "
   ]
  },
  {
   "cell_type": "code",
   "execution_count": 124,
   "metadata": {
    "scrolled": true,
    "slideshow": {
     "slide_type": "subslide"
    }
   },
   "outputs": [
    {
     "data": {
      "text/html": [
       "<div>\n",
       "<style>\n",
       "    .dataframe thead tr:only-child th {\n",
       "        text-align: right;\n",
       "    }\n",
       "\n",
       "    .dataframe thead th {\n",
       "        text-align: left;\n",
       "    }\n",
       "\n",
       "    .dataframe tbody tr th {\n",
       "        vertical-align: top;\n",
       "    }\n",
       "</style>\n",
       "<table border=\"1\" class=\"dataframe\">\n",
       "  <thead>\n",
       "    <tr style=\"text-align: right;\">\n",
       "      <th></th>\n",
       "      <th>d03_close</th>\n",
       "      <th>d03_open</th>\n",
       "      <th>d05_open</th>\n",
       "      <th>d07_close</th>\n",
       "      <th>d07_open</th>\n",
       "      <th>d08_close</th>\n",
       "      <th>d08_open</th>\n",
       "      <th>d09_close</th>\n",
       "      <th>d09_open</th>\n",
       "      <th>d10_close</th>\n",
       "      <th>...</th>\n",
       "      <th>m48_on</th>\n",
       "      <th>m49_off</th>\n",
       "      <th>m49_on</th>\n",
       "      <th>m50_off</th>\n",
       "      <th>m50_on</th>\n",
       "      <th>m51_off</th>\n",
       "      <th>m51_on</th>\n",
       "      <th>AD1-A</th>\n",
       "      <th>AD1-B</th>\n",
       "      <th>AD1-C</th>\n",
       "    </tr>\n",
       "    <tr>\n",
       "      <th>datetime</th>\n",
       "      <th></th>\n",
       "      <th></th>\n",
       "      <th></th>\n",
       "      <th></th>\n",
       "      <th></th>\n",
       "      <th></th>\n",
       "      <th></th>\n",
       "      <th></th>\n",
       "      <th></th>\n",
       "      <th></th>\n",
       "      <th></th>\n",
       "      <th></th>\n",
       "      <th></th>\n",
       "      <th></th>\n",
       "      <th></th>\n",
       "      <th></th>\n",
       "      <th></th>\n",
       "      <th></th>\n",
       "      <th></th>\n",
       "      <th></th>\n",
       "      <th></th>\n",
       "    </tr>\n",
       "  </thead>\n",
       "  <tbody>\n",
       "    <tr>\n",
       "      <th>2009-02-02 07:15:16.575809</th>\n",
       "      <td>0.0</td>\n",
       "      <td>0.0</td>\n",
       "      <td>0.0</td>\n",
       "      <td>0.0</td>\n",
       "      <td>0.0</td>\n",
       "      <td>0.0</td>\n",
       "      <td>0.0</td>\n",
       "      <td>0.0</td>\n",
       "      <td>0.0</td>\n",
       "      <td>0.0</td>\n",
       "      <td>...</td>\n",
       "      <td>0.0</td>\n",
       "      <td>0.0</td>\n",
       "      <td>0.0</td>\n",
       "      <td>0.0</td>\n",
       "      <td>0.0</td>\n",
       "      <td>0.0</td>\n",
       "      <td>0.0</td>\n",
       "      <td>NaN</td>\n",
       "      <td>NaN</td>\n",
       "      <td>NaN</td>\n",
       "    </tr>\n",
       "    <tr>\n",
       "      <th>2009-02-02 07:15:21.408519</th>\n",
       "      <td>NaN</td>\n",
       "      <td>NaN</td>\n",
       "      <td>NaN</td>\n",
       "      <td>NaN</td>\n",
       "      <td>NaN</td>\n",
       "      <td>NaN</td>\n",
       "      <td>NaN</td>\n",
       "      <td>NaN</td>\n",
       "      <td>NaN</td>\n",
       "      <td>NaN</td>\n",
       "      <td>...</td>\n",
       "      <td>NaN</td>\n",
       "      <td>NaN</td>\n",
       "      <td>NaN</td>\n",
       "      <td>NaN</td>\n",
       "      <td>NaN</td>\n",
       "      <td>NaN</td>\n",
       "      <td>NaN</td>\n",
       "      <td>2.82231</td>\n",
       "      <td>0.0</td>\n",
       "      <td>0.0</td>\n",
       "    </tr>\n",
       "    <tr>\n",
       "      <th>2009-02-02 07:15:22.532789</th>\n",
       "      <td>0.0</td>\n",
       "      <td>0.0</td>\n",
       "      <td>0.0</td>\n",
       "      <td>0.0</td>\n",
       "      <td>0.0</td>\n",
       "      <td>0.0</td>\n",
       "      <td>0.0</td>\n",
       "      <td>0.0</td>\n",
       "      <td>0.0</td>\n",
       "      <td>0.0</td>\n",
       "      <td>...</td>\n",
       "      <td>0.0</td>\n",
       "      <td>0.0</td>\n",
       "      <td>0.0</td>\n",
       "      <td>0.0</td>\n",
       "      <td>0.0</td>\n",
       "      <td>0.0</td>\n",
       "      <td>0.0</td>\n",
       "      <td>NaN</td>\n",
       "      <td>NaN</td>\n",
       "      <td>NaN</td>\n",
       "    </tr>\n",
       "    <tr>\n",
       "      <th>2009-02-02 07:15:23.345479</th>\n",
       "      <td>0.0</td>\n",
       "      <td>0.0</td>\n",
       "      <td>0.0</td>\n",
       "      <td>0.0</td>\n",
       "      <td>0.0</td>\n",
       "      <td>0.0</td>\n",
       "      <td>0.0</td>\n",
       "      <td>0.0</td>\n",
       "      <td>0.0</td>\n",
       "      <td>0.0</td>\n",
       "      <td>...</td>\n",
       "      <td>0.0</td>\n",
       "      <td>0.0</td>\n",
       "      <td>0.0</td>\n",
       "      <td>0.0</td>\n",
       "      <td>0.0</td>\n",
       "      <td>0.0</td>\n",
       "      <td>0.0</td>\n",
       "      <td>NaN</td>\n",
       "      <td>NaN</td>\n",
       "      <td>NaN</td>\n",
       "    </tr>\n",
       "    <tr>\n",
       "      <th>2009-02-02 07:15:27.529299</th>\n",
       "      <td>NaN</td>\n",
       "      <td>NaN</td>\n",
       "      <td>NaN</td>\n",
       "      <td>NaN</td>\n",
       "      <td>NaN</td>\n",
       "      <td>NaN</td>\n",
       "      <td>NaN</td>\n",
       "      <td>NaN</td>\n",
       "      <td>NaN</td>\n",
       "      <td>NaN</td>\n",
       "      <td>...</td>\n",
       "      <td>NaN</td>\n",
       "      <td>NaN</td>\n",
       "      <td>NaN</td>\n",
       "      <td>NaN</td>\n",
       "      <td>NaN</td>\n",
       "      <td>NaN</td>\n",
       "      <td>NaN</td>\n",
       "      <td>2.79926</td>\n",
       "      <td>0.0</td>\n",
       "      <td>0.0</td>\n",
       "    </tr>\n",
       "  </tbody>\n",
       "</table>\n",
       "<p>5 rows × 138 columns</p>\n",
       "</div>"
      ],
      "text/plain": [
       "                            d03_close  d03_open  d05_open  d07_close  \\\n",
       "datetime                                                               \n",
       "2009-02-02 07:15:16.575809        0.0       0.0       0.0        0.0   \n",
       "2009-02-02 07:15:21.408519        NaN       NaN       NaN        NaN   \n",
       "2009-02-02 07:15:22.532789        0.0       0.0       0.0        0.0   \n",
       "2009-02-02 07:15:23.345479        0.0       0.0       0.0        0.0   \n",
       "2009-02-02 07:15:27.529299        NaN       NaN       NaN        NaN   \n",
       "\n",
       "                            d07_open  d08_close  d08_open  d09_close  \\\n",
       "datetime                                                               \n",
       "2009-02-02 07:15:16.575809       0.0        0.0       0.0        0.0   \n",
       "2009-02-02 07:15:21.408519       NaN        NaN       NaN        NaN   \n",
       "2009-02-02 07:15:22.532789       0.0        0.0       0.0        0.0   \n",
       "2009-02-02 07:15:23.345479       0.0        0.0       0.0        0.0   \n",
       "2009-02-02 07:15:27.529299       NaN        NaN       NaN        NaN   \n",
       "\n",
       "                            d09_open  d10_close  ...    m48_on  m49_off  \\\n",
       "datetime                                         ...                      \n",
       "2009-02-02 07:15:16.575809       0.0        0.0  ...       0.0      0.0   \n",
       "2009-02-02 07:15:21.408519       NaN        NaN  ...       NaN      NaN   \n",
       "2009-02-02 07:15:22.532789       0.0        0.0  ...       0.0      0.0   \n",
       "2009-02-02 07:15:23.345479       0.0        0.0  ...       0.0      0.0   \n",
       "2009-02-02 07:15:27.529299       NaN        NaN  ...       NaN      NaN   \n",
       "\n",
       "                            m49_on  m50_off  m50_on  m51_off  m51_on    AD1-A  \\\n",
       "datetime                                                                        \n",
       "2009-02-02 07:15:16.575809     0.0      0.0     0.0      0.0     0.0      NaN   \n",
       "2009-02-02 07:15:21.408519     NaN      NaN     NaN      NaN     NaN  2.82231   \n",
       "2009-02-02 07:15:22.532789     0.0      0.0     0.0      0.0     0.0      NaN   \n",
       "2009-02-02 07:15:23.345479     0.0      0.0     0.0      0.0     0.0      NaN   \n",
       "2009-02-02 07:15:27.529299     NaN      NaN     NaN      NaN     NaN  2.79926   \n",
       "\n",
       "                            AD1-B  AD1-C  \n",
       "datetime                                  \n",
       "2009-02-02 07:15:16.575809    NaN    NaN  \n",
       "2009-02-02 07:15:21.408519    0.0    0.0  \n",
       "2009-02-02 07:15:22.532789    NaN    NaN  \n",
       "2009-02-02 07:15:23.345479    NaN    NaN  \n",
       "2009-02-02 07:15:27.529299    0.0    0.0  \n",
       "\n",
       "[5 rows x 138 columns]"
      ]
     },
     "execution_count": 124,
     "metadata": {},
     "output_type": "execute_result"
    }
   ],
   "source": [
    "df_joined = pd.merge(\n",
    "    df_categorical_exploded, \n",
    "    df_numeric, \n",
    "    left_index=True, \n",
    "    right_index=True,\n",
    "    how='outer'\n",
    ")\n",
    "df_joined.head()"
   ]
  },
  {
   "cell_type": "markdown",
   "metadata": {
    "slideshow": {
     "slide_type": "subslide"
    }
   },
   "source": [
    "Note, that in merging the dataframes, we now have a time-ordered dataframe. This is one of the advantages of using `datetime`s as the index type in dataframes since `pandas` will understand precisely how to merge the two datasets. "
   ]
  }
 ],
 "metadata": {
  "celltoolbar": "Slideshow",
  "kernelspec": {
   "display_name": "Python 2",
   "language": "python",
   "name": "python2"
  },
  "language_info": {
   "codemirror_mode": {
    "name": "ipython",
    "version": 2
   },
   "file_extension": ".py",
   "mimetype": "text/x-python",
   "name": "python",
   "nbconvert_exporter": "python",
   "pygments_lexer": "ipython2",
   "version": "2.7.12"
  }
 },
 "nbformat": 4,
 "nbformat_minor": 2
}
